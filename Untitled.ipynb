{
 "cells": [
  {
   "cell_type": "code",
   "execution_count": 104,
   "metadata": {},
   "outputs": [
    {
     "name": "stdout",
     "output_type": "stream",
     "text": [
      "Requirement already up-to-date: numpy in d:\\programs\\anaconda3\\lib\\site-packages (1.19.4)\n"
     ]
    }
   ],
   "source": [
    "import shap\n",
    "import numpy as np\n",
    "import pandas as pd\n",
    "from pprint import pprint\n",
    "from sklearn.ensemble import RandomForestRegressor\n",
    "from sklearn.model_selection import RandomizedSearchCV, train_test_split\n",
    "from sklearn.manifold import TSNE\n",
    "from matplotlib import pyplot as plt\n",
    "from matplotlib.colors import LinearSegmentedColormap\n",
    "from matplotlib.ticker import MaxNLocator\n",
    "from seaborn import kdeplot\n",
    "from pickle import dump, load\n",
    "from astropy import units as u\n",
    "from astropy.coordinates import SkyCoord\n",
    "!pip install --upgrade numpy"
   ]
  },
  {
   "cell_type": "code",
   "execution_count": 46,
   "metadata": {},
   "outputs": [],
   "source": [
    "c = SkyCoord(ra=1*u.degree, dec=1*u.degree, distance=1, frame='icrs')"
   ]
  },
  {
   "cell_type": "code",
   "execution_count": 47,
   "metadata": {},
   "outputs": [
    {
     "data": {
      "text/latex": [
       "$1 \\; \\mathrm{}$"
      ],
      "text/plain": [
       "<Quantity 1.>"
      ]
     },
     "execution_count": 47,
     "metadata": {},
     "output_type": "execute_result"
    }
   ],
   "source": [
    "np.sqrt(c.icrs.galactic.cartesian.x**2+c.icrs.galactic.cartesian.y**2+c.icrs.galactic.cartesian.z**2)"
   ]
  },
  {
   "cell_type": "code",
   "execution_count": 15,
   "metadata": {},
   "outputs": [],
   "source": [
    "df = pd.read_csv(\"merc_plut_pall_juno.csv\")"
   ]
  },
  {
   "cell_type": "code",
   "execution_count": 21,
   "metadata": {},
   "outputs": [
    {
     "data": {
      "text/html": [
       "<div>\n",
       "<style scoped>\n",
       "    .dataframe tbody tr th:only-of-type {\n",
       "        vertical-align: middle;\n",
       "    }\n",
       "\n",
       "    .dataframe tbody tr th {\n",
       "        vertical-align: top;\n",
       "    }\n",
       "\n",
       "    .dataframe thead th {\n",
       "        text-align: right;\n",
       "    }\n",
       "</style>\n",
       "<table border=\"1\" class=\"dataframe\">\n",
       "  <thead>\n",
       "    <tr style=\"text-align: right;\">\n",
       "      <th></th>\n",
       "      <th>Unnamed: 0</th>\n",
       "      <th>JD</th>\n",
       "      <th>Body</th>\n",
       "      <th>RA</th>\n",
       "      <th>Dec</th>\n",
       "      <th>Az</th>\n",
       "      <th>Alt</th>\n",
       "      <th>Dist</th>\n",
       "      <th>Dist_Sun</th>\n",
       "      <th>Const</th>\n",
       "    </tr>\n",
       "  </thead>\n",
       "  <tbody>\n",
       "    <tr>\n",
       "      <th>0</th>\n",
       "      <td>0</td>\n",
       "      <td>2269653.5</td>\n",
       "      <td>Mercury</td>\n",
       "      <td>15.682344</td>\n",
       "      <td>-17.07325</td>\n",
       "      <td>321.854917</td>\n",
       "      <td>-65.395389</td>\n",
       "      <td>1.357</td>\n",
       "      <td>0.37</td>\n",
       "      <td>Lib</td>\n",
       "    </tr>\n",
       "  </tbody>\n",
       "</table>\n",
       "</div>"
      ],
      "text/plain": [
       "   Unnamed: 0         JD     Body         RA       Dec          Az        Alt  \\\n",
       "0           0  2269653.5  Mercury  15.682344 -17.07325  321.854917 -65.395389   \n",
       "\n",
       "    Dist  Dist_Sun Const  \n",
       "0  1.357      0.37   Lib  "
      ]
     },
     "execution_count": 21,
     "metadata": {},
     "output_type": "execute_result"
    }
   ],
   "source": [
    "df[0:1]"
   ]
  },
  {
   "cell_type": "code",
   "execution_count": 34,
   "metadata": {},
   "outputs": [],
   "source": [
    "df = pd.read_pickle(\"mainframe.df\")"
   ]
  },
  {
   "cell_type": "code",
   "execution_count": 39,
   "metadata": {},
   "outputs": [],
   "source": [
    "df[df[\"Body\"] == \"Sun\"].to_csv(\"sun.csv\")"
   ]
  },
  {
   "cell_type": "code",
   "execution_count": 36,
   "metadata": {},
   "outputs": [],
   "source": [
    "cf = pd.read_csv(\"merc_plut_pall_juno.csv\")"
   ]
  },
  {
   "cell_type": "code",
   "execution_count": 37,
   "metadata": {},
   "outputs": [
    {
     "data": {
      "text/html": [
       "<div>\n",
       "<style scoped>\n",
       "    .dataframe tbody tr th:only-of-type {\n",
       "        vertical-align: middle;\n",
       "    }\n",
       "\n",
       "    .dataframe tbody tr th {\n",
       "        vertical-align: top;\n",
       "    }\n",
       "\n",
       "    .dataframe thead th {\n",
       "        text-align: right;\n",
       "    }\n",
       "</style>\n",
       "<table border=\"1\" class=\"dataframe\">\n",
       "  <thead>\n",
       "    <tr style=\"text-align: right;\">\n",
       "      <th></th>\n",
       "      <th>Unnamed: 0</th>\n",
       "      <th>JD</th>\n",
       "      <th>Body</th>\n",
       "      <th>RA</th>\n",
       "      <th>Dec</th>\n",
       "      <th>Az</th>\n",
       "      <th>Alt</th>\n",
       "      <th>Dist</th>\n",
       "      <th>Dist_Sun</th>\n",
       "      <th>Const</th>\n",
       "    </tr>\n",
       "  </thead>\n",
       "  <tbody>\n",
       "    <tr>\n",
       "      <th>0</th>\n",
       "      <td>0</td>\n",
       "      <td>2.269654e+06</td>\n",
       "      <td>Mercury</td>\n",
       "      <td>15.682344</td>\n",
       "      <td>-17.073250</td>\n",
       "      <td>321.854917</td>\n",
       "      <td>-65.395389</td>\n",
       "      <td>1.357</td>\n",
       "      <td>0.370</td>\n",
       "      <td>Lib</td>\n",
       "    </tr>\n",
       "    <tr>\n",
       "      <th>1</th>\n",
       "      <td>1</td>\n",
       "      <td>2.269654e+06</td>\n",
       "      <td>Pluto</td>\n",
       "      <td>16.124647</td>\n",
       "      <td>-8.850750</td>\n",
       "      <td>79.222250</td>\n",
       "      <td>-27.980028</td>\n",
       "      <td>30.840</td>\n",
       "      <td>30.089</td>\n",
       "      <td>Oph</td>\n",
       "    </tr>\n",
       "    <tr>\n",
       "      <th>2</th>\n",
       "      <td>2</td>\n",
       "      <td>2.269654e+06</td>\n",
       "      <td>Pallas</td>\n",
       "      <td>13.121883</td>\n",
       "      <td>-1.221333</td>\n",
       "      <td>102.520917</td>\n",
       "      <td>11.244583</td>\n",
       "      <td>2.232</td>\n",
       "      <td>2.330</td>\n",
       "      <td>Vir</td>\n",
       "    </tr>\n",
       "    <tr>\n",
       "      <th>3</th>\n",
       "      <td>3</td>\n",
       "      <td>2.269654e+06</td>\n",
       "      <td>Juno</td>\n",
       "      <td>16.214008</td>\n",
       "      <td>-9.038167</td>\n",
       "      <td>79.924222</td>\n",
       "      <td>-29.823361</td>\n",
       "      <td>4.077</td>\n",
       "      <td>3.353</td>\n",
       "      <td>Oph</td>\n",
       "    </tr>\n",
       "    <tr>\n",
       "      <th>4</th>\n",
       "      <td>4</td>\n",
       "      <td>2.269674e+06</td>\n",
       "      <td>Mercury</td>\n",
       "      <td>19.835286</td>\n",
       "      <td>-22.984556</td>\n",
       "      <td>19.975417</td>\n",
       "      <td>-73.768139</td>\n",
       "      <td>1.207</td>\n",
       "      <td>0.312</td>\n",
       "      <td>Cap</td>\n",
       "    </tr>\n",
       "  </tbody>\n",
       "</table>\n",
       "</div>"
      ],
      "text/plain": [
       "   Unnamed: 0            JD     Body         RA        Dec          Az  \\\n",
       "0           0  2.269654e+06  Mercury  15.682344 -17.073250  321.854917   \n",
       "1           1  2.269654e+06    Pluto  16.124647  -8.850750   79.222250   \n",
       "2           2  2.269654e+06   Pallas  13.121883  -1.221333  102.520917   \n",
       "3           3  2.269654e+06     Juno  16.214008  -9.038167   79.924222   \n",
       "4           4  2.269674e+06  Mercury  19.835286 -22.984556   19.975417   \n",
       "\n",
       "         Alt    Dist  Dist_Sun Const  \n",
       "0 -65.395389   1.357     0.370   Lib  \n",
       "1 -27.980028  30.840    30.089   Oph  \n",
       "2  11.244583   2.232     2.330   Vir  \n",
       "3 -29.823361   4.077     3.353   Oph  \n",
       "4 -73.768139   1.207     0.312   Cap  "
      ]
     },
     "execution_count": 37,
     "metadata": {},
     "output_type": "execute_result"
    }
   ],
   "source": [
    "cf.head()"
   ]
  },
  {
   "cell_type": "code",
   "execution_count": 40,
   "metadata": {},
   "outputs": [
    {
     "data": {
      "text/plain": [
       "<SkyCoord (ICRS): (ra, dec, distance) in (deg, deg, )\n",
       "    [(15.68234444, -17.07325, 1.357)]>"
      ]
     },
     "execution_count": 40,
     "metadata": {},
     "output_type": "execute_result"
    }
   ],
   "source": [
    "c"
   ]
  },
  {
   "cell_type": "code",
   "execution_count": 41,
   "metadata": {},
   "outputs": [
    {
     "data": {
      "text/plain": [
       "<CartesianRepresentation (x, y, z) [dimensionless]\n",
       "    [(1.24890921, 0.35063733, -0.39840714)]>"
      ]
     },
     "execution_count": 41,
     "metadata": {},
     "output_type": "execute_result"
    }
   ],
   "source": [
    "c.cartesian"
   ]
  },
  {
   "cell_type": "code",
   "execution_count": 42,
   "metadata": {},
   "outputs": [
    {
     "ename": "AttributeError",
     "evalue": "'CartesianRepresentation' object has no attribute 'to_numpy'",
     "output_type": "error",
     "traceback": [
      "\u001b[1;31m---------------------------------------------------------------------------\u001b[0m",
      "\u001b[1;31mAttributeError\u001b[0m                            Traceback (most recent call last)",
      "\u001b[1;32m<ipython-input-42-76a271efe1a1>\u001b[0m in \u001b[0;36m<module>\u001b[1;34m\u001b[0m\n\u001b[1;32m----> 1\u001b[1;33m \u001b[0mc\u001b[0m\u001b[1;33m.\u001b[0m\u001b[0mcartesian\u001b[0m\u001b[1;33m.\u001b[0m\u001b[0mto_numpy\u001b[0m\u001b[1;33m(\u001b[0m\u001b[1;33m)\u001b[0m\u001b[1;33m\u001b[0m\u001b[1;33m\u001b[0m\u001b[0m\n\u001b[0m",
      "\u001b[1;31mAttributeError\u001b[0m: 'CartesianRepresentation' object has no attribute 'to_numpy'"
     ]
    }
   ],
   "source": [
    "c.cartesian.to_numpy()"
   ]
  },
  {
   "cell_type": "code",
   "execution_count": 51,
   "metadata": {},
   "outputs": [
    {
     "data": {
      "text/plain": [
       "array([1., 1.])"
      ]
     },
     "execution_count": 51,
     "metadata": {},
     "output_type": "execute_result"
    }
   ],
   "source": [
    "np.linalg.norm([[1,0,0],[1,0,0]],axis=1)"
   ]
  },
  {
   "cell_type": "code",
   "execution_count": 52,
   "metadata": {},
   "outputs": [
    {
     "data": {
      "text/plain": [
       "<SkyCoord (ICRS): (ra, dec, distance) in (deg, deg, )\n",
       "    (1., 1., 1.)>"
      ]
     },
     "execution_count": 52,
     "metadata": {},
     "output_type": "execute_result"
    }
   ],
   "source": [
    "c"
   ]
  },
  {
   "cell_type": "code",
   "execution_count": 53,
   "metadata": {},
   "outputs": [
    {
     "ename": "TypeError",
     "evalue": "unsupported operand type(s) for +: 'SkyCoord' and 'SkyCoord'",
     "output_type": "error",
     "traceback": [
      "\u001b[1;31m---------------------------------------------------------------------------\u001b[0m",
      "\u001b[1;31mTypeError\u001b[0m                                 Traceback (most recent call last)",
      "\u001b[1;32m<ipython-input-53-52d8ddedc688>\u001b[0m in \u001b[0;36m<module>\u001b[1;34m\u001b[0m\n\u001b[1;32m----> 1\u001b[1;33m \u001b[0mc\u001b[0m\u001b[1;33m+\u001b[0m\u001b[0mc\u001b[0m\u001b[1;33m\u001b[0m\u001b[1;33m\u001b[0m\u001b[0m\n\u001b[0m",
      "\u001b[1;31mTypeError\u001b[0m: unsupported operand type(s) for +: 'SkyCoord' and 'SkyCoord'"
     ]
    }
   ],
   "source": [
    "c+c"
   ]
  },
  {
   "cell_type": "code",
   "execution_count": 54,
   "metadata": {},
   "outputs": [
    {
     "data": {
      "text/plain": [
       "<CartesianRepresentation (x, y, z) [dimensionless]\n",
       "    (1.99939083, 0.0348995, 0.03490481)>"
      ]
     },
     "execution_count": 54,
     "metadata": {},
     "output_type": "execute_result"
    }
   ],
   "source": [
    "c.cartesian + c.cartesian"
   ]
  },
  {
   "cell_type": "code",
   "execution_count": 55,
   "metadata": {},
   "outputs": [],
   "source": [
    "from astropy.time import Time"
   ]
  },
  {
   "cell_type": "code",
   "execution_count": 76,
   "metadata": {},
   "outputs": [],
   "source": [
    "times = [i*1000.3 for i in range(10)]"
   ]
  },
  {
   "cell_type": "code",
   "execution_count": 77,
   "metadata": {},
   "outputs": [],
   "source": [
    "t = Time(times, format='jd')"
   ]
  },
  {
   "cell_type": "code",
   "execution_count": 78,
   "metadata": {},
   "outputs": [
    {
     "data": {
      "text/plain": [
       "<Time object: scale='utc' format='jd' value=1000.3>"
      ]
     },
     "execution_count": 78,
     "metadata": {},
     "output_type": "execute_result"
    }
   ],
   "source": [
    "t[1]"
   ]
  },
  {
   "cell_type": "code",
   "execution_count": 96,
   "metadata": {},
   "outputs": [],
   "source": [
    "from astropy.coordinates import solar_system_ephemeris, EarthLocation\n",
    "from astropy.coordinates import get_body_barycentric, get_body, get_moon"
   ]
  },
  {
   "cell_type": "code",
   "execution_count": 97,
   "metadata": {},
   "outputs": [],
   "source": [
    "loc = EarthLocation.of_site('greenwich') "
   ]
  },
  {
   "cell_type": "code",
   "execution_count": 79,
   "metadata": {},
   "outputs": [
    {
     "name": "stderr",
     "output_type": "stream",
     "text": [
      "WARNING: ErfaWarning: ERFA function \"utctai\" yielded 1 of \"dubious year (Note 3)\" [astropy._erfa.core]\n",
      "WARNING: ErfaWarning: ERFA function \"taiutc\" yielded 1 of \"dubious year (Note 4)\" [astropy._erfa.core]\n",
      "WARNING: ErfaWarning: ERFA function \"epv00\" yielded 1 of \"warning: date outsidethe range 1900-2100 AD\" [astropy._erfa.core]\n",
      "WARNING: ErfaWarning: ERFA function \"epv00\" yielded 1 of \"warning: date outsidethe range 1900-2100 AD\" [astropy._erfa.core]\n",
      "WARNING: ErfaWarning: ERFA function \"plan94\" yielded 1 of \"warning: year outside 1000-3000\" [astropy._erfa.core]\n",
      "WARNING: ErfaWarning: ERFA function \"utctai\" yielded 1 of \"dubious year (Note 3)\" [astropy._erfa.core]\n",
      "WARNING: ErfaWarning: ERFA function \"taiutc\" yielded 1 of \"dubious year (Note 4)\" [astropy._erfa.core]\n",
      "WARNING: ErfaWarning: ERFA function \"utctai\" yielded 1 of \"dubious year (Note 3)\" [astropy._erfa.core]\n",
      "WARNING: ErfaWarning: ERFA function \"taiutc\" yielded 1 of \"dubious year (Note 4)\" [astropy._erfa.core]\n",
      "WARNING: ErfaWarning: ERFA function \"epv00\" yielded 1 of \"warning: date outsidethe range 1900-2100 AD\" [astropy._erfa.core]\n",
      "WARNING: ErfaWarning: ERFA function \"plan94\" yielded 1 of \"warning: year outside 1000-3000\" [astropy._erfa.core]\n",
      "WARNING: ErfaWarning: ERFA function \"utctai\" yielded 1 of \"dubious year (Note 3)\" [astropy._erfa.core]\n",
      "WARNING: ErfaWarning: ERFA function \"taiutc\" yielded 1 of \"dubious year (Note 4)\" [astropy._erfa.core]\n",
      "WARNING: ErfaWarning: ERFA function \"utctai\" yielded 1 of \"dubious year (Note 3)\" [astropy._erfa.core]\n",
      "WARNING: ErfaWarning: ERFA function \"taiutc\" yielded 1 of \"dubious year (Note 4)\" [astropy._erfa.core]\n",
      "WARNING: ErfaWarning: ERFA function \"epv00\" yielded 1 of \"warning: date outsidethe range 1900-2100 AD\" [astropy._erfa.core]\n",
      "WARNING: ErfaWarning: ERFA function \"plan94\" yielded 1 of \"warning: year outside 1000-3000\" [astropy._erfa.core]\n",
      "WARNING: ErfaWarning: ERFA function \"utctai\" yielded 1 of \"dubious year (Note 3)\" [astropy._erfa.core]\n",
      "WARNING: ErfaWarning: ERFA function \"taiutc\" yielded 1 of \"dubious year (Note 4)\" [astropy._erfa.core]\n",
      "WARNING: ErfaWarning: ERFA function \"utctai\" yielded 1 of \"dubious year (Note 3)\" [astropy._erfa.core]\n",
      "WARNING: ErfaWarning: ERFA function \"taiutc\" yielded 1 of \"dubious year (Note 4)\" [astropy._erfa.core]\n",
      "WARNING: ErfaWarning: ERFA function \"epv00\" yielded 1 of \"warning: date outsidethe range 1900-2100 AD\" [astropy._erfa.core]\n",
      "WARNING: ErfaWarning: ERFA function \"plan94\" yielded 1 of \"warning: year outside 1000-3000\" [astropy._erfa.core]\n",
      "WARNING: ErfaWarning: ERFA function \"utctai\" yielded 1 of \"dubious year (Note 3)\" [astropy._erfa.core]\n",
      "WARNING: ErfaWarning: ERFA function \"taiutc\" yielded 1 of \"dubious year (Note 4)\" [astropy._erfa.core]\n",
      "WARNING: ErfaWarning: ERFA function \"utctai\" yielded 1 of \"dubious year (Note 3)\" [astropy._erfa.core]\n",
      "WARNING: ErfaWarning: ERFA function \"taiutc\" yielded 1 of \"dubious year (Note 4)\" [astropy._erfa.core]\n",
      "WARNING: ErfaWarning: ERFA function \"epv00\" yielded 1 of \"warning: date outsidethe range 1900-2100 AD\" [astropy._erfa.core]\n",
      "WARNING: ErfaWarning: ERFA function \"plan94\" yielded 1 of \"warning: year outside 1000-3000\" [astropy._erfa.core]\n"
     ]
    },
    {
     "ename": "ValueError",
     "evalue": "Column year failed to convert: invalid literal for int() with base 10: '<!'",
     "output_type": "error",
     "traceback": [
      "\u001b[1;31m---------------------------------------------------------------------------\u001b[0m",
      "\u001b[1;31mIndexError\u001b[0m                                Traceback (most recent call last)",
      "\u001b[1;32mD:\\Programs\\Anaconda3\\lib\\site-packages\\astropy\\io\\ascii\\core.py\u001b[0m in \u001b[0;36m_convert_vals\u001b[1;34m(self, cols)\u001b[0m\n\u001b[0;32m    952\u001b[0m                 \u001b[1;32mraise\u001b[0m \u001b[0mValueError\u001b[0m\u001b[1;33m(\u001b[0m\u001b[1;34m'bool input strings must be False, True, 0, 1, or \"\"'\u001b[0m\u001b[1;33m)\u001b[0m\u001b[1;33m\u001b[0m\u001b[1;33m\u001b[0m\u001b[0m\n\u001b[1;32m--> 953\u001b[1;33m         \u001b[0mvals\u001b[0m \u001b[1;33m=\u001b[0m \u001b[0mnumpy\u001b[0m\u001b[1;33m.\u001b[0m\u001b[0masarray\u001b[0m\u001b[1;33m(\u001b[0m\u001b[0mvals\u001b[0m\u001b[1;33m)\u001b[0m\u001b[1;33m\u001b[0m\u001b[1;33m\u001b[0m\u001b[0m\n\u001b[0m\u001b[0;32m    954\u001b[0m \u001b[1;33m\u001b[0m\u001b[0m\n",
      "\u001b[1;31mIndexError\u001b[0m: list index out of range",
      "\nDuring handling of the above exception, another exception occurred:\n",
      "\u001b[1;31mValueError\u001b[0m                                Traceback (most recent call last)",
      "\u001b[1;32m<ipython-input-79-5a67eab637f7>\u001b[0m in \u001b[0;36m<module>\u001b[1;34m\u001b[0m\n\u001b[0;32m      2\u001b[0m \u001b[1;32mwith\u001b[0m \u001b[0msolar_system_ephemeris\u001b[0m\u001b[1;33m.\u001b[0m\u001b[0mset\u001b[0m\u001b[1;33m(\u001b[0m\u001b[1;34m'builtin'\u001b[0m\u001b[1;33m)\u001b[0m\u001b[1;33m:\u001b[0m\u001b[1;33m\u001b[0m\u001b[1;33m\u001b[0m\u001b[0m\n\u001b[0;32m      3\u001b[0m     \u001b[1;32mfor\u001b[0m \u001b[0mi\u001b[0m \u001b[1;32min\u001b[0m \u001b[0mrange\u001b[0m\u001b[1;33m(\u001b[0m\u001b[0mlen\u001b[0m\u001b[1;33m(\u001b[0m\u001b[0mt\u001b[0m\u001b[1;33m)\u001b[0m\u001b[1;33m)\u001b[0m\u001b[1;33m:\u001b[0m\u001b[1;33m\u001b[0m\u001b[1;33m\u001b[0m\u001b[0m\n\u001b[1;32m----> 4\u001b[1;33m         \u001b[0mjup\u001b[0m\u001b[1;33m[\u001b[0m\u001b[0mi\u001b[0m\u001b[1;33m]\u001b[0m \u001b[1;33m=\u001b[0m \u001b[0mget_body\u001b[0m\u001b[1;33m(\u001b[0m\u001b[1;34m'jupiter'\u001b[0m\u001b[1;33m,\u001b[0m \u001b[0mt\u001b[0m\u001b[1;33m[\u001b[0m\u001b[0mi\u001b[0m\u001b[1;33m]\u001b[0m\u001b[1;33m,\u001b[0m \u001b[0mloc\u001b[0m\u001b[1;33m)\u001b[0m\u001b[1;33m\u001b[0m\u001b[1;33m\u001b[0m\u001b[0m\n\u001b[0m",
      "\u001b[1;32mD:\\Programs\\Anaconda3\\lib\\site-packages\\astropy\\coordinates\\solar_system.py\u001b[0m in \u001b[0;36mget_body\u001b[1;34m(body, time, location, ephemeris)\u001b[0m\n\u001b[0;32m    453\u001b[0m     \u001b[0mskycoord\u001b[0m \u001b[1;33m:\u001b[0m\u001b[0;31m \u001b[0m\u001b[0;31m`\u001b[0m\u001b[1;33m~\u001b[0m\u001b[0mastropy\u001b[0m\u001b[1;33m.\u001b[0m\u001b[0mcoordinates\u001b[0m\u001b[1;33m.\u001b[0m\u001b[0mSkyCoord\u001b[0m\u001b[0;31m`\u001b[0m\u001b[1;33m\u001b[0m\u001b[1;33m\u001b[0m\u001b[0m\n\u001b[0;32m    454\u001b[0m         \u001b[0mGCRS\u001b[0m \u001b[0mCoordinate\u001b[0m \u001b[1;32mfor\u001b[0m \u001b[0mthe\u001b[0m \u001b[0mbody\u001b[0m\u001b[1;33m\u001b[0m\u001b[1;33m\u001b[0m\u001b[0m\n\u001b[1;32m--> 455\u001b[1;33m \u001b[1;33m\u001b[0m\u001b[0m\n\u001b[0m\u001b[0;32m    456\u001b[0m     \u001b[0mNotes\u001b[0m\u001b[1;33m\u001b[0m\u001b[1;33m\u001b[0m\u001b[0m\n\u001b[0;32m    457\u001b[0m     \u001b[1;33m-\u001b[0m\u001b[1;33m-\u001b[0m\u001b[1;33m-\u001b[0m\u001b[1;33m-\u001b[0m\u001b[1;33m-\u001b[0m\u001b[1;33m\u001b[0m\u001b[1;33m\u001b[0m\u001b[0m\n",
      "\u001b[1;32mD:\\Programs\\Anaconda3\\lib\\site-packages\\astropy\\coordinates\\earth.py\u001b[0m in \u001b[0;36mget_gcrs_posvel\u001b[1;34m(self, obstime)\u001b[0m\n\u001b[0;32m    703\u001b[0m         \u001b[0mgcrs_data\u001b[0m \u001b[1;33m=\u001b[0m \u001b[0mself\u001b[0m\u001b[1;33m.\u001b[0m\u001b[0mget_gcrs\u001b[0m\u001b[1;33m(\u001b[0m\u001b[0mobstime\u001b[0m\u001b[1;33m)\u001b[0m\u001b[1;33m.\u001b[0m\u001b[0mdata\u001b[0m\u001b[1;33m\u001b[0m\u001b[1;33m\u001b[0m\u001b[0m\n\u001b[0;32m    704\u001b[0m         \u001b[0mobsgeopos\u001b[0m \u001b[1;33m=\u001b[0m \u001b[0mgcrs_data\u001b[0m\u001b[1;33m.\u001b[0m\u001b[0mwithout_differentials\u001b[0m\u001b[1;33m(\u001b[0m\u001b[1;33m)\u001b[0m\u001b[1;33m\u001b[0m\u001b[1;33m\u001b[0m\u001b[0m\n\u001b[1;32m--> 705\u001b[1;33m         \u001b[0mobsgeovel\u001b[0m \u001b[1;33m=\u001b[0m \u001b[0mgcrs_data\u001b[0m\u001b[1;33m.\u001b[0m\u001b[0mdifferentials\u001b[0m\u001b[1;33m[\u001b[0m\u001b[1;34m's'\u001b[0m\u001b[1;33m]\u001b[0m\u001b[1;33m.\u001b[0m\u001b[0mto_cartesian\u001b[0m\u001b[1;33m(\u001b[0m\u001b[1;33m)\u001b[0m\u001b[1;33m\u001b[0m\u001b[1;33m\u001b[0m\u001b[0m\n\u001b[0m\u001b[0;32m    706\u001b[0m         \u001b[1;32mreturn\u001b[0m \u001b[0mobsgeopos\u001b[0m\u001b[1;33m,\u001b[0m \u001b[0mobsgeovel\u001b[0m\u001b[1;33m\u001b[0m\u001b[1;33m\u001b[0m\u001b[0m\n\u001b[0;32m    707\u001b[0m \u001b[1;33m\u001b[0m\u001b[0m\n",
      "\u001b[1;32mD:\\Programs\\Anaconda3\\lib\\site-packages\\astropy\\coordinates\\earth.py\u001b[0m in \u001b[0;36mget_gcrs\u001b[1;34m(self, obstime)\u001b[0m\n\u001b[0;32m    683\u001b[0m         \u001b[1;32mreturn\u001b[0m \u001b[0mitrs\u001b[0m\u001b[1;33m.\u001b[0m\u001b[0mtransform_to\u001b[0m\u001b[1;33m(\u001b[0m\u001b[0mGCRS\u001b[0m\u001b[1;33m(\u001b[0m\u001b[0mobstime\u001b[0m\u001b[1;33m=\u001b[0m\u001b[0mobstime\u001b[0m\u001b[1;33m)\u001b[0m\u001b[1;33m)\u001b[0m\u001b[1;33m\u001b[0m\u001b[1;33m\u001b[0m\u001b[0m\n\u001b[0;32m    684\u001b[0m \u001b[1;33m\u001b[0m\u001b[0m\n\u001b[1;32m--> 685\u001b[1;33m     \u001b[1;32mdef\u001b[0m \u001b[0mget_gcrs_posvel\u001b[0m\u001b[1;33m(\u001b[0m\u001b[0mself\u001b[0m\u001b[1;33m,\u001b[0m \u001b[0mobstime\u001b[0m\u001b[1;33m)\u001b[0m\u001b[1;33m:\u001b[0m\u001b[1;33m\u001b[0m\u001b[1;33m\u001b[0m\u001b[0m\n\u001b[0m\u001b[0;32m    686\u001b[0m         \"\"\"\n\u001b[0;32m    687\u001b[0m         \u001b[0mCalculate\u001b[0m \u001b[0mthe\u001b[0m \u001b[0mGCRS\u001b[0m \u001b[0mposition\u001b[0m \u001b[1;32mand\u001b[0m \u001b[0mvelocity\u001b[0m \u001b[0mof\u001b[0m \u001b[0mthis\u001b[0m \u001b[0mobject\u001b[0m \u001b[0mat\u001b[0m \u001b[0mthe\u001b[0m\u001b[1;33m\u001b[0m\u001b[1;33m\u001b[0m\u001b[0m\n",
      "\u001b[1;32mD:\\Programs\\Anaconda3\\lib\\site-packages\\astropy\\coordinates\\baseframe.py\u001b[0m in \u001b[0;36mtransform_to\u001b[1;34m(self, new_frame)\u001b[0m\n\u001b[0;32m   1184\u001b[0m             \u001b[0mA\u001b[0m \u001b[0mnew\u001b[0m \u001b[0mobject\u001b[0m \u001b[1;32mwith\u001b[0m \u001b[0mthe\u001b[0m \u001b[0mcoordinate\u001b[0m \u001b[0mdata\u001b[0m \u001b[0mrepresented\u001b[0m \u001b[1;32min\u001b[0m \u001b[0mthe\u001b[0m\u001b[1;33m\u001b[0m\u001b[1;33m\u001b[0m\u001b[0m\n\u001b[0;32m   1185\u001b[0m             \u001b[0;31m`\u001b[0m\u001b[0;31m`\u001b[0m\u001b[0mnewframe\u001b[0m\u001b[0;31m`\u001b[0m\u001b[0;31m`\u001b[0m \u001b[0msystem\u001b[0m\u001b[1;33m.\u001b[0m\u001b[1;33m\u001b[0m\u001b[1;33m\u001b[0m\u001b[0m\n\u001b[1;32m-> 1186\u001b[1;33m \u001b[1;33m\u001b[0m\u001b[0m\n\u001b[0m\u001b[0;32m   1187\u001b[0m         \u001b[0mRaises\u001b[0m\u001b[1;33m\u001b[0m\u001b[1;33m\u001b[0m\u001b[0m\n\u001b[0;32m   1188\u001b[0m         \u001b[1;33m-\u001b[0m\u001b[1;33m-\u001b[0m\u001b[1;33m-\u001b[0m\u001b[1;33m-\u001b[0m\u001b[1;33m-\u001b[0m\u001b[1;33m-\u001b[0m\u001b[1;33m\u001b[0m\u001b[1;33m\u001b[0m\u001b[0m\n",
      "\u001b[1;32mD:\\Programs\\Anaconda3\\lib\\site-packages\\astropy\\coordinates\\transformations.py\u001b[0m in \u001b[0;36m__call__\u001b[1;34m(self, fromcoord, toframe)\u001b[0m\n\u001b[0;32m   1375\u001b[0m \u001b[1;33m\u001b[0m\u001b[0m\n\u001b[0;32m   1376\u001b[0m     def __init__(self, transforms, fromsys, tosys, priority=1,\n\u001b[1;32m-> 1377\u001b[1;33m                  register_graph=None, collapse_static_mats=True):\n\u001b[0m\u001b[0;32m   1378\u001b[0m         super().__init__(fromsys, tosys, priority=priority,\n\u001b[0;32m   1379\u001b[0m                          register_graph=register_graph)\n",
      "\u001b[1;32mD:\\Programs\\Anaconda3\\lib\\site-packages\\astropy\\coordinates\\transformations.py\u001b[0m in \u001b[0;36m__call__\u001b[1;34m(self, fromcoord, toframe)\u001b[0m\n\u001b[0;32m    911\u001b[0m \u001b[1;33m\u001b[0m\u001b[0m\n\u001b[0;32m    912\u001b[0m     \"\"\"\n\u001b[1;32m--> 913\u001b[1;33m \u001b[1;33m\u001b[0m\u001b[0m\n\u001b[0m\u001b[0;32m    914\u001b[0m     def __init__(self, func, fromsys, tosys, priority=1, register_graph=None,\n\u001b[0;32m    915\u001b[0m                  \u001b[0mfinite_difference_frameattr_name\u001b[0m\u001b[1;33m=\u001b[0m\u001b[1;34m'obstime'\u001b[0m\u001b[1;33m,\u001b[0m\u001b[1;33m\u001b[0m\u001b[1;33m\u001b[0m\u001b[0m\n",
      "\u001b[1;32mD:\\Programs\\Anaconda3\\lib\\site-packages\\astropy\\coordinates\\builtin_frames\\intermediate_rotation_transforms.py\u001b[0m in \u001b[0;36mitrs_to_cirs\u001b[1;34m(itrs_coo, cirs_frame)\u001b[0m\n\u001b[0;32m     85\u001b[0m     \u001b[1;32mreturn\u001b[0m \u001b[0merfa\u001b[0m\u001b[1;33m.\u001b[0m\u001b[0mfw2m\u001b[0m\u001b[1;33m(\u001b[0m\u001b[0mgamb\u001b[0m\u001b[1;33m,\u001b[0m \u001b[0mphib\u001b[0m\u001b[1;33m,\u001b[0m \u001b[0mpsib\u001b[0m\u001b[1;33m,\u001b[0m \u001b[0mepsa\u001b[0m\u001b[1;33m)\u001b[0m\u001b[1;33m\u001b[0m\u001b[1;33m\u001b[0m\u001b[0m\n\u001b[0;32m     86\u001b[0m \u001b[1;33m\u001b[0m\u001b[0m\n\u001b[1;32m---> 87\u001b[1;33m \u001b[1;33m\u001b[0m\u001b[0m\n\u001b[0m\u001b[0;32m     88\u001b[0m \u001b[1;32mdef\u001b[0m \u001b[0mget_location_gcrs\u001b[0m\u001b[1;33m(\u001b[0m\u001b[0mreference\u001b[0m\u001b[1;33m,\u001b[0m \u001b[0mgcrs_to_reference_matrix\u001b[0m\u001b[1;33m)\u001b[0m\u001b[1;33m:\u001b[0m\u001b[1;33m\u001b[0m\u001b[1;33m\u001b[0m\u001b[0m\n\u001b[0;32m     89\u001b[0m     \"\"\"Create a GCRS frame at the location and obstime of a given reference.\n",
      "\u001b[1;32mD:\\Programs\\Anaconda3\\lib\\site-packages\\astropy\\coordinates\\builtin_frames\\intermediate_rotation_transforms.py\u001b[0m in \u001b[0;36mcirs_to_itrs_mat\u001b[1;34m(time)\u001b[0m\n\u001b[0;32m     29\u001b[0m     \u001b[1;31m# Use 1982 model for consistency with Vallado et al (2006)\u001b[0m\u001b[1;33m\u001b[0m\u001b[1;33m\u001b[0m\u001b[1;33m\u001b[0m\u001b[0m\n\u001b[0;32m     30\u001b[0m     \u001b[1;31m# http://www.celestrak.com/publications/aiaa/2006-6753/AIAA-2006-6753.pdf\u001b[0m\u001b[1;33m\u001b[0m\u001b[1;33m\u001b[0m\u001b[1;33m\u001b[0m\u001b[0m\n\u001b[1;32m---> 31\u001b[1;33m     \u001b[0mgst\u001b[0m \u001b[1;33m=\u001b[0m \u001b[0merfa\u001b[0m\u001b[1;33m.\u001b[0m\u001b[0mgmst82\u001b[0m\u001b[1;33m(\u001b[0m\u001b[1;33m*\u001b[0m\u001b[0mget_jd12\u001b[0m\u001b[1;33m(\u001b[0m\u001b[0mtime\u001b[0m\u001b[1;33m,\u001b[0m \u001b[1;34m'ut1'\u001b[0m\u001b[1;33m)\u001b[0m\u001b[1;33m)\u001b[0m\u001b[1;33m\u001b[0m\u001b[1;33m\u001b[0m\u001b[0m\n\u001b[0m\u001b[0;32m     32\u001b[0m \u001b[1;33m\u001b[0m\u001b[0m\n\u001b[0;32m     33\u001b[0m     \u001b[1;31m# Polar Motion\u001b[0m\u001b[1;33m\u001b[0m\u001b[1;33m\u001b[0m\u001b[1;33m\u001b[0m\u001b[0m\n",
      "\u001b[1;32mD:\\Programs\\Anaconda3\\lib\\site-packages\\astropy\\coordinates\\builtin_frames\\utils.py\u001b[0m in \u001b[0;36mget_polar_motion\u001b[1;34m(time)\u001b[0m\n\u001b[0;32m     38\u001b[0m \u001b[1;31m# comes from the mean of the 1962-2014 IERS B data\u001b[0m\u001b[1;33m\u001b[0m\u001b[1;33m\u001b[0m\u001b[1;33m\u001b[0m\u001b[0m\n\u001b[0;32m     39\u001b[0m \u001b[0m_DEFAULT_PM\u001b[0m \u001b[1;33m=\u001b[0m \u001b[1;33m(\u001b[0m\u001b[1;36m0.035\u001b[0m\u001b[1;33m,\u001b[0m \u001b[1;36m0.29\u001b[0m\u001b[1;33m)\u001b[0m\u001b[1;33m*\u001b[0m\u001b[0mu\u001b[0m\u001b[1;33m.\u001b[0m\u001b[0marcsec\u001b[0m\u001b[1;33m\u001b[0m\u001b[1;33m\u001b[0m\u001b[0m\n\u001b[1;32m---> 40\u001b[1;33m \u001b[1;33m\u001b[0m\u001b[0m\n\u001b[0m\u001b[0;32m     41\u001b[0m \u001b[1;33m\u001b[0m\u001b[0m\n\u001b[0;32m     42\u001b[0m \u001b[1;32mdef\u001b[0m \u001b[0mget_polar_motion\u001b[0m\u001b[1;33m(\u001b[0m\u001b[0mtime\u001b[0m\u001b[1;33m)\u001b[0m\u001b[1;33m:\u001b[0m\u001b[1;33m\u001b[0m\u001b[1;33m\u001b[0m\u001b[0m\n",
      "\u001b[1;32mD:\\Programs\\Anaconda3\\lib\\site-packages\\astropy\\utils\\iers\\iers.py\u001b[0m in \u001b[0;36mopen\u001b[1;34m(cls)\u001b[0m\n\u001b[0;32m    658\u001b[0m             \u001b[1;32mreturn\u001b[0m \u001b[0mcls\u001b[0m\u001b[1;33m.\u001b[0m\u001b[0miers_table\u001b[0m\u001b[1;33m\u001b[0m\u001b[1;33m\u001b[0m\u001b[0m\n\u001b[0;32m    659\u001b[0m \u001b[1;33m\u001b[0m\u001b[0m\n\u001b[1;32m--> 660\u001b[1;33m         \u001b[0mall_urls\u001b[0m \u001b[1;33m=\u001b[0m \u001b[1;33m(\u001b[0m\u001b[0mconf\u001b[0m\u001b[1;33m.\u001b[0m\u001b[0miers_auto_url\u001b[0m\u001b[1;33m,\u001b[0m \u001b[0mconf\u001b[0m\u001b[1;33m.\u001b[0m\u001b[0miers_auto_url_mirror\u001b[0m\u001b[1;33m)\u001b[0m\u001b[1;33m\u001b[0m\u001b[1;33m\u001b[0m\u001b[0m\n\u001b[0m\u001b[0;32m    661\u001b[0m \u001b[1;33m\u001b[0m\u001b[0m\n\u001b[0;32m    662\u001b[0m         \u001b[1;32mif\u001b[0m \u001b[0mcls\u001b[0m\u001b[1;33m.\u001b[0m\u001b[0miers_table\u001b[0m \u001b[1;32mis\u001b[0m \u001b[1;32mnot\u001b[0m \u001b[1;32mNone\u001b[0m\u001b[1;33m:\u001b[0m\u001b[1;33m\u001b[0m\u001b[1;33m\u001b[0m\u001b[0m\n",
      "\u001b[1;32mD:\\Programs\\Anaconda3\\lib\\site-packages\\astropy\\utils\\iers\\iers.py\u001b[0m in \u001b[0;36mread\u001b[1;34m(cls, file, readme)\u001b[0m\n\u001b[0;32m    502\u001b[0m         p_index = min(np.searchsorted(table['UT1Flag_A'], 'P'),\n\u001b[0;32m    503\u001b[0m                       np.searchsorted(table['PolPMFlag_A'], 'P'))\n\u001b[1;32m--> 504\u001b[1;33m         \u001b[0mtable\u001b[0m\u001b[1;33m.\u001b[0m\u001b[0mmeta\u001b[0m\u001b[1;33m[\u001b[0m\u001b[1;34m'predictive_index'\u001b[0m\u001b[1;33m]\u001b[0m \u001b[1;33m=\u001b[0m \u001b[0mp_index\u001b[0m\u001b[1;33m\u001b[0m\u001b[1;33m\u001b[0m\u001b[0m\n\u001b[0m\u001b[0;32m    505\u001b[0m         \u001b[0mtable\u001b[0m\u001b[1;33m.\u001b[0m\u001b[0mmeta\u001b[0m\u001b[1;33m[\u001b[0m\u001b[1;34m'predictive_mjd'\u001b[0m\u001b[1;33m]\u001b[0m \u001b[1;33m=\u001b[0m \u001b[0mtable\u001b[0m\u001b[1;33m[\u001b[0m\u001b[1;34m'MJD'\u001b[0m\u001b[1;33m]\u001b[0m\u001b[1;33m[\u001b[0m\u001b[0mp_index\u001b[0m\u001b[1;33m]\u001b[0m\u001b[1;33m.\u001b[0m\u001b[0mvalue\u001b[0m\u001b[1;33m\u001b[0m\u001b[1;33m\u001b[0m\u001b[0m\n\u001b[0;32m    506\u001b[0m \u001b[1;33m\u001b[0m\u001b[0m\n",
      "\u001b[1;32mD:\\Programs\\Anaconda3\\lib\\site-packages\\astropy\\table\\table.py\u001b[0m in \u001b[0;36mread\u001b[1;34m(cls, *args, **kwargs)\u001b[0m\n\u001b[0;32m   2548\u001b[0m         \u001b[1;32mfor\u001b[0m \u001b[0ma\u001b[0m \u001b[0mcolumn\u001b[0m\u001b[1;33m:\u001b[0m\u001b[1;33m:\u001b[0m\u001b[1;33m\u001b[0m\u001b[1;33m\u001b[0m\u001b[0m\n\u001b[0;32m   2549\u001b[0m \u001b[1;33m\u001b[0m\u001b[0m\n\u001b[1;32m-> 2550\u001b[1;33m           \u001b[0mtable\u001b[0m\u001b[1;33m[\u001b[0m\u001b[0mname\u001b[0m\u001b[1;33m]\u001b[0m\u001b[1;33m.\u001b[0m\u001b[0mname\u001b[0m \u001b[1;33m=\u001b[0m \u001b[0mnew_name\u001b[0m\u001b[1;33m\u001b[0m\u001b[1;33m\u001b[0m\u001b[0m\n\u001b[0m\u001b[0;32m   2551\u001b[0m \u001b[1;33m\u001b[0m\u001b[0m\n\u001b[0;32m   2552\u001b[0m         \u001b[0mTODO\u001b[0m\u001b[1;33m:\u001b[0m \u001b[0mthis\u001b[0m \u001b[0mwon\u001b[0m\u001b[0;31m'\u001b[0m\u001b[0mt\u001b[0m \u001b[0mwork\u001b[0m \u001b[1;32mfor\u001b[0m \u001b[0mmixins\u001b[0m\u001b[1;33m\u001b[0m\u001b[1;33m\u001b[0m\u001b[0m\n",
      "\u001b[1;32mD:\\Programs\\Anaconda3\\lib\\site-packages\\astropy\\io\\registry.py\u001b[0m in \u001b[0;36mread\u001b[1;34m(cls, format, *args, **kwargs)\u001b[0m\n\u001b[0;32m    515\u001b[0m \u001b[1;33m\u001b[0m\u001b[0m\n\u001b[0;32m    516\u001b[0m             format = _get_valid_format(\n\u001b[1;32m--> 517\u001b[1;33m                 'read', cls, path, fileobj, args, kwargs)\n\u001b[0m\u001b[0;32m    518\u001b[0m \u001b[1;33m\u001b[0m\u001b[0m\n\u001b[0;32m    519\u001b[0m         \u001b[0mreader\u001b[0m \u001b[1;33m=\u001b[0m \u001b[0mget_reader\u001b[0m\u001b[1;33m(\u001b[0m\u001b[0mformat\u001b[0m\u001b[1;33m,\u001b[0m \u001b[0mcls\u001b[0m\u001b[1;33m)\u001b[0m\u001b[1;33m\u001b[0m\u001b[1;33m\u001b[0m\u001b[0m\n",
      "\u001b[1;32mD:\\Programs\\Anaconda3\\lib\\site-packages\\astropy\\io\\ascii\\connect.py\u001b[0m in \u001b[0;36mio_read\u001b[1;34m(format, filename, **kwargs)\u001b[0m\n\u001b[0;32m     35\u001b[0m \u001b[1;33m\u001b[0m\u001b[0m\n\u001b[0;32m     36\u001b[0m     \u001b[0mrows\u001b[0m \u001b[1;33m=\u001b[0m \u001b[1;33m[\u001b[0m\u001b[1;33m]\u001b[0m\u001b[1;33m\u001b[0m\u001b[1;33m\u001b[0m\u001b[0m\n\u001b[1;32m---> 37\u001b[1;33m     \u001b[0mrows\u001b[0m\u001b[1;33m.\u001b[0m\u001b[0mappend\u001b[0m\u001b[1;33m(\u001b[0m\u001b[1;33m(\u001b[0m\u001b[1;34m'ascii'\u001b[0m\u001b[1;33m,\u001b[0m \u001b[1;34m''\u001b[0m\u001b[1;33m,\u001b[0m \u001b[1;34m'Yes'\u001b[0m\u001b[1;33m,\u001b[0m \u001b[1;34m'ASCII table in any supported format (uses guessing)'\u001b[0m\u001b[1;33m)\u001b[0m\u001b[1;33m)\u001b[0m\u001b[1;33m\u001b[0m\u001b[1;33m\u001b[0m\u001b[0m\n\u001b[0m\u001b[0;32m     38\u001b[0m     \u001b[1;32mfor\u001b[0m \u001b[0mformat\u001b[0m \u001b[1;32min\u001b[0m \u001b[0msorted\u001b[0m\u001b[1;33m(\u001b[0m\u001b[0mFORMAT_CLASSES\u001b[0m\u001b[1;33m)\u001b[0m\u001b[1;33m:\u001b[0m\u001b[1;33m\u001b[0m\u001b[1;33m\u001b[0m\u001b[0m\n\u001b[0;32m     39\u001b[0m         \u001b[0mcls\u001b[0m \u001b[1;33m=\u001b[0m \u001b[0mFORMAT_CLASSES\u001b[0m\u001b[1;33m[\u001b[0m\u001b[0mformat\u001b[0m\u001b[1;33m]\u001b[0m\u001b[1;33m\u001b[0m\u001b[1;33m\u001b[0m\u001b[0m\n",
      "\u001b[1;32mD:\\Programs\\Anaconda3\\lib\\site-packages\\astropy\\io\\ascii\\ui.py\u001b[0m in \u001b[0;36mread\u001b[1;34m(table, guess, **kwargs)\u001b[0m\n\u001b[0;32m    407\u001b[0m     \u001b[0mReturns\u001b[0m\u001b[1;33m\u001b[0m\u001b[1;33m\u001b[0m\u001b[0m\n\u001b[0;32m    408\u001b[0m     \u001b[1;33m-\u001b[0m\u001b[1;33m-\u001b[0m\u001b[1;33m-\u001b[0m\u001b[1;33m-\u001b[0m\u001b[1;33m-\u001b[0m\u001b[1;33m-\u001b[0m\u001b[1;33m-\u001b[0m\u001b[1;33m\u001b[0m\u001b[1;33m\u001b[0m\u001b[0m\n\u001b[1;32m--> 409\u001b[1;33m     \u001b[0mdat\u001b[0m \u001b[1;33m:\u001b[0m\u001b[0;31m \u001b[0m\u001b[0;31m`\u001b[0m\u001b[1;33m~\u001b[0m\u001b[0mastropy\u001b[0m\u001b[1;33m.\u001b[0m\u001b[0mtable\u001b[0m\u001b[1;33m.\u001b[0m\u001b[0mTable\u001b[0m\u001b[0;31m`\u001b[0m \u001b[1;32mor\u001b[0m \u001b[1;32mNone\u001b[0m\u001b[1;33m\u001b[0m\u001b[1;33m\u001b[0m\u001b[0m\n\u001b[0m\u001b[0;32m    410\u001b[0m         \u001b[0mOutput\u001b[0m \u001b[0mtable\u001b[0m \u001b[1;32mor\u001b[0m \u001b[1;32mNone\u001b[0m \u001b[1;32mif\u001b[0m \u001b[0monly\u001b[0m \u001b[0mone\u001b[0m \u001b[0mguess\u001b[0m \u001b[0mformat\u001b[0m \u001b[0mwas\u001b[0m \u001b[0mavailable\u001b[0m\u001b[1;33m\u001b[0m\u001b[1;33m\u001b[0m\u001b[0m\n\u001b[0;32m    411\u001b[0m     \"\"\"\n",
      "\u001b[1;32mD:\\Programs\\Anaconda3\\lib\\site-packages\\astropy\\io\\ascii\\cds.py\u001b[0m in \u001b[0;36mread\u001b[1;34m(self, table)\u001b[0m\n\u001b[0;32m    321\u001b[0m             \u001b[1;32mfor\u001b[0m \u001b[0mdata_start\u001b[0m \u001b[1;32min\u001b[0m \u001b[0mrange\u001b[0m\u001b[1;33m(\u001b[0m\u001b[0mlen\u001b[0m\u001b[1;33m(\u001b[0m\u001b[0mlines\u001b[0m\u001b[1;33m)\u001b[0m\u001b[1;33m)\u001b[0m\u001b[1;33m:\u001b[0m\u001b[1;33m\u001b[0m\u001b[1;33m\u001b[0m\u001b[0m\n\u001b[0;32m    322\u001b[0m                 \u001b[0mself\u001b[0m\u001b[1;33m.\u001b[0m\u001b[0mdata\u001b[0m\u001b[1;33m.\u001b[0m\u001b[0mstart_line\u001b[0m \u001b[1;33m=\u001b[0m \u001b[0mdata_start\u001b[0m\u001b[1;33m\u001b[0m\u001b[1;33m\u001b[0m\u001b[0m\n\u001b[1;32m--> 323\u001b[1;33m                 \u001b[1;32mwith\u001b[0m \u001b[0msuppress\u001b[0m\u001b[1;33m(\u001b[0m\u001b[0mException\u001b[0m\u001b[1;33m)\u001b[0m\u001b[1;33m:\u001b[0m\u001b[1;33m\u001b[0m\u001b[1;33m\u001b[0m\u001b[0m\n\u001b[0m\u001b[0;32m    324\u001b[0m                     \u001b[0mtable\u001b[0m \u001b[1;33m=\u001b[0m \u001b[0msuper\u001b[0m\u001b[1;33m(\u001b[0m\u001b[1;33m)\u001b[0m\u001b[1;33m.\u001b[0m\u001b[0mread\u001b[0m\u001b[1;33m(\u001b[0m\u001b[0mlines\u001b[0m\u001b[1;33m)\u001b[0m\u001b[1;33m\u001b[0m\u001b[1;33m\u001b[0m\u001b[0m\n\u001b[0;32m    325\u001b[0m                     \u001b[1;32mreturn\u001b[0m \u001b[0mtable\u001b[0m\u001b[1;33m\u001b[0m\u001b[1;33m\u001b[0m\u001b[0m\n",
      "\u001b[1;32mD:\\Programs\\Anaconda3\\lib\\site-packages\\astropy\\io\\ascii\\core.py\u001b[0m in \u001b[0;36mread\u001b[1;34m(self, table)\u001b[0m\n\u001b[0;32m   1195\u001b[0m     \u001b[0minclude_names\u001b[0m \u001b[1;33m=\u001b[0m \u001b[1;32mNone\u001b[0m\u001b[1;33m\u001b[0m\u001b[1;33m\u001b[0m\u001b[0m\n\u001b[0;32m   1196\u001b[0m     \u001b[0mexclude_names\u001b[0m \u001b[1;33m=\u001b[0m \u001b[1;32mNone\u001b[0m\u001b[1;33m\u001b[0m\u001b[1;33m\u001b[0m\u001b[0m\n\u001b[1;32m-> 1197\u001b[1;33m     \u001b[0mstrict_names\u001b[0m \u001b[1;33m=\u001b[0m \u001b[1;32mFalse\u001b[0m\u001b[1;33m\u001b[0m\u001b[1;33m\u001b[0m\u001b[0m\n\u001b[0m\u001b[0;32m   1198\u001b[0m     \u001b[0mguessing\u001b[0m \u001b[1;33m=\u001b[0m \u001b[1;32mFalse\u001b[0m\u001b[1;33m\u001b[0m\u001b[1;33m\u001b[0m\u001b[0m\n\u001b[0;32m   1199\u001b[0m     \u001b[0mencoding\u001b[0m \u001b[1;33m=\u001b[0m \u001b[1;32mNone\u001b[0m\u001b[1;33m\u001b[0m\u001b[1;33m\u001b[0m\u001b[0m\n",
      "\u001b[1;32mD:\\Programs\\Anaconda3\\lib\\site-packages\\astropy\\io\\ascii\\core.py\u001b[0m in \u001b[0;36m__call__\u001b[1;34m(self, cols, meta)\u001b[0m\n\u001b[0;32m    982\u001b[0m         \u001b[0mconverters_out\u001b[0m \u001b[1;33m=\u001b[0m \u001b[1;33m[\u001b[0m\u001b[1;33m]\u001b[0m\u001b[1;33m\u001b[0m\u001b[1;33m\u001b[0m\u001b[0m\n\u001b[0;32m    983\u001b[0m         \u001b[1;32mtry\u001b[0m\u001b[1;33m:\u001b[0m\u001b[1;33m\u001b[0m\u001b[1;33m\u001b[0m\u001b[0m\n\u001b[1;32m--> 984\u001b[1;33m             \u001b[1;32mfor\u001b[0m \u001b[0mconverter\u001b[0m \u001b[1;32min\u001b[0m \u001b[0mconverters\u001b[0m\u001b[1;33m:\u001b[0m\u001b[1;33m\u001b[0m\u001b[1;33m\u001b[0m\u001b[0m\n\u001b[0m\u001b[0;32m    985\u001b[0m                 \u001b[0mconverter_func\u001b[0m\u001b[1;33m,\u001b[0m \u001b[0mconverter_type\u001b[0m \u001b[1;33m=\u001b[0m \u001b[0mconverter\u001b[0m\u001b[1;33m\u001b[0m\u001b[1;33m\u001b[0m\u001b[0m\n\u001b[0;32m    986\u001b[0m                 \u001b[1;32mif\u001b[0m \u001b[1;32mnot\u001b[0m \u001b[0missubclass\u001b[0m\u001b[1;33m(\u001b[0m\u001b[0mconverter_type\u001b[0m\u001b[1;33m,\u001b[0m \u001b[0mNoType\u001b[0m\u001b[1;33m)\u001b[0m\u001b[1;33m:\u001b[0m\u001b[1;33m\u001b[0m\u001b[1;33m\u001b[0m\u001b[0m\n",
      "\u001b[1;32mD:\\Programs\\Anaconda3\\lib\\site-packages\\astropy\\io\\ascii\\core.py\u001b[0m in \u001b[0;36m_convert_vals\u001b[1;34m(self, cols)\u001b[0m\n\u001b[0;32m    967\u001b[0m     \u001b[1;32mreturn\u001b[0m \u001b[0mconverter\u001b[0m\u001b[1;33m,\u001b[0m \u001b[0mconverter_type\u001b[0m\u001b[1;33m\u001b[0m\u001b[1;33m\u001b[0m\u001b[0m\n\u001b[0;32m    968\u001b[0m \u001b[1;33m\u001b[0m\u001b[0m\n\u001b[1;32m--> 969\u001b[1;33m \u001b[1;33m\u001b[0m\u001b[0m\n\u001b[0m\u001b[0;32m    970\u001b[0m \u001b[1;32mclass\u001b[0m \u001b[0mBaseOutputter\u001b[0m\u001b[1;33m:\u001b[0m\u001b[1;33m\u001b[0m\u001b[1;33m\u001b[0m\u001b[0m\n\u001b[0;32m    971\u001b[0m     \"\"\"Output table as a dict of column objects keyed on column name.  The\n",
      "\u001b[1;31mValueError\u001b[0m: Column year failed to convert: invalid literal for int() with base 10: '<!'"
     ]
    }
   ],
   "source": [
    "jup = []\n",
    "with solar_system_ephemeris.set('builtin'):\n",
    "    for i in range(len(t)):\n",
    "        jup[i] = get_body('earth', t[i], loc)"
   ]
  },
  {
   "cell_type": "code",
   "execution_count": 110,
   "metadata": {},
   "outputs": [],
   "source": [
    "times = ['1999-01-01T00:00:00.123456789', '2010-01-01T00:00:00']"
   ]
  },
  {
   "cell_type": "code",
   "execution_count": 111,
   "metadata": {},
   "outputs": [],
   "source": [
    "t = Time(times, format='isot', scale='utc')"
   ]
  },
  {
   "cell_type": "code",
   "execution_count": 112,
   "metadata": {},
   "outputs": [],
   "source": [
    "dt = t[1] - t[0]"
   ]
  },
  {
   "cell_type": "code",
   "execution_count": 113,
   "metadata": {},
   "outputs": [],
   "source": [
    "a = t[0] + dt * np.linspace(0.,1.,12)"
   ]
  },
  {
   "cell_type": "code",
   "execution_count": 114,
   "metadata": {},
   "outputs": [
    {
     "data": {
      "text/plain": [
       "<Time object: scale='utc' format='isot' value=['1999-01-01T00:00:00.123' '2000-01-01T06:32:43.930'\n",
       " '2000-12-31T13:05:27.737' '2001-12-31T19:38:11.544'\n",
       " '2003-01-01T02:10:55.351' '2004-01-01T08:43:39.158'\n",
       " '2004-12-31T15:16:22.965' '2005-12-31T21:49:06.772'\n",
       " '2007-01-01T04:21:49.579' '2008-01-01T10:54:33.386'\n",
       " '2008-12-31T17:27:17.193' '2010-01-01T00:00:00.000']>"
      ]
     },
     "execution_count": 114,
     "metadata": {},
     "output_type": "execute_result"
    }
   ],
   "source": [
    "a"
   ]
  },
  {
   "cell_type": "code",
   "execution_count": 105,
   "metadata": {},
   "outputs": [
    {
     "ename": "ValueError",
     "evalue": "Column year failed to convert: invalid literal for int() with base 10: '<!'",
     "output_type": "error",
     "traceback": [
      "\u001b[1;31m---------------------------------------------------------------------------\u001b[0m",
      "\u001b[1;31mIndexError\u001b[0m                                Traceback (most recent call last)",
      "\u001b[1;32mD:\\Programs\\Anaconda3\\lib\\site-packages\\astropy\\io\\ascii\\core.py\u001b[0m in \u001b[0;36m_convert_vals\u001b[1;34m(self, cols)\u001b[0m\n\u001b[0;32m    952\u001b[0m                 \u001b[1;32mraise\u001b[0m \u001b[0mValueError\u001b[0m\u001b[1;33m(\u001b[0m\u001b[1;34m'bool input strings must be False, True, 0, 1, or \"\"'\u001b[0m\u001b[1;33m)\u001b[0m\u001b[1;33m\u001b[0m\u001b[1;33m\u001b[0m\u001b[0m\n\u001b[1;32m--> 953\u001b[1;33m         \u001b[0mvals\u001b[0m \u001b[1;33m=\u001b[0m \u001b[0mnumpy\u001b[0m\u001b[1;33m.\u001b[0m\u001b[0masarray\u001b[0m\u001b[1;33m(\u001b[0m\u001b[0mvals\u001b[0m\u001b[1;33m)\u001b[0m\u001b[1;33m\u001b[0m\u001b[1;33m\u001b[0m\u001b[0m\n\u001b[0m\u001b[0;32m    954\u001b[0m \u001b[1;33m\u001b[0m\u001b[0m\n",
      "\u001b[1;31mIndexError\u001b[0m: list index out of range",
      "\nDuring handling of the above exception, another exception occurred:\n",
      "\u001b[1;31mValueError\u001b[0m                                Traceback (most recent call last)",
      "\u001b[1;32m<ipython-input-105-8c6fa94df366>\u001b[0m in \u001b[0;36m<module>\u001b[1;34m\u001b[0m\n\u001b[0;32m      2\u001b[0m \u001b[1;32mwith\u001b[0m \u001b[0msolar_system_ephemeris\u001b[0m\u001b[1;33m.\u001b[0m\u001b[0mset\u001b[0m\u001b[1;33m(\u001b[0m\u001b[1;34m'builtin'\u001b[0m\u001b[1;33m)\u001b[0m\u001b[1;33m:\u001b[0m\u001b[1;33m\u001b[0m\u001b[1;33m\u001b[0m\u001b[0m\n\u001b[0;32m      3\u001b[0m     \u001b[1;32mfor\u001b[0m \u001b[0mi\u001b[0m \u001b[1;32min\u001b[0m \u001b[0mrange\u001b[0m\u001b[1;33m(\u001b[0m\u001b[0mlen\u001b[0m\u001b[1;33m(\u001b[0m\u001b[0ma\u001b[0m\u001b[1;33m)\u001b[0m\u001b[1;33m)\u001b[0m\u001b[1;33m:\u001b[0m\u001b[1;33m\u001b[0m\u001b[1;33m\u001b[0m\u001b[0m\n\u001b[1;32m----> 4\u001b[1;33m         \u001b[0mjup\u001b[0m\u001b[1;33m[\u001b[0m\u001b[0mi\u001b[0m\u001b[1;33m]\u001b[0m \u001b[1;33m=\u001b[0m \u001b[0mget_body\u001b[0m\u001b[1;33m(\u001b[0m\u001b[1;34m'jupiter'\u001b[0m\u001b[1;33m,\u001b[0m \u001b[0ma\u001b[0m\u001b[1;33m[\u001b[0m\u001b[0mi\u001b[0m\u001b[1;33m]\u001b[0m\u001b[1;33m,\u001b[0m \u001b[0mloc\u001b[0m\u001b[1;33m)\u001b[0m\u001b[1;33m\u001b[0m\u001b[1;33m\u001b[0m\u001b[0m\n\u001b[0m",
      "\u001b[1;32mD:\\Programs\\Anaconda3\\lib\\site-packages\\astropy\\coordinates\\solar_system.py\u001b[0m in \u001b[0;36mget_body\u001b[1;34m(body, time, location, ephemeris)\u001b[0m\n\u001b[0;32m    453\u001b[0m     \u001b[0mskycoord\u001b[0m \u001b[1;33m:\u001b[0m\u001b[0;31m \u001b[0m\u001b[0;31m`\u001b[0m\u001b[1;33m~\u001b[0m\u001b[0mastropy\u001b[0m\u001b[1;33m.\u001b[0m\u001b[0mcoordinates\u001b[0m\u001b[1;33m.\u001b[0m\u001b[0mSkyCoord\u001b[0m\u001b[0;31m`\u001b[0m\u001b[1;33m\u001b[0m\u001b[1;33m\u001b[0m\u001b[0m\n\u001b[0;32m    454\u001b[0m         \u001b[0mGCRS\u001b[0m \u001b[0mCoordinate\u001b[0m \u001b[1;32mfor\u001b[0m \u001b[0mthe\u001b[0m \u001b[0mbody\u001b[0m\u001b[1;33m\u001b[0m\u001b[1;33m\u001b[0m\u001b[0m\n\u001b[1;32m--> 455\u001b[1;33m \u001b[1;33m\u001b[0m\u001b[0m\n\u001b[0m\u001b[0;32m    456\u001b[0m     \u001b[0mNotes\u001b[0m\u001b[1;33m\u001b[0m\u001b[1;33m\u001b[0m\u001b[0m\n\u001b[0;32m    457\u001b[0m     \u001b[1;33m-\u001b[0m\u001b[1;33m-\u001b[0m\u001b[1;33m-\u001b[0m\u001b[1;33m-\u001b[0m\u001b[1;33m-\u001b[0m\u001b[1;33m\u001b[0m\u001b[1;33m\u001b[0m\u001b[0m\n",
      "\u001b[1;32mD:\\Programs\\Anaconda3\\lib\\site-packages\\astropy\\coordinates\\earth.py\u001b[0m in \u001b[0;36mget_gcrs_posvel\u001b[1;34m(self, obstime)\u001b[0m\n\u001b[0;32m    703\u001b[0m         \u001b[0mgcrs_data\u001b[0m \u001b[1;33m=\u001b[0m \u001b[0mself\u001b[0m\u001b[1;33m.\u001b[0m\u001b[0mget_gcrs\u001b[0m\u001b[1;33m(\u001b[0m\u001b[0mobstime\u001b[0m\u001b[1;33m)\u001b[0m\u001b[1;33m.\u001b[0m\u001b[0mdata\u001b[0m\u001b[1;33m\u001b[0m\u001b[1;33m\u001b[0m\u001b[0m\n\u001b[0;32m    704\u001b[0m         \u001b[0mobsgeopos\u001b[0m \u001b[1;33m=\u001b[0m \u001b[0mgcrs_data\u001b[0m\u001b[1;33m.\u001b[0m\u001b[0mwithout_differentials\u001b[0m\u001b[1;33m(\u001b[0m\u001b[1;33m)\u001b[0m\u001b[1;33m\u001b[0m\u001b[1;33m\u001b[0m\u001b[0m\n\u001b[1;32m--> 705\u001b[1;33m         \u001b[0mobsgeovel\u001b[0m \u001b[1;33m=\u001b[0m \u001b[0mgcrs_data\u001b[0m\u001b[1;33m.\u001b[0m\u001b[0mdifferentials\u001b[0m\u001b[1;33m[\u001b[0m\u001b[1;34m's'\u001b[0m\u001b[1;33m]\u001b[0m\u001b[1;33m.\u001b[0m\u001b[0mto_cartesian\u001b[0m\u001b[1;33m(\u001b[0m\u001b[1;33m)\u001b[0m\u001b[1;33m\u001b[0m\u001b[1;33m\u001b[0m\u001b[0m\n\u001b[0m\u001b[0;32m    706\u001b[0m         \u001b[1;32mreturn\u001b[0m \u001b[0mobsgeopos\u001b[0m\u001b[1;33m,\u001b[0m \u001b[0mobsgeovel\u001b[0m\u001b[1;33m\u001b[0m\u001b[1;33m\u001b[0m\u001b[0m\n\u001b[0;32m    707\u001b[0m \u001b[1;33m\u001b[0m\u001b[0m\n",
      "\u001b[1;32mD:\\Programs\\Anaconda3\\lib\\site-packages\\astropy\\coordinates\\earth.py\u001b[0m in \u001b[0;36mget_gcrs\u001b[1;34m(self, obstime)\u001b[0m\n\u001b[0;32m    683\u001b[0m         \u001b[1;32mreturn\u001b[0m \u001b[0mitrs\u001b[0m\u001b[1;33m.\u001b[0m\u001b[0mtransform_to\u001b[0m\u001b[1;33m(\u001b[0m\u001b[0mGCRS\u001b[0m\u001b[1;33m(\u001b[0m\u001b[0mobstime\u001b[0m\u001b[1;33m=\u001b[0m\u001b[0mobstime\u001b[0m\u001b[1;33m)\u001b[0m\u001b[1;33m)\u001b[0m\u001b[1;33m\u001b[0m\u001b[1;33m\u001b[0m\u001b[0m\n\u001b[0;32m    684\u001b[0m \u001b[1;33m\u001b[0m\u001b[0m\n\u001b[1;32m--> 685\u001b[1;33m     \u001b[1;32mdef\u001b[0m \u001b[0mget_gcrs_posvel\u001b[0m\u001b[1;33m(\u001b[0m\u001b[0mself\u001b[0m\u001b[1;33m,\u001b[0m \u001b[0mobstime\u001b[0m\u001b[1;33m)\u001b[0m\u001b[1;33m:\u001b[0m\u001b[1;33m\u001b[0m\u001b[1;33m\u001b[0m\u001b[0m\n\u001b[0m\u001b[0;32m    686\u001b[0m         \"\"\"\n\u001b[0;32m    687\u001b[0m         \u001b[0mCalculate\u001b[0m \u001b[0mthe\u001b[0m \u001b[0mGCRS\u001b[0m \u001b[0mposition\u001b[0m \u001b[1;32mand\u001b[0m \u001b[0mvelocity\u001b[0m \u001b[0mof\u001b[0m \u001b[0mthis\u001b[0m \u001b[0mobject\u001b[0m \u001b[0mat\u001b[0m \u001b[0mthe\u001b[0m\u001b[1;33m\u001b[0m\u001b[1;33m\u001b[0m\u001b[0m\n",
      "\u001b[1;32mD:\\Programs\\Anaconda3\\lib\\site-packages\\astropy\\coordinates\\baseframe.py\u001b[0m in \u001b[0;36mtransform_to\u001b[1;34m(self, new_frame)\u001b[0m\n\u001b[0;32m   1184\u001b[0m             \u001b[0mA\u001b[0m \u001b[0mnew\u001b[0m \u001b[0mobject\u001b[0m \u001b[1;32mwith\u001b[0m \u001b[0mthe\u001b[0m \u001b[0mcoordinate\u001b[0m \u001b[0mdata\u001b[0m \u001b[0mrepresented\u001b[0m \u001b[1;32min\u001b[0m \u001b[0mthe\u001b[0m\u001b[1;33m\u001b[0m\u001b[1;33m\u001b[0m\u001b[0m\n\u001b[0;32m   1185\u001b[0m             \u001b[0;31m`\u001b[0m\u001b[0;31m`\u001b[0m\u001b[0mnewframe\u001b[0m\u001b[0;31m`\u001b[0m\u001b[0;31m`\u001b[0m \u001b[0msystem\u001b[0m\u001b[1;33m.\u001b[0m\u001b[1;33m\u001b[0m\u001b[1;33m\u001b[0m\u001b[0m\n\u001b[1;32m-> 1186\u001b[1;33m \u001b[1;33m\u001b[0m\u001b[0m\n\u001b[0m\u001b[0;32m   1187\u001b[0m         \u001b[0mRaises\u001b[0m\u001b[1;33m\u001b[0m\u001b[1;33m\u001b[0m\u001b[0m\n\u001b[0;32m   1188\u001b[0m         \u001b[1;33m-\u001b[0m\u001b[1;33m-\u001b[0m\u001b[1;33m-\u001b[0m\u001b[1;33m-\u001b[0m\u001b[1;33m-\u001b[0m\u001b[1;33m-\u001b[0m\u001b[1;33m\u001b[0m\u001b[1;33m\u001b[0m\u001b[0m\n",
      "\u001b[1;32mD:\\Programs\\Anaconda3\\lib\\site-packages\\astropy\\coordinates\\transformations.py\u001b[0m in \u001b[0;36m__call__\u001b[1;34m(self, fromcoord, toframe)\u001b[0m\n\u001b[0;32m   1375\u001b[0m \u001b[1;33m\u001b[0m\u001b[0m\n\u001b[0;32m   1376\u001b[0m     def __init__(self, transforms, fromsys, tosys, priority=1,\n\u001b[1;32m-> 1377\u001b[1;33m                  register_graph=None, collapse_static_mats=True):\n\u001b[0m\u001b[0;32m   1378\u001b[0m         super().__init__(fromsys, tosys, priority=priority,\n\u001b[0;32m   1379\u001b[0m                          register_graph=register_graph)\n",
      "\u001b[1;32mD:\\Programs\\Anaconda3\\lib\\site-packages\\astropy\\coordinates\\transformations.py\u001b[0m in \u001b[0;36m__call__\u001b[1;34m(self, fromcoord, toframe)\u001b[0m\n\u001b[0;32m    911\u001b[0m \u001b[1;33m\u001b[0m\u001b[0m\n\u001b[0;32m    912\u001b[0m     \"\"\"\n\u001b[1;32m--> 913\u001b[1;33m \u001b[1;33m\u001b[0m\u001b[0m\n\u001b[0m\u001b[0;32m    914\u001b[0m     def __init__(self, func, fromsys, tosys, priority=1, register_graph=None,\n\u001b[0;32m    915\u001b[0m                  \u001b[0mfinite_difference_frameattr_name\u001b[0m\u001b[1;33m=\u001b[0m\u001b[1;34m'obstime'\u001b[0m\u001b[1;33m,\u001b[0m\u001b[1;33m\u001b[0m\u001b[1;33m\u001b[0m\u001b[0m\n",
      "\u001b[1;32mD:\\Programs\\Anaconda3\\lib\\site-packages\\astropy\\coordinates\\builtin_frames\\intermediate_rotation_transforms.py\u001b[0m in \u001b[0;36mitrs_to_cirs\u001b[1;34m(itrs_coo, cirs_frame)\u001b[0m\n\u001b[0;32m     85\u001b[0m     \u001b[1;32mreturn\u001b[0m \u001b[0merfa\u001b[0m\u001b[1;33m.\u001b[0m\u001b[0mfw2m\u001b[0m\u001b[1;33m(\u001b[0m\u001b[0mgamb\u001b[0m\u001b[1;33m,\u001b[0m \u001b[0mphib\u001b[0m\u001b[1;33m,\u001b[0m \u001b[0mpsib\u001b[0m\u001b[1;33m,\u001b[0m \u001b[0mepsa\u001b[0m\u001b[1;33m)\u001b[0m\u001b[1;33m\u001b[0m\u001b[1;33m\u001b[0m\u001b[0m\n\u001b[0;32m     86\u001b[0m \u001b[1;33m\u001b[0m\u001b[0m\n\u001b[1;32m---> 87\u001b[1;33m \u001b[1;33m\u001b[0m\u001b[0m\n\u001b[0m\u001b[0;32m     88\u001b[0m \u001b[1;32mdef\u001b[0m \u001b[0mget_location_gcrs\u001b[0m\u001b[1;33m(\u001b[0m\u001b[0mreference\u001b[0m\u001b[1;33m,\u001b[0m \u001b[0mgcrs_to_reference_matrix\u001b[0m\u001b[1;33m)\u001b[0m\u001b[1;33m:\u001b[0m\u001b[1;33m\u001b[0m\u001b[1;33m\u001b[0m\u001b[0m\n\u001b[0;32m     89\u001b[0m     \"\"\"Create a GCRS frame at the location and obstime of a given reference.\n",
      "\u001b[1;32mD:\\Programs\\Anaconda3\\lib\\site-packages\\astropy\\coordinates\\builtin_frames\\intermediate_rotation_transforms.py\u001b[0m in \u001b[0;36mcirs_to_itrs_mat\u001b[1;34m(time)\u001b[0m\n\u001b[0;32m     29\u001b[0m     \u001b[1;31m# Use 1982 model for consistency with Vallado et al (2006)\u001b[0m\u001b[1;33m\u001b[0m\u001b[1;33m\u001b[0m\u001b[1;33m\u001b[0m\u001b[0m\n\u001b[0;32m     30\u001b[0m     \u001b[1;31m# http://www.celestrak.com/publications/aiaa/2006-6753/AIAA-2006-6753.pdf\u001b[0m\u001b[1;33m\u001b[0m\u001b[1;33m\u001b[0m\u001b[1;33m\u001b[0m\u001b[0m\n\u001b[1;32m---> 31\u001b[1;33m     \u001b[0mgst\u001b[0m \u001b[1;33m=\u001b[0m \u001b[0merfa\u001b[0m\u001b[1;33m.\u001b[0m\u001b[0mgmst82\u001b[0m\u001b[1;33m(\u001b[0m\u001b[1;33m*\u001b[0m\u001b[0mget_jd12\u001b[0m\u001b[1;33m(\u001b[0m\u001b[0mtime\u001b[0m\u001b[1;33m,\u001b[0m \u001b[1;34m'ut1'\u001b[0m\u001b[1;33m)\u001b[0m\u001b[1;33m)\u001b[0m\u001b[1;33m\u001b[0m\u001b[1;33m\u001b[0m\u001b[0m\n\u001b[0m\u001b[0;32m     32\u001b[0m \u001b[1;33m\u001b[0m\u001b[0m\n\u001b[0;32m     33\u001b[0m     \u001b[1;31m# Polar Motion\u001b[0m\u001b[1;33m\u001b[0m\u001b[1;33m\u001b[0m\u001b[1;33m\u001b[0m\u001b[0m\n",
      "\u001b[1;32mD:\\Programs\\Anaconda3\\lib\\site-packages\\astropy\\coordinates\\builtin_frames\\utils.py\u001b[0m in \u001b[0;36mget_polar_motion\u001b[1;34m(time)\u001b[0m\n\u001b[0;32m     38\u001b[0m \u001b[1;31m# comes from the mean of the 1962-2014 IERS B data\u001b[0m\u001b[1;33m\u001b[0m\u001b[1;33m\u001b[0m\u001b[1;33m\u001b[0m\u001b[0m\n\u001b[0;32m     39\u001b[0m \u001b[0m_DEFAULT_PM\u001b[0m \u001b[1;33m=\u001b[0m \u001b[1;33m(\u001b[0m\u001b[1;36m0.035\u001b[0m\u001b[1;33m,\u001b[0m \u001b[1;36m0.29\u001b[0m\u001b[1;33m)\u001b[0m\u001b[1;33m*\u001b[0m\u001b[0mu\u001b[0m\u001b[1;33m.\u001b[0m\u001b[0marcsec\u001b[0m\u001b[1;33m\u001b[0m\u001b[1;33m\u001b[0m\u001b[0m\n\u001b[1;32m---> 40\u001b[1;33m \u001b[1;33m\u001b[0m\u001b[0m\n\u001b[0m\u001b[0;32m     41\u001b[0m \u001b[1;33m\u001b[0m\u001b[0m\n\u001b[0;32m     42\u001b[0m \u001b[1;32mdef\u001b[0m \u001b[0mget_polar_motion\u001b[0m\u001b[1;33m(\u001b[0m\u001b[0mtime\u001b[0m\u001b[1;33m)\u001b[0m\u001b[1;33m:\u001b[0m\u001b[1;33m\u001b[0m\u001b[1;33m\u001b[0m\u001b[0m\n",
      "\u001b[1;32mD:\\Programs\\Anaconda3\\lib\\site-packages\\astropy\\utils\\iers\\iers.py\u001b[0m in \u001b[0;36mopen\u001b[1;34m(cls)\u001b[0m\n\u001b[0;32m    658\u001b[0m             \u001b[1;32mreturn\u001b[0m \u001b[0mcls\u001b[0m\u001b[1;33m.\u001b[0m\u001b[0miers_table\u001b[0m\u001b[1;33m\u001b[0m\u001b[1;33m\u001b[0m\u001b[0m\n\u001b[0;32m    659\u001b[0m \u001b[1;33m\u001b[0m\u001b[0m\n\u001b[1;32m--> 660\u001b[1;33m         \u001b[0mall_urls\u001b[0m \u001b[1;33m=\u001b[0m \u001b[1;33m(\u001b[0m\u001b[0mconf\u001b[0m\u001b[1;33m.\u001b[0m\u001b[0miers_auto_url\u001b[0m\u001b[1;33m,\u001b[0m \u001b[0mconf\u001b[0m\u001b[1;33m.\u001b[0m\u001b[0miers_auto_url_mirror\u001b[0m\u001b[1;33m)\u001b[0m\u001b[1;33m\u001b[0m\u001b[1;33m\u001b[0m\u001b[0m\n\u001b[0m\u001b[0;32m    661\u001b[0m \u001b[1;33m\u001b[0m\u001b[0m\n\u001b[0;32m    662\u001b[0m         \u001b[1;32mif\u001b[0m \u001b[0mcls\u001b[0m\u001b[1;33m.\u001b[0m\u001b[0miers_table\u001b[0m \u001b[1;32mis\u001b[0m \u001b[1;32mnot\u001b[0m \u001b[1;32mNone\u001b[0m\u001b[1;33m:\u001b[0m\u001b[1;33m\u001b[0m\u001b[1;33m\u001b[0m\u001b[0m\n",
      "\u001b[1;32mD:\\Programs\\Anaconda3\\lib\\site-packages\\astropy\\utils\\iers\\iers.py\u001b[0m in \u001b[0;36mread\u001b[1;34m(cls, file, readme)\u001b[0m\n\u001b[0;32m    502\u001b[0m         p_index = min(np.searchsorted(table['UT1Flag_A'], 'P'),\n\u001b[0;32m    503\u001b[0m                       np.searchsorted(table['PolPMFlag_A'], 'P'))\n\u001b[1;32m--> 504\u001b[1;33m         \u001b[0mtable\u001b[0m\u001b[1;33m.\u001b[0m\u001b[0mmeta\u001b[0m\u001b[1;33m[\u001b[0m\u001b[1;34m'predictive_index'\u001b[0m\u001b[1;33m]\u001b[0m \u001b[1;33m=\u001b[0m \u001b[0mp_index\u001b[0m\u001b[1;33m\u001b[0m\u001b[1;33m\u001b[0m\u001b[0m\n\u001b[0m\u001b[0;32m    505\u001b[0m         \u001b[0mtable\u001b[0m\u001b[1;33m.\u001b[0m\u001b[0mmeta\u001b[0m\u001b[1;33m[\u001b[0m\u001b[1;34m'predictive_mjd'\u001b[0m\u001b[1;33m]\u001b[0m \u001b[1;33m=\u001b[0m \u001b[0mtable\u001b[0m\u001b[1;33m[\u001b[0m\u001b[1;34m'MJD'\u001b[0m\u001b[1;33m]\u001b[0m\u001b[1;33m[\u001b[0m\u001b[0mp_index\u001b[0m\u001b[1;33m]\u001b[0m\u001b[1;33m.\u001b[0m\u001b[0mvalue\u001b[0m\u001b[1;33m\u001b[0m\u001b[1;33m\u001b[0m\u001b[0m\n\u001b[0;32m    506\u001b[0m \u001b[1;33m\u001b[0m\u001b[0m\n",
      "\u001b[1;32mD:\\Programs\\Anaconda3\\lib\\site-packages\\astropy\\table\\table.py\u001b[0m in \u001b[0;36mread\u001b[1;34m(cls, *args, **kwargs)\u001b[0m\n\u001b[0;32m   2548\u001b[0m         \u001b[1;32mfor\u001b[0m \u001b[0ma\u001b[0m \u001b[0mcolumn\u001b[0m\u001b[1;33m:\u001b[0m\u001b[1;33m:\u001b[0m\u001b[1;33m\u001b[0m\u001b[1;33m\u001b[0m\u001b[0m\n\u001b[0;32m   2549\u001b[0m \u001b[1;33m\u001b[0m\u001b[0m\n\u001b[1;32m-> 2550\u001b[1;33m           \u001b[0mtable\u001b[0m\u001b[1;33m[\u001b[0m\u001b[0mname\u001b[0m\u001b[1;33m]\u001b[0m\u001b[1;33m.\u001b[0m\u001b[0mname\u001b[0m \u001b[1;33m=\u001b[0m \u001b[0mnew_name\u001b[0m\u001b[1;33m\u001b[0m\u001b[1;33m\u001b[0m\u001b[0m\n\u001b[0m\u001b[0;32m   2551\u001b[0m \u001b[1;33m\u001b[0m\u001b[0m\n\u001b[0;32m   2552\u001b[0m         \u001b[0mTODO\u001b[0m\u001b[1;33m:\u001b[0m \u001b[0mthis\u001b[0m \u001b[0mwon\u001b[0m\u001b[0;31m'\u001b[0m\u001b[0mt\u001b[0m \u001b[0mwork\u001b[0m \u001b[1;32mfor\u001b[0m \u001b[0mmixins\u001b[0m\u001b[1;33m\u001b[0m\u001b[1;33m\u001b[0m\u001b[0m\n",
      "\u001b[1;32mD:\\Programs\\Anaconda3\\lib\\site-packages\\astropy\\io\\registry.py\u001b[0m in \u001b[0;36mread\u001b[1;34m(cls, format, *args, **kwargs)\u001b[0m\n\u001b[0;32m    515\u001b[0m \u001b[1;33m\u001b[0m\u001b[0m\n\u001b[0;32m    516\u001b[0m             format = _get_valid_format(\n\u001b[1;32m--> 517\u001b[1;33m                 'read', cls, path, fileobj, args, kwargs)\n\u001b[0m\u001b[0;32m    518\u001b[0m \u001b[1;33m\u001b[0m\u001b[0m\n\u001b[0;32m    519\u001b[0m         \u001b[0mreader\u001b[0m \u001b[1;33m=\u001b[0m \u001b[0mget_reader\u001b[0m\u001b[1;33m(\u001b[0m\u001b[0mformat\u001b[0m\u001b[1;33m,\u001b[0m \u001b[0mcls\u001b[0m\u001b[1;33m)\u001b[0m\u001b[1;33m\u001b[0m\u001b[1;33m\u001b[0m\u001b[0m\n",
      "\u001b[1;32mD:\\Programs\\Anaconda3\\lib\\site-packages\\astropy\\io\\ascii\\connect.py\u001b[0m in \u001b[0;36mio_read\u001b[1;34m(format, filename, **kwargs)\u001b[0m\n\u001b[0;32m     35\u001b[0m \u001b[1;33m\u001b[0m\u001b[0m\n\u001b[0;32m     36\u001b[0m     \u001b[0mrows\u001b[0m \u001b[1;33m=\u001b[0m \u001b[1;33m[\u001b[0m\u001b[1;33m]\u001b[0m\u001b[1;33m\u001b[0m\u001b[1;33m\u001b[0m\u001b[0m\n\u001b[1;32m---> 37\u001b[1;33m     \u001b[0mrows\u001b[0m\u001b[1;33m.\u001b[0m\u001b[0mappend\u001b[0m\u001b[1;33m(\u001b[0m\u001b[1;33m(\u001b[0m\u001b[1;34m'ascii'\u001b[0m\u001b[1;33m,\u001b[0m \u001b[1;34m''\u001b[0m\u001b[1;33m,\u001b[0m \u001b[1;34m'Yes'\u001b[0m\u001b[1;33m,\u001b[0m \u001b[1;34m'ASCII table in any supported format (uses guessing)'\u001b[0m\u001b[1;33m)\u001b[0m\u001b[1;33m)\u001b[0m\u001b[1;33m\u001b[0m\u001b[1;33m\u001b[0m\u001b[0m\n\u001b[0m\u001b[0;32m     38\u001b[0m     \u001b[1;32mfor\u001b[0m \u001b[0mformat\u001b[0m \u001b[1;32min\u001b[0m \u001b[0msorted\u001b[0m\u001b[1;33m(\u001b[0m\u001b[0mFORMAT_CLASSES\u001b[0m\u001b[1;33m)\u001b[0m\u001b[1;33m:\u001b[0m\u001b[1;33m\u001b[0m\u001b[1;33m\u001b[0m\u001b[0m\n\u001b[0;32m     39\u001b[0m         \u001b[0mcls\u001b[0m \u001b[1;33m=\u001b[0m \u001b[0mFORMAT_CLASSES\u001b[0m\u001b[1;33m[\u001b[0m\u001b[0mformat\u001b[0m\u001b[1;33m]\u001b[0m\u001b[1;33m\u001b[0m\u001b[1;33m\u001b[0m\u001b[0m\n",
      "\u001b[1;32mD:\\Programs\\Anaconda3\\lib\\site-packages\\astropy\\io\\ascii\\ui.py\u001b[0m in \u001b[0;36mread\u001b[1;34m(table, guess, **kwargs)\u001b[0m\n\u001b[0;32m    407\u001b[0m     \u001b[0mReturns\u001b[0m\u001b[1;33m\u001b[0m\u001b[1;33m\u001b[0m\u001b[0m\n\u001b[0;32m    408\u001b[0m     \u001b[1;33m-\u001b[0m\u001b[1;33m-\u001b[0m\u001b[1;33m-\u001b[0m\u001b[1;33m-\u001b[0m\u001b[1;33m-\u001b[0m\u001b[1;33m-\u001b[0m\u001b[1;33m-\u001b[0m\u001b[1;33m\u001b[0m\u001b[1;33m\u001b[0m\u001b[0m\n\u001b[1;32m--> 409\u001b[1;33m     \u001b[0mdat\u001b[0m \u001b[1;33m:\u001b[0m\u001b[0;31m \u001b[0m\u001b[0;31m`\u001b[0m\u001b[1;33m~\u001b[0m\u001b[0mastropy\u001b[0m\u001b[1;33m.\u001b[0m\u001b[0mtable\u001b[0m\u001b[1;33m.\u001b[0m\u001b[0mTable\u001b[0m\u001b[0;31m`\u001b[0m \u001b[1;32mor\u001b[0m \u001b[1;32mNone\u001b[0m\u001b[1;33m\u001b[0m\u001b[1;33m\u001b[0m\u001b[0m\n\u001b[0m\u001b[0;32m    410\u001b[0m         \u001b[0mOutput\u001b[0m \u001b[0mtable\u001b[0m \u001b[1;32mor\u001b[0m \u001b[1;32mNone\u001b[0m \u001b[1;32mif\u001b[0m \u001b[0monly\u001b[0m \u001b[0mone\u001b[0m \u001b[0mguess\u001b[0m \u001b[0mformat\u001b[0m \u001b[0mwas\u001b[0m \u001b[0mavailable\u001b[0m\u001b[1;33m\u001b[0m\u001b[1;33m\u001b[0m\u001b[0m\n\u001b[0;32m    411\u001b[0m     \"\"\"\n",
      "\u001b[1;32mD:\\Programs\\Anaconda3\\lib\\site-packages\\astropy\\io\\ascii\\cds.py\u001b[0m in \u001b[0;36mread\u001b[1;34m(self, table)\u001b[0m\n\u001b[0;32m    321\u001b[0m             \u001b[1;32mfor\u001b[0m \u001b[0mdata_start\u001b[0m \u001b[1;32min\u001b[0m \u001b[0mrange\u001b[0m\u001b[1;33m(\u001b[0m\u001b[0mlen\u001b[0m\u001b[1;33m(\u001b[0m\u001b[0mlines\u001b[0m\u001b[1;33m)\u001b[0m\u001b[1;33m)\u001b[0m\u001b[1;33m:\u001b[0m\u001b[1;33m\u001b[0m\u001b[1;33m\u001b[0m\u001b[0m\n\u001b[0;32m    322\u001b[0m                 \u001b[0mself\u001b[0m\u001b[1;33m.\u001b[0m\u001b[0mdata\u001b[0m\u001b[1;33m.\u001b[0m\u001b[0mstart_line\u001b[0m \u001b[1;33m=\u001b[0m \u001b[0mdata_start\u001b[0m\u001b[1;33m\u001b[0m\u001b[1;33m\u001b[0m\u001b[0m\n\u001b[1;32m--> 323\u001b[1;33m                 \u001b[1;32mwith\u001b[0m \u001b[0msuppress\u001b[0m\u001b[1;33m(\u001b[0m\u001b[0mException\u001b[0m\u001b[1;33m)\u001b[0m\u001b[1;33m:\u001b[0m\u001b[1;33m\u001b[0m\u001b[1;33m\u001b[0m\u001b[0m\n\u001b[0m\u001b[0;32m    324\u001b[0m                     \u001b[0mtable\u001b[0m \u001b[1;33m=\u001b[0m \u001b[0msuper\u001b[0m\u001b[1;33m(\u001b[0m\u001b[1;33m)\u001b[0m\u001b[1;33m.\u001b[0m\u001b[0mread\u001b[0m\u001b[1;33m(\u001b[0m\u001b[0mlines\u001b[0m\u001b[1;33m)\u001b[0m\u001b[1;33m\u001b[0m\u001b[1;33m\u001b[0m\u001b[0m\n\u001b[0;32m    325\u001b[0m                     \u001b[1;32mreturn\u001b[0m \u001b[0mtable\u001b[0m\u001b[1;33m\u001b[0m\u001b[1;33m\u001b[0m\u001b[0m\n",
      "\u001b[1;32mD:\\Programs\\Anaconda3\\lib\\site-packages\\astropy\\io\\ascii\\core.py\u001b[0m in \u001b[0;36mread\u001b[1;34m(self, table)\u001b[0m\n\u001b[0;32m   1195\u001b[0m     \u001b[0minclude_names\u001b[0m \u001b[1;33m=\u001b[0m \u001b[1;32mNone\u001b[0m\u001b[1;33m\u001b[0m\u001b[1;33m\u001b[0m\u001b[0m\n\u001b[0;32m   1196\u001b[0m     \u001b[0mexclude_names\u001b[0m \u001b[1;33m=\u001b[0m \u001b[1;32mNone\u001b[0m\u001b[1;33m\u001b[0m\u001b[1;33m\u001b[0m\u001b[0m\n\u001b[1;32m-> 1197\u001b[1;33m     \u001b[0mstrict_names\u001b[0m \u001b[1;33m=\u001b[0m \u001b[1;32mFalse\u001b[0m\u001b[1;33m\u001b[0m\u001b[1;33m\u001b[0m\u001b[0m\n\u001b[0m\u001b[0;32m   1198\u001b[0m     \u001b[0mguessing\u001b[0m \u001b[1;33m=\u001b[0m \u001b[1;32mFalse\u001b[0m\u001b[1;33m\u001b[0m\u001b[1;33m\u001b[0m\u001b[0m\n\u001b[0;32m   1199\u001b[0m     \u001b[0mencoding\u001b[0m \u001b[1;33m=\u001b[0m \u001b[1;32mNone\u001b[0m\u001b[1;33m\u001b[0m\u001b[1;33m\u001b[0m\u001b[0m\n",
      "\u001b[1;32mD:\\Programs\\Anaconda3\\lib\\site-packages\\astropy\\io\\ascii\\core.py\u001b[0m in \u001b[0;36m__call__\u001b[1;34m(self, cols, meta)\u001b[0m\n\u001b[0;32m    982\u001b[0m         \u001b[0mconverters_out\u001b[0m \u001b[1;33m=\u001b[0m \u001b[1;33m[\u001b[0m\u001b[1;33m]\u001b[0m\u001b[1;33m\u001b[0m\u001b[1;33m\u001b[0m\u001b[0m\n\u001b[0;32m    983\u001b[0m         \u001b[1;32mtry\u001b[0m\u001b[1;33m:\u001b[0m\u001b[1;33m\u001b[0m\u001b[1;33m\u001b[0m\u001b[0m\n\u001b[1;32m--> 984\u001b[1;33m             \u001b[1;32mfor\u001b[0m \u001b[0mconverter\u001b[0m \u001b[1;32min\u001b[0m \u001b[0mconverters\u001b[0m\u001b[1;33m:\u001b[0m\u001b[1;33m\u001b[0m\u001b[1;33m\u001b[0m\u001b[0m\n\u001b[0m\u001b[0;32m    985\u001b[0m                 \u001b[0mconverter_func\u001b[0m\u001b[1;33m,\u001b[0m \u001b[0mconverter_type\u001b[0m \u001b[1;33m=\u001b[0m \u001b[0mconverter\u001b[0m\u001b[1;33m\u001b[0m\u001b[1;33m\u001b[0m\u001b[0m\n\u001b[0;32m    986\u001b[0m                 \u001b[1;32mif\u001b[0m \u001b[1;32mnot\u001b[0m \u001b[0missubclass\u001b[0m\u001b[1;33m(\u001b[0m\u001b[0mconverter_type\u001b[0m\u001b[1;33m,\u001b[0m \u001b[0mNoType\u001b[0m\u001b[1;33m)\u001b[0m\u001b[1;33m:\u001b[0m\u001b[1;33m\u001b[0m\u001b[1;33m\u001b[0m\u001b[0m\n",
      "\u001b[1;32mD:\\Programs\\Anaconda3\\lib\\site-packages\\astropy\\io\\ascii\\core.py\u001b[0m in \u001b[0;36m_convert_vals\u001b[1;34m(self, cols)\u001b[0m\n\u001b[0;32m    967\u001b[0m     \u001b[1;32mreturn\u001b[0m \u001b[0mconverter\u001b[0m\u001b[1;33m,\u001b[0m \u001b[0mconverter_type\u001b[0m\u001b[1;33m\u001b[0m\u001b[1;33m\u001b[0m\u001b[0m\n\u001b[0;32m    968\u001b[0m \u001b[1;33m\u001b[0m\u001b[0m\n\u001b[1;32m--> 969\u001b[1;33m \u001b[1;33m\u001b[0m\u001b[0m\n\u001b[0m\u001b[0;32m    970\u001b[0m \u001b[1;32mclass\u001b[0m \u001b[0mBaseOutputter\u001b[0m\u001b[1;33m:\u001b[0m\u001b[1;33m\u001b[0m\u001b[1;33m\u001b[0m\u001b[0m\n\u001b[0;32m    971\u001b[0m     \"\"\"Output table as a dict of column objects keyed on column name.  The\n",
      "\u001b[1;31mValueError\u001b[0m: Column year failed to convert: invalid literal for int() with base 10: '<!'"
     ]
    }
   ],
   "source": [
    "jup = []\n",
    "with solar_system_ephemeris.set('builtin'):\n",
    "    for i in range(len(a)):\n",
    "        jup[i] = get_body('jupiter', a[i], loc)"
   ]
  },
  {
   "cell_type": "code",
   "execution_count": 89,
   "metadata": {},
   "outputs": [
    {
     "ename": "ValueError",
     "evalue": "Column year failed to convert: invalid literal for int() with base 10: '<!'",
     "output_type": "error",
     "traceback": [
      "\u001b[1;31m---------------------------------------------------------------------------\u001b[0m",
      "\u001b[1;31mIndexError\u001b[0m                                Traceback (most recent call last)",
      "\u001b[1;32mD:\\Programs\\Anaconda3\\lib\\site-packages\\astropy\\io\\ascii\\core.py\u001b[0m in \u001b[0;36m_convert_vals\u001b[1;34m(self, cols)\u001b[0m\n\u001b[0;32m    952\u001b[0m                 \u001b[1;32mraise\u001b[0m \u001b[0mValueError\u001b[0m\u001b[1;33m(\u001b[0m\u001b[1;34m'bool input strings must be False, True, 0, 1, or \"\"'\u001b[0m\u001b[1;33m)\u001b[0m\u001b[1;33m\u001b[0m\u001b[1;33m\u001b[0m\u001b[0m\n\u001b[1;32m--> 953\u001b[1;33m         \u001b[0mvals\u001b[0m \u001b[1;33m=\u001b[0m \u001b[0mnumpy\u001b[0m\u001b[1;33m.\u001b[0m\u001b[0masarray\u001b[0m\u001b[1;33m(\u001b[0m\u001b[0mvals\u001b[0m\u001b[1;33m)\u001b[0m\u001b[1;33m\u001b[0m\u001b[1;33m\u001b[0m\u001b[0m\n\u001b[0m\u001b[0;32m    954\u001b[0m \u001b[1;33m\u001b[0m\u001b[0m\n",
      "\u001b[1;31mIndexError\u001b[0m: list index out of range",
      "\nDuring handling of the above exception, another exception occurred:\n",
      "\u001b[1;31mValueError\u001b[0m                                Traceback (most recent call last)",
      "\u001b[1;32m<ipython-input-89-7d8dc99640e0>\u001b[0m in \u001b[0;36m<module>\u001b[1;34m\u001b[0m\n\u001b[1;32m----> 1\u001b[1;33m \u001b[0mget_body\u001b[0m\u001b[1;33m(\u001b[0m\u001b[1;34m'jupiter'\u001b[0m\u001b[1;33m,\u001b[0m \u001b[0mt\u001b[0m\u001b[1;33m,\u001b[0m \u001b[0mloc\u001b[0m\u001b[1;33m)\u001b[0m\u001b[1;33m\u001b[0m\u001b[1;33m\u001b[0m\u001b[0m\n\u001b[0m",
      "\u001b[1;32mD:\\Programs\\Anaconda3\\lib\\site-packages\\astropy\\coordinates\\solar_system.py\u001b[0m in \u001b[0;36mget_body\u001b[1;34m(body, time, location, ephemeris)\u001b[0m\n\u001b[0;32m    453\u001b[0m     \u001b[0mskycoord\u001b[0m \u001b[1;33m:\u001b[0m\u001b[0;31m \u001b[0m\u001b[0;31m`\u001b[0m\u001b[1;33m~\u001b[0m\u001b[0mastropy\u001b[0m\u001b[1;33m.\u001b[0m\u001b[0mcoordinates\u001b[0m\u001b[1;33m.\u001b[0m\u001b[0mSkyCoord\u001b[0m\u001b[0;31m`\u001b[0m\u001b[1;33m\u001b[0m\u001b[1;33m\u001b[0m\u001b[0m\n\u001b[0;32m    454\u001b[0m         \u001b[0mGCRS\u001b[0m \u001b[0mCoordinate\u001b[0m \u001b[1;32mfor\u001b[0m \u001b[0mthe\u001b[0m \u001b[0mbody\u001b[0m\u001b[1;33m\u001b[0m\u001b[1;33m\u001b[0m\u001b[0m\n\u001b[1;32m--> 455\u001b[1;33m \u001b[1;33m\u001b[0m\u001b[0m\n\u001b[0m\u001b[0;32m    456\u001b[0m     \u001b[0mNotes\u001b[0m\u001b[1;33m\u001b[0m\u001b[1;33m\u001b[0m\u001b[0m\n\u001b[0;32m    457\u001b[0m     \u001b[1;33m-\u001b[0m\u001b[1;33m-\u001b[0m\u001b[1;33m-\u001b[0m\u001b[1;33m-\u001b[0m\u001b[1;33m-\u001b[0m\u001b[1;33m\u001b[0m\u001b[1;33m\u001b[0m\u001b[0m\n",
      "\u001b[1;32mD:\\Programs\\Anaconda3\\lib\\site-packages\\astropy\\coordinates\\earth.py\u001b[0m in \u001b[0;36mget_gcrs_posvel\u001b[1;34m(self, obstime)\u001b[0m\n\u001b[0;32m    703\u001b[0m         \u001b[0mgcrs_data\u001b[0m \u001b[1;33m=\u001b[0m \u001b[0mself\u001b[0m\u001b[1;33m.\u001b[0m\u001b[0mget_gcrs\u001b[0m\u001b[1;33m(\u001b[0m\u001b[0mobstime\u001b[0m\u001b[1;33m)\u001b[0m\u001b[1;33m.\u001b[0m\u001b[0mdata\u001b[0m\u001b[1;33m\u001b[0m\u001b[1;33m\u001b[0m\u001b[0m\n\u001b[0;32m    704\u001b[0m         \u001b[0mobsgeopos\u001b[0m \u001b[1;33m=\u001b[0m \u001b[0mgcrs_data\u001b[0m\u001b[1;33m.\u001b[0m\u001b[0mwithout_differentials\u001b[0m\u001b[1;33m(\u001b[0m\u001b[1;33m)\u001b[0m\u001b[1;33m\u001b[0m\u001b[1;33m\u001b[0m\u001b[0m\n\u001b[1;32m--> 705\u001b[1;33m         \u001b[0mobsgeovel\u001b[0m \u001b[1;33m=\u001b[0m \u001b[0mgcrs_data\u001b[0m\u001b[1;33m.\u001b[0m\u001b[0mdifferentials\u001b[0m\u001b[1;33m[\u001b[0m\u001b[1;34m's'\u001b[0m\u001b[1;33m]\u001b[0m\u001b[1;33m.\u001b[0m\u001b[0mto_cartesian\u001b[0m\u001b[1;33m(\u001b[0m\u001b[1;33m)\u001b[0m\u001b[1;33m\u001b[0m\u001b[1;33m\u001b[0m\u001b[0m\n\u001b[0m\u001b[0;32m    706\u001b[0m         \u001b[1;32mreturn\u001b[0m \u001b[0mobsgeopos\u001b[0m\u001b[1;33m,\u001b[0m \u001b[0mobsgeovel\u001b[0m\u001b[1;33m\u001b[0m\u001b[1;33m\u001b[0m\u001b[0m\n\u001b[0;32m    707\u001b[0m \u001b[1;33m\u001b[0m\u001b[0m\n",
      "\u001b[1;32mD:\\Programs\\Anaconda3\\lib\\site-packages\\astropy\\coordinates\\earth.py\u001b[0m in \u001b[0;36mget_gcrs\u001b[1;34m(self, obstime)\u001b[0m\n\u001b[0;32m    683\u001b[0m         \u001b[1;32mreturn\u001b[0m \u001b[0mitrs\u001b[0m\u001b[1;33m.\u001b[0m\u001b[0mtransform_to\u001b[0m\u001b[1;33m(\u001b[0m\u001b[0mGCRS\u001b[0m\u001b[1;33m(\u001b[0m\u001b[0mobstime\u001b[0m\u001b[1;33m=\u001b[0m\u001b[0mobstime\u001b[0m\u001b[1;33m)\u001b[0m\u001b[1;33m)\u001b[0m\u001b[1;33m\u001b[0m\u001b[1;33m\u001b[0m\u001b[0m\n\u001b[0;32m    684\u001b[0m \u001b[1;33m\u001b[0m\u001b[0m\n\u001b[1;32m--> 685\u001b[1;33m     \u001b[1;32mdef\u001b[0m \u001b[0mget_gcrs_posvel\u001b[0m\u001b[1;33m(\u001b[0m\u001b[0mself\u001b[0m\u001b[1;33m,\u001b[0m \u001b[0mobstime\u001b[0m\u001b[1;33m)\u001b[0m\u001b[1;33m:\u001b[0m\u001b[1;33m\u001b[0m\u001b[1;33m\u001b[0m\u001b[0m\n\u001b[0m\u001b[0;32m    686\u001b[0m         \"\"\"\n\u001b[0;32m    687\u001b[0m         \u001b[0mCalculate\u001b[0m \u001b[0mthe\u001b[0m \u001b[0mGCRS\u001b[0m \u001b[0mposition\u001b[0m \u001b[1;32mand\u001b[0m \u001b[0mvelocity\u001b[0m \u001b[0mof\u001b[0m \u001b[0mthis\u001b[0m \u001b[0mobject\u001b[0m \u001b[0mat\u001b[0m \u001b[0mthe\u001b[0m\u001b[1;33m\u001b[0m\u001b[1;33m\u001b[0m\u001b[0m\n",
      "\u001b[1;32mD:\\Programs\\Anaconda3\\lib\\site-packages\\astropy\\coordinates\\baseframe.py\u001b[0m in \u001b[0;36mtransform_to\u001b[1;34m(self, new_frame)\u001b[0m\n\u001b[0;32m   1184\u001b[0m             \u001b[0mA\u001b[0m \u001b[0mnew\u001b[0m \u001b[0mobject\u001b[0m \u001b[1;32mwith\u001b[0m \u001b[0mthe\u001b[0m \u001b[0mcoordinate\u001b[0m \u001b[0mdata\u001b[0m \u001b[0mrepresented\u001b[0m \u001b[1;32min\u001b[0m \u001b[0mthe\u001b[0m\u001b[1;33m\u001b[0m\u001b[1;33m\u001b[0m\u001b[0m\n\u001b[0;32m   1185\u001b[0m             \u001b[0;31m`\u001b[0m\u001b[0;31m`\u001b[0m\u001b[0mnewframe\u001b[0m\u001b[0;31m`\u001b[0m\u001b[0;31m`\u001b[0m \u001b[0msystem\u001b[0m\u001b[1;33m.\u001b[0m\u001b[1;33m\u001b[0m\u001b[1;33m\u001b[0m\u001b[0m\n\u001b[1;32m-> 1186\u001b[1;33m \u001b[1;33m\u001b[0m\u001b[0m\n\u001b[0m\u001b[0;32m   1187\u001b[0m         \u001b[0mRaises\u001b[0m\u001b[1;33m\u001b[0m\u001b[1;33m\u001b[0m\u001b[0m\n\u001b[0;32m   1188\u001b[0m         \u001b[1;33m-\u001b[0m\u001b[1;33m-\u001b[0m\u001b[1;33m-\u001b[0m\u001b[1;33m-\u001b[0m\u001b[1;33m-\u001b[0m\u001b[1;33m-\u001b[0m\u001b[1;33m\u001b[0m\u001b[1;33m\u001b[0m\u001b[0m\n",
      "\u001b[1;32mD:\\Programs\\Anaconda3\\lib\\site-packages\\astropy\\coordinates\\transformations.py\u001b[0m in \u001b[0;36m__call__\u001b[1;34m(self, fromcoord, toframe)\u001b[0m\n\u001b[0;32m   1375\u001b[0m \u001b[1;33m\u001b[0m\u001b[0m\n\u001b[0;32m   1376\u001b[0m     def __init__(self, transforms, fromsys, tosys, priority=1,\n\u001b[1;32m-> 1377\u001b[1;33m                  register_graph=None, collapse_static_mats=True):\n\u001b[0m\u001b[0;32m   1378\u001b[0m         super().__init__(fromsys, tosys, priority=priority,\n\u001b[0;32m   1379\u001b[0m                          register_graph=register_graph)\n",
      "\u001b[1;32mD:\\Programs\\Anaconda3\\lib\\site-packages\\astropy\\coordinates\\transformations.py\u001b[0m in \u001b[0;36m__call__\u001b[1;34m(self, fromcoord, toframe)\u001b[0m\n\u001b[0;32m    911\u001b[0m \u001b[1;33m\u001b[0m\u001b[0m\n\u001b[0;32m    912\u001b[0m     \"\"\"\n\u001b[1;32m--> 913\u001b[1;33m \u001b[1;33m\u001b[0m\u001b[0m\n\u001b[0m\u001b[0;32m    914\u001b[0m     def __init__(self, func, fromsys, tosys, priority=1, register_graph=None,\n\u001b[0;32m    915\u001b[0m                  \u001b[0mfinite_difference_frameattr_name\u001b[0m\u001b[1;33m=\u001b[0m\u001b[1;34m'obstime'\u001b[0m\u001b[1;33m,\u001b[0m\u001b[1;33m\u001b[0m\u001b[1;33m\u001b[0m\u001b[0m\n",
      "\u001b[1;32mD:\\Programs\\Anaconda3\\lib\\site-packages\\astropy\\coordinates\\builtin_frames\\intermediate_rotation_transforms.py\u001b[0m in \u001b[0;36mitrs_to_cirs\u001b[1;34m(itrs_coo, cirs_frame)\u001b[0m\n\u001b[0;32m     85\u001b[0m     \u001b[1;32mreturn\u001b[0m \u001b[0merfa\u001b[0m\u001b[1;33m.\u001b[0m\u001b[0mfw2m\u001b[0m\u001b[1;33m(\u001b[0m\u001b[0mgamb\u001b[0m\u001b[1;33m,\u001b[0m \u001b[0mphib\u001b[0m\u001b[1;33m,\u001b[0m \u001b[0mpsib\u001b[0m\u001b[1;33m,\u001b[0m \u001b[0mepsa\u001b[0m\u001b[1;33m)\u001b[0m\u001b[1;33m\u001b[0m\u001b[1;33m\u001b[0m\u001b[0m\n\u001b[0;32m     86\u001b[0m \u001b[1;33m\u001b[0m\u001b[0m\n\u001b[1;32m---> 87\u001b[1;33m \u001b[1;33m\u001b[0m\u001b[0m\n\u001b[0m\u001b[0;32m     88\u001b[0m \u001b[1;32mdef\u001b[0m \u001b[0mget_location_gcrs\u001b[0m\u001b[1;33m(\u001b[0m\u001b[0mreference\u001b[0m\u001b[1;33m,\u001b[0m \u001b[0mgcrs_to_reference_matrix\u001b[0m\u001b[1;33m)\u001b[0m\u001b[1;33m:\u001b[0m\u001b[1;33m\u001b[0m\u001b[1;33m\u001b[0m\u001b[0m\n\u001b[0;32m     89\u001b[0m     \"\"\"Create a GCRS frame at the location and obstime of a given reference.\n",
      "\u001b[1;32mD:\\Programs\\Anaconda3\\lib\\site-packages\\astropy\\coordinates\\builtin_frames\\intermediate_rotation_transforms.py\u001b[0m in \u001b[0;36mcirs_to_itrs_mat\u001b[1;34m(time)\u001b[0m\n\u001b[0;32m     29\u001b[0m     \u001b[1;31m# Use 1982 model for consistency with Vallado et al (2006)\u001b[0m\u001b[1;33m\u001b[0m\u001b[1;33m\u001b[0m\u001b[1;33m\u001b[0m\u001b[0m\n\u001b[0;32m     30\u001b[0m     \u001b[1;31m# http://www.celestrak.com/publications/aiaa/2006-6753/AIAA-2006-6753.pdf\u001b[0m\u001b[1;33m\u001b[0m\u001b[1;33m\u001b[0m\u001b[1;33m\u001b[0m\u001b[0m\n\u001b[1;32m---> 31\u001b[1;33m     \u001b[0mgst\u001b[0m \u001b[1;33m=\u001b[0m \u001b[0merfa\u001b[0m\u001b[1;33m.\u001b[0m\u001b[0mgmst82\u001b[0m\u001b[1;33m(\u001b[0m\u001b[1;33m*\u001b[0m\u001b[0mget_jd12\u001b[0m\u001b[1;33m(\u001b[0m\u001b[0mtime\u001b[0m\u001b[1;33m,\u001b[0m \u001b[1;34m'ut1'\u001b[0m\u001b[1;33m)\u001b[0m\u001b[1;33m)\u001b[0m\u001b[1;33m\u001b[0m\u001b[1;33m\u001b[0m\u001b[0m\n\u001b[0m\u001b[0;32m     32\u001b[0m \u001b[1;33m\u001b[0m\u001b[0m\n\u001b[0;32m     33\u001b[0m     \u001b[1;31m# Polar Motion\u001b[0m\u001b[1;33m\u001b[0m\u001b[1;33m\u001b[0m\u001b[1;33m\u001b[0m\u001b[0m\n",
      "\u001b[1;32mD:\\Programs\\Anaconda3\\lib\\site-packages\\astropy\\coordinates\\builtin_frames\\utils.py\u001b[0m in \u001b[0;36mget_polar_motion\u001b[1;34m(time)\u001b[0m\n\u001b[0;32m     38\u001b[0m \u001b[1;31m# comes from the mean of the 1962-2014 IERS B data\u001b[0m\u001b[1;33m\u001b[0m\u001b[1;33m\u001b[0m\u001b[1;33m\u001b[0m\u001b[0m\n\u001b[0;32m     39\u001b[0m \u001b[0m_DEFAULT_PM\u001b[0m \u001b[1;33m=\u001b[0m \u001b[1;33m(\u001b[0m\u001b[1;36m0.035\u001b[0m\u001b[1;33m,\u001b[0m \u001b[1;36m0.29\u001b[0m\u001b[1;33m)\u001b[0m\u001b[1;33m*\u001b[0m\u001b[0mu\u001b[0m\u001b[1;33m.\u001b[0m\u001b[0marcsec\u001b[0m\u001b[1;33m\u001b[0m\u001b[1;33m\u001b[0m\u001b[0m\n\u001b[1;32m---> 40\u001b[1;33m \u001b[1;33m\u001b[0m\u001b[0m\n\u001b[0m\u001b[0;32m     41\u001b[0m \u001b[1;33m\u001b[0m\u001b[0m\n\u001b[0;32m     42\u001b[0m \u001b[1;32mdef\u001b[0m \u001b[0mget_polar_motion\u001b[0m\u001b[1;33m(\u001b[0m\u001b[0mtime\u001b[0m\u001b[1;33m)\u001b[0m\u001b[1;33m:\u001b[0m\u001b[1;33m\u001b[0m\u001b[1;33m\u001b[0m\u001b[0m\n",
      "\u001b[1;32mD:\\Programs\\Anaconda3\\lib\\site-packages\\astropy\\utils\\iers\\iers.py\u001b[0m in \u001b[0;36mopen\u001b[1;34m(cls)\u001b[0m\n\u001b[0;32m    658\u001b[0m             \u001b[1;32mreturn\u001b[0m \u001b[0mcls\u001b[0m\u001b[1;33m.\u001b[0m\u001b[0miers_table\u001b[0m\u001b[1;33m\u001b[0m\u001b[1;33m\u001b[0m\u001b[0m\n\u001b[0;32m    659\u001b[0m \u001b[1;33m\u001b[0m\u001b[0m\n\u001b[1;32m--> 660\u001b[1;33m         \u001b[0mall_urls\u001b[0m \u001b[1;33m=\u001b[0m \u001b[1;33m(\u001b[0m\u001b[0mconf\u001b[0m\u001b[1;33m.\u001b[0m\u001b[0miers_auto_url\u001b[0m\u001b[1;33m,\u001b[0m \u001b[0mconf\u001b[0m\u001b[1;33m.\u001b[0m\u001b[0miers_auto_url_mirror\u001b[0m\u001b[1;33m)\u001b[0m\u001b[1;33m\u001b[0m\u001b[1;33m\u001b[0m\u001b[0m\n\u001b[0m\u001b[0;32m    661\u001b[0m \u001b[1;33m\u001b[0m\u001b[0m\n\u001b[0;32m    662\u001b[0m         \u001b[1;32mif\u001b[0m \u001b[0mcls\u001b[0m\u001b[1;33m.\u001b[0m\u001b[0miers_table\u001b[0m \u001b[1;32mis\u001b[0m \u001b[1;32mnot\u001b[0m \u001b[1;32mNone\u001b[0m\u001b[1;33m:\u001b[0m\u001b[1;33m\u001b[0m\u001b[1;33m\u001b[0m\u001b[0m\n",
      "\u001b[1;32mD:\\Programs\\Anaconda3\\lib\\site-packages\\astropy\\utils\\iers\\iers.py\u001b[0m in \u001b[0;36mread\u001b[1;34m(cls, file, readme)\u001b[0m\n\u001b[0;32m    502\u001b[0m         p_index = min(np.searchsorted(table['UT1Flag_A'], 'P'),\n\u001b[0;32m    503\u001b[0m                       np.searchsorted(table['PolPMFlag_A'], 'P'))\n\u001b[1;32m--> 504\u001b[1;33m         \u001b[0mtable\u001b[0m\u001b[1;33m.\u001b[0m\u001b[0mmeta\u001b[0m\u001b[1;33m[\u001b[0m\u001b[1;34m'predictive_index'\u001b[0m\u001b[1;33m]\u001b[0m \u001b[1;33m=\u001b[0m \u001b[0mp_index\u001b[0m\u001b[1;33m\u001b[0m\u001b[1;33m\u001b[0m\u001b[0m\n\u001b[0m\u001b[0;32m    505\u001b[0m         \u001b[0mtable\u001b[0m\u001b[1;33m.\u001b[0m\u001b[0mmeta\u001b[0m\u001b[1;33m[\u001b[0m\u001b[1;34m'predictive_mjd'\u001b[0m\u001b[1;33m]\u001b[0m \u001b[1;33m=\u001b[0m \u001b[0mtable\u001b[0m\u001b[1;33m[\u001b[0m\u001b[1;34m'MJD'\u001b[0m\u001b[1;33m]\u001b[0m\u001b[1;33m[\u001b[0m\u001b[0mp_index\u001b[0m\u001b[1;33m]\u001b[0m\u001b[1;33m.\u001b[0m\u001b[0mvalue\u001b[0m\u001b[1;33m\u001b[0m\u001b[1;33m\u001b[0m\u001b[0m\n\u001b[0;32m    506\u001b[0m \u001b[1;33m\u001b[0m\u001b[0m\n",
      "\u001b[1;32mD:\\Programs\\Anaconda3\\lib\\site-packages\\astropy\\table\\table.py\u001b[0m in \u001b[0;36mread\u001b[1;34m(cls, *args, **kwargs)\u001b[0m\n\u001b[0;32m   2548\u001b[0m         \u001b[1;32mfor\u001b[0m \u001b[0ma\u001b[0m \u001b[0mcolumn\u001b[0m\u001b[1;33m:\u001b[0m\u001b[1;33m:\u001b[0m\u001b[1;33m\u001b[0m\u001b[1;33m\u001b[0m\u001b[0m\n\u001b[0;32m   2549\u001b[0m \u001b[1;33m\u001b[0m\u001b[0m\n\u001b[1;32m-> 2550\u001b[1;33m           \u001b[0mtable\u001b[0m\u001b[1;33m[\u001b[0m\u001b[0mname\u001b[0m\u001b[1;33m]\u001b[0m\u001b[1;33m.\u001b[0m\u001b[0mname\u001b[0m \u001b[1;33m=\u001b[0m \u001b[0mnew_name\u001b[0m\u001b[1;33m\u001b[0m\u001b[1;33m\u001b[0m\u001b[0m\n\u001b[0m\u001b[0;32m   2551\u001b[0m \u001b[1;33m\u001b[0m\u001b[0m\n\u001b[0;32m   2552\u001b[0m         \u001b[0mTODO\u001b[0m\u001b[1;33m:\u001b[0m \u001b[0mthis\u001b[0m \u001b[0mwon\u001b[0m\u001b[0;31m'\u001b[0m\u001b[0mt\u001b[0m \u001b[0mwork\u001b[0m \u001b[1;32mfor\u001b[0m \u001b[0mmixins\u001b[0m\u001b[1;33m\u001b[0m\u001b[1;33m\u001b[0m\u001b[0m\n",
      "\u001b[1;32mD:\\Programs\\Anaconda3\\lib\\site-packages\\astropy\\io\\registry.py\u001b[0m in \u001b[0;36mread\u001b[1;34m(cls, format, *args, **kwargs)\u001b[0m\n\u001b[0;32m    515\u001b[0m \u001b[1;33m\u001b[0m\u001b[0m\n\u001b[0;32m    516\u001b[0m             format = _get_valid_format(\n\u001b[1;32m--> 517\u001b[1;33m                 'read', cls, path, fileobj, args, kwargs)\n\u001b[0m\u001b[0;32m    518\u001b[0m \u001b[1;33m\u001b[0m\u001b[0m\n\u001b[0;32m    519\u001b[0m         \u001b[0mreader\u001b[0m \u001b[1;33m=\u001b[0m \u001b[0mget_reader\u001b[0m\u001b[1;33m(\u001b[0m\u001b[0mformat\u001b[0m\u001b[1;33m,\u001b[0m \u001b[0mcls\u001b[0m\u001b[1;33m)\u001b[0m\u001b[1;33m\u001b[0m\u001b[1;33m\u001b[0m\u001b[0m\n",
      "\u001b[1;32mD:\\Programs\\Anaconda3\\lib\\site-packages\\astropy\\io\\ascii\\connect.py\u001b[0m in \u001b[0;36mio_read\u001b[1;34m(format, filename, **kwargs)\u001b[0m\n\u001b[0;32m     35\u001b[0m \u001b[1;33m\u001b[0m\u001b[0m\n\u001b[0;32m     36\u001b[0m     \u001b[0mrows\u001b[0m \u001b[1;33m=\u001b[0m \u001b[1;33m[\u001b[0m\u001b[1;33m]\u001b[0m\u001b[1;33m\u001b[0m\u001b[1;33m\u001b[0m\u001b[0m\n\u001b[1;32m---> 37\u001b[1;33m     \u001b[0mrows\u001b[0m\u001b[1;33m.\u001b[0m\u001b[0mappend\u001b[0m\u001b[1;33m(\u001b[0m\u001b[1;33m(\u001b[0m\u001b[1;34m'ascii'\u001b[0m\u001b[1;33m,\u001b[0m \u001b[1;34m''\u001b[0m\u001b[1;33m,\u001b[0m \u001b[1;34m'Yes'\u001b[0m\u001b[1;33m,\u001b[0m \u001b[1;34m'ASCII table in any supported format (uses guessing)'\u001b[0m\u001b[1;33m)\u001b[0m\u001b[1;33m)\u001b[0m\u001b[1;33m\u001b[0m\u001b[1;33m\u001b[0m\u001b[0m\n\u001b[0m\u001b[0;32m     38\u001b[0m     \u001b[1;32mfor\u001b[0m \u001b[0mformat\u001b[0m \u001b[1;32min\u001b[0m \u001b[0msorted\u001b[0m\u001b[1;33m(\u001b[0m\u001b[0mFORMAT_CLASSES\u001b[0m\u001b[1;33m)\u001b[0m\u001b[1;33m:\u001b[0m\u001b[1;33m\u001b[0m\u001b[1;33m\u001b[0m\u001b[0m\n\u001b[0;32m     39\u001b[0m         \u001b[0mcls\u001b[0m \u001b[1;33m=\u001b[0m \u001b[0mFORMAT_CLASSES\u001b[0m\u001b[1;33m[\u001b[0m\u001b[0mformat\u001b[0m\u001b[1;33m]\u001b[0m\u001b[1;33m\u001b[0m\u001b[1;33m\u001b[0m\u001b[0m\n",
      "\u001b[1;32mD:\\Programs\\Anaconda3\\lib\\site-packages\\astropy\\io\\ascii\\ui.py\u001b[0m in \u001b[0;36mread\u001b[1;34m(table, guess, **kwargs)\u001b[0m\n\u001b[0;32m    407\u001b[0m     \u001b[0mReturns\u001b[0m\u001b[1;33m\u001b[0m\u001b[1;33m\u001b[0m\u001b[0m\n\u001b[0;32m    408\u001b[0m     \u001b[1;33m-\u001b[0m\u001b[1;33m-\u001b[0m\u001b[1;33m-\u001b[0m\u001b[1;33m-\u001b[0m\u001b[1;33m-\u001b[0m\u001b[1;33m-\u001b[0m\u001b[1;33m-\u001b[0m\u001b[1;33m\u001b[0m\u001b[1;33m\u001b[0m\u001b[0m\n\u001b[1;32m--> 409\u001b[1;33m     \u001b[0mdat\u001b[0m \u001b[1;33m:\u001b[0m\u001b[0;31m \u001b[0m\u001b[0;31m`\u001b[0m\u001b[1;33m~\u001b[0m\u001b[0mastropy\u001b[0m\u001b[1;33m.\u001b[0m\u001b[0mtable\u001b[0m\u001b[1;33m.\u001b[0m\u001b[0mTable\u001b[0m\u001b[0;31m`\u001b[0m \u001b[1;32mor\u001b[0m \u001b[1;32mNone\u001b[0m\u001b[1;33m\u001b[0m\u001b[1;33m\u001b[0m\u001b[0m\n\u001b[0m\u001b[0;32m    410\u001b[0m         \u001b[0mOutput\u001b[0m \u001b[0mtable\u001b[0m \u001b[1;32mor\u001b[0m \u001b[1;32mNone\u001b[0m \u001b[1;32mif\u001b[0m \u001b[0monly\u001b[0m \u001b[0mone\u001b[0m \u001b[0mguess\u001b[0m \u001b[0mformat\u001b[0m \u001b[0mwas\u001b[0m \u001b[0mavailable\u001b[0m\u001b[1;33m\u001b[0m\u001b[1;33m\u001b[0m\u001b[0m\n\u001b[0;32m    411\u001b[0m     \"\"\"\n",
      "\u001b[1;32mD:\\Programs\\Anaconda3\\lib\\site-packages\\astropy\\io\\ascii\\cds.py\u001b[0m in \u001b[0;36mread\u001b[1;34m(self, table)\u001b[0m\n\u001b[0;32m    321\u001b[0m             \u001b[1;32mfor\u001b[0m \u001b[0mdata_start\u001b[0m \u001b[1;32min\u001b[0m \u001b[0mrange\u001b[0m\u001b[1;33m(\u001b[0m\u001b[0mlen\u001b[0m\u001b[1;33m(\u001b[0m\u001b[0mlines\u001b[0m\u001b[1;33m)\u001b[0m\u001b[1;33m)\u001b[0m\u001b[1;33m:\u001b[0m\u001b[1;33m\u001b[0m\u001b[1;33m\u001b[0m\u001b[0m\n\u001b[0;32m    322\u001b[0m                 \u001b[0mself\u001b[0m\u001b[1;33m.\u001b[0m\u001b[0mdata\u001b[0m\u001b[1;33m.\u001b[0m\u001b[0mstart_line\u001b[0m \u001b[1;33m=\u001b[0m \u001b[0mdata_start\u001b[0m\u001b[1;33m\u001b[0m\u001b[1;33m\u001b[0m\u001b[0m\n\u001b[1;32m--> 323\u001b[1;33m                 \u001b[1;32mwith\u001b[0m \u001b[0msuppress\u001b[0m\u001b[1;33m(\u001b[0m\u001b[0mException\u001b[0m\u001b[1;33m)\u001b[0m\u001b[1;33m:\u001b[0m\u001b[1;33m\u001b[0m\u001b[1;33m\u001b[0m\u001b[0m\n\u001b[0m\u001b[0;32m    324\u001b[0m                     \u001b[0mtable\u001b[0m \u001b[1;33m=\u001b[0m \u001b[0msuper\u001b[0m\u001b[1;33m(\u001b[0m\u001b[1;33m)\u001b[0m\u001b[1;33m.\u001b[0m\u001b[0mread\u001b[0m\u001b[1;33m(\u001b[0m\u001b[0mlines\u001b[0m\u001b[1;33m)\u001b[0m\u001b[1;33m\u001b[0m\u001b[1;33m\u001b[0m\u001b[0m\n\u001b[0;32m    325\u001b[0m                     \u001b[1;32mreturn\u001b[0m \u001b[0mtable\u001b[0m\u001b[1;33m\u001b[0m\u001b[1;33m\u001b[0m\u001b[0m\n",
      "\u001b[1;32mD:\\Programs\\Anaconda3\\lib\\site-packages\\astropy\\io\\ascii\\core.py\u001b[0m in \u001b[0;36mread\u001b[1;34m(self, table)\u001b[0m\n\u001b[0;32m   1195\u001b[0m     \u001b[0minclude_names\u001b[0m \u001b[1;33m=\u001b[0m \u001b[1;32mNone\u001b[0m\u001b[1;33m\u001b[0m\u001b[1;33m\u001b[0m\u001b[0m\n\u001b[0;32m   1196\u001b[0m     \u001b[0mexclude_names\u001b[0m \u001b[1;33m=\u001b[0m \u001b[1;32mNone\u001b[0m\u001b[1;33m\u001b[0m\u001b[1;33m\u001b[0m\u001b[0m\n\u001b[1;32m-> 1197\u001b[1;33m     \u001b[0mstrict_names\u001b[0m \u001b[1;33m=\u001b[0m \u001b[1;32mFalse\u001b[0m\u001b[1;33m\u001b[0m\u001b[1;33m\u001b[0m\u001b[0m\n\u001b[0m\u001b[0;32m   1198\u001b[0m     \u001b[0mguessing\u001b[0m \u001b[1;33m=\u001b[0m \u001b[1;32mFalse\u001b[0m\u001b[1;33m\u001b[0m\u001b[1;33m\u001b[0m\u001b[0m\n\u001b[0;32m   1199\u001b[0m     \u001b[0mencoding\u001b[0m \u001b[1;33m=\u001b[0m \u001b[1;32mNone\u001b[0m\u001b[1;33m\u001b[0m\u001b[1;33m\u001b[0m\u001b[0m\n",
      "\u001b[1;32mD:\\Programs\\Anaconda3\\lib\\site-packages\\astropy\\io\\ascii\\core.py\u001b[0m in \u001b[0;36m__call__\u001b[1;34m(self, cols, meta)\u001b[0m\n\u001b[0;32m    982\u001b[0m         \u001b[0mconverters_out\u001b[0m \u001b[1;33m=\u001b[0m \u001b[1;33m[\u001b[0m\u001b[1;33m]\u001b[0m\u001b[1;33m\u001b[0m\u001b[1;33m\u001b[0m\u001b[0m\n\u001b[0;32m    983\u001b[0m         \u001b[1;32mtry\u001b[0m\u001b[1;33m:\u001b[0m\u001b[1;33m\u001b[0m\u001b[1;33m\u001b[0m\u001b[0m\n\u001b[1;32m--> 984\u001b[1;33m             \u001b[1;32mfor\u001b[0m \u001b[0mconverter\u001b[0m \u001b[1;32min\u001b[0m \u001b[0mconverters\u001b[0m\u001b[1;33m:\u001b[0m\u001b[1;33m\u001b[0m\u001b[1;33m\u001b[0m\u001b[0m\n\u001b[0m\u001b[0;32m    985\u001b[0m                 \u001b[0mconverter_func\u001b[0m\u001b[1;33m,\u001b[0m \u001b[0mconverter_type\u001b[0m \u001b[1;33m=\u001b[0m \u001b[0mconverter\u001b[0m\u001b[1;33m\u001b[0m\u001b[1;33m\u001b[0m\u001b[0m\n\u001b[0;32m    986\u001b[0m                 \u001b[1;32mif\u001b[0m \u001b[1;32mnot\u001b[0m \u001b[0missubclass\u001b[0m\u001b[1;33m(\u001b[0m\u001b[0mconverter_type\u001b[0m\u001b[1;33m,\u001b[0m \u001b[0mNoType\u001b[0m\u001b[1;33m)\u001b[0m\u001b[1;33m:\u001b[0m\u001b[1;33m\u001b[0m\u001b[1;33m\u001b[0m\u001b[0m\n",
      "\u001b[1;32mD:\\Programs\\Anaconda3\\lib\\site-packages\\astropy\\io\\ascii\\core.py\u001b[0m in \u001b[0;36m_convert_vals\u001b[1;34m(self, cols)\u001b[0m\n\u001b[0;32m    967\u001b[0m     \u001b[1;32mreturn\u001b[0m \u001b[0mconverter\u001b[0m\u001b[1;33m,\u001b[0m \u001b[0mconverter_type\u001b[0m\u001b[1;33m\u001b[0m\u001b[1;33m\u001b[0m\u001b[0m\n\u001b[0;32m    968\u001b[0m \u001b[1;33m\u001b[0m\u001b[0m\n\u001b[1;32m--> 969\u001b[1;33m \u001b[1;33m\u001b[0m\u001b[0m\n\u001b[0m\u001b[0;32m    970\u001b[0m \u001b[1;32mclass\u001b[0m \u001b[0mBaseOutputter\u001b[0m\u001b[1;33m:\u001b[0m\u001b[1;33m\u001b[0m\u001b[1;33m\u001b[0m\u001b[0m\n\u001b[0;32m    971\u001b[0m     \"\"\"Output table as a dict of column objects keyed on column name.  The\n",
      "\u001b[1;31mValueError\u001b[0m: Column year failed to convert: invalid literal for int() with base 10: '<!'"
     ]
    }
   ],
   "source": [
    "get_body('jupiter', t, loc)"
   ]
  },
  {
   "cell_type": "code",
   "execution_count": 88,
   "metadata": {},
   "outputs": [],
   "source": [
    "t = Time(\"2014-09-22 23:22\")"
   ]
  },
  {
   "cell_type": "code",
   "execution_count": 102,
   "metadata": {},
   "outputs": [
    {
     "ename": "ValueError",
     "evalue": "Column year failed to convert: invalid literal for int() with base 10: '<!'",
     "output_type": "error",
     "traceback": [
      "\u001b[1;31m---------------------------------------------------------------------------\u001b[0m",
      "\u001b[1;31mIndexError\u001b[0m                                Traceback (most recent call last)",
      "\u001b[1;32mD:\\Programs\\Anaconda3\\lib\\site-packages\\astropy\\io\\ascii\\core.py\u001b[0m in \u001b[0;36m_convert_vals\u001b[1;34m(self, cols)\u001b[0m\n\u001b[0;32m    952\u001b[0m                 \u001b[1;32mraise\u001b[0m \u001b[0mValueError\u001b[0m\u001b[1;33m(\u001b[0m\u001b[1;34m'bool input strings must be False, True, 0, 1, or \"\"'\u001b[0m\u001b[1;33m)\u001b[0m\u001b[1;33m\u001b[0m\u001b[1;33m\u001b[0m\u001b[0m\n\u001b[1;32m--> 953\u001b[1;33m         \u001b[0mvals\u001b[0m \u001b[1;33m=\u001b[0m \u001b[0mnumpy\u001b[0m\u001b[1;33m.\u001b[0m\u001b[0masarray\u001b[0m\u001b[1;33m(\u001b[0m\u001b[0mvals\u001b[0m\u001b[1;33m)\u001b[0m\u001b[1;33m\u001b[0m\u001b[1;33m\u001b[0m\u001b[0m\n\u001b[0m\u001b[0;32m    954\u001b[0m \u001b[1;33m\u001b[0m\u001b[0m\n",
      "\u001b[1;31mIndexError\u001b[0m: list index out of range",
      "\nDuring handling of the above exception, another exception occurred:\n",
      "\u001b[1;31mValueError\u001b[0m                                Traceback (most recent call last)",
      "\u001b[1;32m<ipython-input-102-19ee63fdf10c>\u001b[0m in \u001b[0;36m<module>\u001b[1;34m\u001b[0m\n\u001b[0;32m      1\u001b[0m \u001b[1;32mwith\u001b[0m \u001b[0msolar_system_ephemeris\u001b[0m\u001b[1;33m.\u001b[0m\u001b[0mset\u001b[0m\u001b[1;33m(\u001b[0m\u001b[1;34m'builtin'\u001b[0m\u001b[1;33m)\u001b[0m\u001b[1;33m:\u001b[0m\u001b[1;33m\u001b[0m\u001b[1;33m\u001b[0m\u001b[0m\n\u001b[1;32m----> 2\u001b[1;33m     \u001b[0mget_body\u001b[0m\u001b[1;33m(\u001b[0m\u001b[1;34m'jupiter'\u001b[0m\u001b[1;33m,\u001b[0m \u001b[0mt\u001b[0m\u001b[1;33m,\u001b[0m \u001b[0mloc\u001b[0m\u001b[1;33m)\u001b[0m\u001b[1;33m\u001b[0m\u001b[1;33m\u001b[0m\u001b[0m\n\u001b[0m",
      "\u001b[1;32mD:\\Programs\\Anaconda3\\lib\\site-packages\\astropy\\coordinates\\solar_system.py\u001b[0m in \u001b[0;36mget_body\u001b[1;34m(body, time, location, ephemeris)\u001b[0m\n\u001b[0;32m    453\u001b[0m     \u001b[0mskycoord\u001b[0m \u001b[1;33m:\u001b[0m\u001b[0;31m \u001b[0m\u001b[0;31m`\u001b[0m\u001b[1;33m~\u001b[0m\u001b[0mastropy\u001b[0m\u001b[1;33m.\u001b[0m\u001b[0mcoordinates\u001b[0m\u001b[1;33m.\u001b[0m\u001b[0mSkyCoord\u001b[0m\u001b[0;31m`\u001b[0m\u001b[1;33m\u001b[0m\u001b[1;33m\u001b[0m\u001b[0m\n\u001b[0;32m    454\u001b[0m         \u001b[0mGCRS\u001b[0m \u001b[0mCoordinate\u001b[0m \u001b[1;32mfor\u001b[0m \u001b[0mthe\u001b[0m \u001b[0mbody\u001b[0m\u001b[1;33m\u001b[0m\u001b[1;33m\u001b[0m\u001b[0m\n\u001b[1;32m--> 455\u001b[1;33m \u001b[1;33m\u001b[0m\u001b[0m\n\u001b[0m\u001b[0;32m    456\u001b[0m     \u001b[0mNotes\u001b[0m\u001b[1;33m\u001b[0m\u001b[1;33m\u001b[0m\u001b[0m\n\u001b[0;32m    457\u001b[0m     \u001b[1;33m-\u001b[0m\u001b[1;33m-\u001b[0m\u001b[1;33m-\u001b[0m\u001b[1;33m-\u001b[0m\u001b[1;33m-\u001b[0m\u001b[1;33m\u001b[0m\u001b[1;33m\u001b[0m\u001b[0m\n",
      "\u001b[1;32mD:\\Programs\\Anaconda3\\lib\\site-packages\\astropy\\coordinates\\earth.py\u001b[0m in \u001b[0;36mget_gcrs_posvel\u001b[1;34m(self, obstime)\u001b[0m\n\u001b[0;32m    703\u001b[0m         \u001b[0mgcrs_data\u001b[0m \u001b[1;33m=\u001b[0m \u001b[0mself\u001b[0m\u001b[1;33m.\u001b[0m\u001b[0mget_gcrs\u001b[0m\u001b[1;33m(\u001b[0m\u001b[0mobstime\u001b[0m\u001b[1;33m)\u001b[0m\u001b[1;33m.\u001b[0m\u001b[0mdata\u001b[0m\u001b[1;33m\u001b[0m\u001b[1;33m\u001b[0m\u001b[0m\n\u001b[0;32m    704\u001b[0m         \u001b[0mobsgeopos\u001b[0m \u001b[1;33m=\u001b[0m \u001b[0mgcrs_data\u001b[0m\u001b[1;33m.\u001b[0m\u001b[0mwithout_differentials\u001b[0m\u001b[1;33m(\u001b[0m\u001b[1;33m)\u001b[0m\u001b[1;33m\u001b[0m\u001b[1;33m\u001b[0m\u001b[0m\n\u001b[1;32m--> 705\u001b[1;33m         \u001b[0mobsgeovel\u001b[0m \u001b[1;33m=\u001b[0m \u001b[0mgcrs_data\u001b[0m\u001b[1;33m.\u001b[0m\u001b[0mdifferentials\u001b[0m\u001b[1;33m[\u001b[0m\u001b[1;34m's'\u001b[0m\u001b[1;33m]\u001b[0m\u001b[1;33m.\u001b[0m\u001b[0mto_cartesian\u001b[0m\u001b[1;33m(\u001b[0m\u001b[1;33m)\u001b[0m\u001b[1;33m\u001b[0m\u001b[1;33m\u001b[0m\u001b[0m\n\u001b[0m\u001b[0;32m    706\u001b[0m         \u001b[1;32mreturn\u001b[0m \u001b[0mobsgeopos\u001b[0m\u001b[1;33m,\u001b[0m \u001b[0mobsgeovel\u001b[0m\u001b[1;33m\u001b[0m\u001b[1;33m\u001b[0m\u001b[0m\n\u001b[0;32m    707\u001b[0m \u001b[1;33m\u001b[0m\u001b[0m\n",
      "\u001b[1;32mD:\\Programs\\Anaconda3\\lib\\site-packages\\astropy\\coordinates\\earth.py\u001b[0m in \u001b[0;36mget_gcrs\u001b[1;34m(self, obstime)\u001b[0m\n\u001b[0;32m    683\u001b[0m         \u001b[1;32mreturn\u001b[0m \u001b[0mitrs\u001b[0m\u001b[1;33m.\u001b[0m\u001b[0mtransform_to\u001b[0m\u001b[1;33m(\u001b[0m\u001b[0mGCRS\u001b[0m\u001b[1;33m(\u001b[0m\u001b[0mobstime\u001b[0m\u001b[1;33m=\u001b[0m\u001b[0mobstime\u001b[0m\u001b[1;33m)\u001b[0m\u001b[1;33m)\u001b[0m\u001b[1;33m\u001b[0m\u001b[1;33m\u001b[0m\u001b[0m\n\u001b[0;32m    684\u001b[0m \u001b[1;33m\u001b[0m\u001b[0m\n\u001b[1;32m--> 685\u001b[1;33m     \u001b[1;32mdef\u001b[0m \u001b[0mget_gcrs_posvel\u001b[0m\u001b[1;33m(\u001b[0m\u001b[0mself\u001b[0m\u001b[1;33m,\u001b[0m \u001b[0mobstime\u001b[0m\u001b[1;33m)\u001b[0m\u001b[1;33m:\u001b[0m\u001b[1;33m\u001b[0m\u001b[1;33m\u001b[0m\u001b[0m\n\u001b[0m\u001b[0;32m    686\u001b[0m         \"\"\"\n\u001b[0;32m    687\u001b[0m         \u001b[0mCalculate\u001b[0m \u001b[0mthe\u001b[0m \u001b[0mGCRS\u001b[0m \u001b[0mposition\u001b[0m \u001b[1;32mand\u001b[0m \u001b[0mvelocity\u001b[0m \u001b[0mof\u001b[0m \u001b[0mthis\u001b[0m \u001b[0mobject\u001b[0m \u001b[0mat\u001b[0m \u001b[0mthe\u001b[0m\u001b[1;33m\u001b[0m\u001b[1;33m\u001b[0m\u001b[0m\n",
      "\u001b[1;32mD:\\Programs\\Anaconda3\\lib\\site-packages\\astropy\\coordinates\\baseframe.py\u001b[0m in \u001b[0;36mtransform_to\u001b[1;34m(self, new_frame)\u001b[0m\n\u001b[0;32m   1184\u001b[0m             \u001b[0mA\u001b[0m \u001b[0mnew\u001b[0m \u001b[0mobject\u001b[0m \u001b[1;32mwith\u001b[0m \u001b[0mthe\u001b[0m \u001b[0mcoordinate\u001b[0m \u001b[0mdata\u001b[0m \u001b[0mrepresented\u001b[0m \u001b[1;32min\u001b[0m \u001b[0mthe\u001b[0m\u001b[1;33m\u001b[0m\u001b[1;33m\u001b[0m\u001b[0m\n\u001b[0;32m   1185\u001b[0m             \u001b[0;31m`\u001b[0m\u001b[0;31m`\u001b[0m\u001b[0mnewframe\u001b[0m\u001b[0;31m`\u001b[0m\u001b[0;31m`\u001b[0m \u001b[0msystem\u001b[0m\u001b[1;33m.\u001b[0m\u001b[1;33m\u001b[0m\u001b[1;33m\u001b[0m\u001b[0m\n\u001b[1;32m-> 1186\u001b[1;33m \u001b[1;33m\u001b[0m\u001b[0m\n\u001b[0m\u001b[0;32m   1187\u001b[0m         \u001b[0mRaises\u001b[0m\u001b[1;33m\u001b[0m\u001b[1;33m\u001b[0m\u001b[0m\n\u001b[0;32m   1188\u001b[0m         \u001b[1;33m-\u001b[0m\u001b[1;33m-\u001b[0m\u001b[1;33m-\u001b[0m\u001b[1;33m-\u001b[0m\u001b[1;33m-\u001b[0m\u001b[1;33m-\u001b[0m\u001b[1;33m\u001b[0m\u001b[1;33m\u001b[0m\u001b[0m\n",
      "\u001b[1;32mD:\\Programs\\Anaconda3\\lib\\site-packages\\astropy\\coordinates\\transformations.py\u001b[0m in \u001b[0;36m__call__\u001b[1;34m(self, fromcoord, toframe)\u001b[0m\n\u001b[0;32m   1375\u001b[0m \u001b[1;33m\u001b[0m\u001b[0m\n\u001b[0;32m   1376\u001b[0m     def __init__(self, transforms, fromsys, tosys, priority=1,\n\u001b[1;32m-> 1377\u001b[1;33m                  register_graph=None, collapse_static_mats=True):\n\u001b[0m\u001b[0;32m   1378\u001b[0m         super().__init__(fromsys, tosys, priority=priority,\n\u001b[0;32m   1379\u001b[0m                          register_graph=register_graph)\n",
      "\u001b[1;32mD:\\Programs\\Anaconda3\\lib\\site-packages\\astropy\\coordinates\\transformations.py\u001b[0m in \u001b[0;36m__call__\u001b[1;34m(self, fromcoord, toframe)\u001b[0m\n\u001b[0;32m    911\u001b[0m \u001b[1;33m\u001b[0m\u001b[0m\n\u001b[0;32m    912\u001b[0m     \"\"\"\n\u001b[1;32m--> 913\u001b[1;33m \u001b[1;33m\u001b[0m\u001b[0m\n\u001b[0m\u001b[0;32m    914\u001b[0m     def __init__(self, func, fromsys, tosys, priority=1, register_graph=None,\n\u001b[0;32m    915\u001b[0m                  \u001b[0mfinite_difference_frameattr_name\u001b[0m\u001b[1;33m=\u001b[0m\u001b[1;34m'obstime'\u001b[0m\u001b[1;33m,\u001b[0m\u001b[1;33m\u001b[0m\u001b[1;33m\u001b[0m\u001b[0m\n",
      "\u001b[1;32mD:\\Programs\\Anaconda3\\lib\\site-packages\\astropy\\coordinates\\builtin_frames\\intermediate_rotation_transforms.py\u001b[0m in \u001b[0;36mitrs_to_cirs\u001b[1;34m(itrs_coo, cirs_frame)\u001b[0m\n\u001b[0;32m     85\u001b[0m     \u001b[1;32mreturn\u001b[0m \u001b[0merfa\u001b[0m\u001b[1;33m.\u001b[0m\u001b[0mfw2m\u001b[0m\u001b[1;33m(\u001b[0m\u001b[0mgamb\u001b[0m\u001b[1;33m,\u001b[0m \u001b[0mphib\u001b[0m\u001b[1;33m,\u001b[0m \u001b[0mpsib\u001b[0m\u001b[1;33m,\u001b[0m \u001b[0mepsa\u001b[0m\u001b[1;33m)\u001b[0m\u001b[1;33m\u001b[0m\u001b[1;33m\u001b[0m\u001b[0m\n\u001b[0;32m     86\u001b[0m \u001b[1;33m\u001b[0m\u001b[0m\n\u001b[1;32m---> 87\u001b[1;33m \u001b[1;33m\u001b[0m\u001b[0m\n\u001b[0m\u001b[0;32m     88\u001b[0m \u001b[1;32mdef\u001b[0m \u001b[0mget_location_gcrs\u001b[0m\u001b[1;33m(\u001b[0m\u001b[0mreference\u001b[0m\u001b[1;33m,\u001b[0m \u001b[0mgcrs_to_reference_matrix\u001b[0m\u001b[1;33m)\u001b[0m\u001b[1;33m:\u001b[0m\u001b[1;33m\u001b[0m\u001b[1;33m\u001b[0m\u001b[0m\n\u001b[0;32m     89\u001b[0m     \"\"\"Create a GCRS frame at the location and obstime of a given reference.\n",
      "\u001b[1;32mD:\\Programs\\Anaconda3\\lib\\site-packages\\astropy\\coordinates\\builtin_frames\\intermediate_rotation_transforms.py\u001b[0m in \u001b[0;36mcirs_to_itrs_mat\u001b[1;34m(time)\u001b[0m\n\u001b[0;32m     29\u001b[0m     \u001b[1;31m# Use 1982 model for consistency with Vallado et al (2006)\u001b[0m\u001b[1;33m\u001b[0m\u001b[1;33m\u001b[0m\u001b[1;33m\u001b[0m\u001b[0m\n\u001b[0;32m     30\u001b[0m     \u001b[1;31m# http://www.celestrak.com/publications/aiaa/2006-6753/AIAA-2006-6753.pdf\u001b[0m\u001b[1;33m\u001b[0m\u001b[1;33m\u001b[0m\u001b[1;33m\u001b[0m\u001b[0m\n\u001b[1;32m---> 31\u001b[1;33m     \u001b[0mgst\u001b[0m \u001b[1;33m=\u001b[0m \u001b[0merfa\u001b[0m\u001b[1;33m.\u001b[0m\u001b[0mgmst82\u001b[0m\u001b[1;33m(\u001b[0m\u001b[1;33m*\u001b[0m\u001b[0mget_jd12\u001b[0m\u001b[1;33m(\u001b[0m\u001b[0mtime\u001b[0m\u001b[1;33m,\u001b[0m \u001b[1;34m'ut1'\u001b[0m\u001b[1;33m)\u001b[0m\u001b[1;33m)\u001b[0m\u001b[1;33m\u001b[0m\u001b[1;33m\u001b[0m\u001b[0m\n\u001b[0m\u001b[0;32m     32\u001b[0m \u001b[1;33m\u001b[0m\u001b[0m\n\u001b[0;32m     33\u001b[0m     \u001b[1;31m# Polar Motion\u001b[0m\u001b[1;33m\u001b[0m\u001b[1;33m\u001b[0m\u001b[1;33m\u001b[0m\u001b[0m\n",
      "\u001b[1;32mD:\\Programs\\Anaconda3\\lib\\site-packages\\astropy\\coordinates\\builtin_frames\\utils.py\u001b[0m in \u001b[0;36mget_polar_motion\u001b[1;34m(time)\u001b[0m\n\u001b[0;32m     38\u001b[0m \u001b[1;31m# comes from the mean of the 1962-2014 IERS B data\u001b[0m\u001b[1;33m\u001b[0m\u001b[1;33m\u001b[0m\u001b[1;33m\u001b[0m\u001b[0m\n\u001b[0;32m     39\u001b[0m \u001b[0m_DEFAULT_PM\u001b[0m \u001b[1;33m=\u001b[0m \u001b[1;33m(\u001b[0m\u001b[1;36m0.035\u001b[0m\u001b[1;33m,\u001b[0m \u001b[1;36m0.29\u001b[0m\u001b[1;33m)\u001b[0m\u001b[1;33m*\u001b[0m\u001b[0mu\u001b[0m\u001b[1;33m.\u001b[0m\u001b[0marcsec\u001b[0m\u001b[1;33m\u001b[0m\u001b[1;33m\u001b[0m\u001b[0m\n\u001b[1;32m---> 40\u001b[1;33m \u001b[1;33m\u001b[0m\u001b[0m\n\u001b[0m\u001b[0;32m     41\u001b[0m \u001b[1;33m\u001b[0m\u001b[0m\n\u001b[0;32m     42\u001b[0m \u001b[1;32mdef\u001b[0m \u001b[0mget_polar_motion\u001b[0m\u001b[1;33m(\u001b[0m\u001b[0mtime\u001b[0m\u001b[1;33m)\u001b[0m\u001b[1;33m:\u001b[0m\u001b[1;33m\u001b[0m\u001b[1;33m\u001b[0m\u001b[0m\n",
      "\u001b[1;32mD:\\Programs\\Anaconda3\\lib\\site-packages\\astropy\\utils\\iers\\iers.py\u001b[0m in \u001b[0;36mopen\u001b[1;34m(cls)\u001b[0m\n\u001b[0;32m    658\u001b[0m             \u001b[1;32mreturn\u001b[0m \u001b[0mcls\u001b[0m\u001b[1;33m.\u001b[0m\u001b[0miers_table\u001b[0m\u001b[1;33m\u001b[0m\u001b[1;33m\u001b[0m\u001b[0m\n\u001b[0;32m    659\u001b[0m \u001b[1;33m\u001b[0m\u001b[0m\n\u001b[1;32m--> 660\u001b[1;33m         \u001b[0mall_urls\u001b[0m \u001b[1;33m=\u001b[0m \u001b[1;33m(\u001b[0m\u001b[0mconf\u001b[0m\u001b[1;33m.\u001b[0m\u001b[0miers_auto_url\u001b[0m\u001b[1;33m,\u001b[0m \u001b[0mconf\u001b[0m\u001b[1;33m.\u001b[0m\u001b[0miers_auto_url_mirror\u001b[0m\u001b[1;33m)\u001b[0m\u001b[1;33m\u001b[0m\u001b[1;33m\u001b[0m\u001b[0m\n\u001b[0m\u001b[0;32m    661\u001b[0m \u001b[1;33m\u001b[0m\u001b[0m\n\u001b[0;32m    662\u001b[0m         \u001b[1;32mif\u001b[0m \u001b[0mcls\u001b[0m\u001b[1;33m.\u001b[0m\u001b[0miers_table\u001b[0m \u001b[1;32mis\u001b[0m \u001b[1;32mnot\u001b[0m \u001b[1;32mNone\u001b[0m\u001b[1;33m:\u001b[0m\u001b[1;33m\u001b[0m\u001b[1;33m\u001b[0m\u001b[0m\n",
      "\u001b[1;32mD:\\Programs\\Anaconda3\\lib\\site-packages\\astropy\\utils\\iers\\iers.py\u001b[0m in \u001b[0;36mread\u001b[1;34m(cls, file, readme)\u001b[0m\n\u001b[0;32m    502\u001b[0m         p_index = min(np.searchsorted(table['UT1Flag_A'], 'P'),\n\u001b[0;32m    503\u001b[0m                       np.searchsorted(table['PolPMFlag_A'], 'P'))\n\u001b[1;32m--> 504\u001b[1;33m         \u001b[0mtable\u001b[0m\u001b[1;33m.\u001b[0m\u001b[0mmeta\u001b[0m\u001b[1;33m[\u001b[0m\u001b[1;34m'predictive_index'\u001b[0m\u001b[1;33m]\u001b[0m \u001b[1;33m=\u001b[0m \u001b[0mp_index\u001b[0m\u001b[1;33m\u001b[0m\u001b[1;33m\u001b[0m\u001b[0m\n\u001b[0m\u001b[0;32m    505\u001b[0m         \u001b[0mtable\u001b[0m\u001b[1;33m.\u001b[0m\u001b[0mmeta\u001b[0m\u001b[1;33m[\u001b[0m\u001b[1;34m'predictive_mjd'\u001b[0m\u001b[1;33m]\u001b[0m \u001b[1;33m=\u001b[0m \u001b[0mtable\u001b[0m\u001b[1;33m[\u001b[0m\u001b[1;34m'MJD'\u001b[0m\u001b[1;33m]\u001b[0m\u001b[1;33m[\u001b[0m\u001b[0mp_index\u001b[0m\u001b[1;33m]\u001b[0m\u001b[1;33m.\u001b[0m\u001b[0mvalue\u001b[0m\u001b[1;33m\u001b[0m\u001b[1;33m\u001b[0m\u001b[0m\n\u001b[0;32m    506\u001b[0m \u001b[1;33m\u001b[0m\u001b[0m\n",
      "\u001b[1;32mD:\\Programs\\Anaconda3\\lib\\site-packages\\astropy\\table\\table.py\u001b[0m in \u001b[0;36mread\u001b[1;34m(cls, *args, **kwargs)\u001b[0m\n\u001b[0;32m   2548\u001b[0m         \u001b[1;32mfor\u001b[0m \u001b[0ma\u001b[0m \u001b[0mcolumn\u001b[0m\u001b[1;33m:\u001b[0m\u001b[1;33m:\u001b[0m\u001b[1;33m\u001b[0m\u001b[1;33m\u001b[0m\u001b[0m\n\u001b[0;32m   2549\u001b[0m \u001b[1;33m\u001b[0m\u001b[0m\n\u001b[1;32m-> 2550\u001b[1;33m           \u001b[0mtable\u001b[0m\u001b[1;33m[\u001b[0m\u001b[0mname\u001b[0m\u001b[1;33m]\u001b[0m\u001b[1;33m.\u001b[0m\u001b[0mname\u001b[0m \u001b[1;33m=\u001b[0m \u001b[0mnew_name\u001b[0m\u001b[1;33m\u001b[0m\u001b[1;33m\u001b[0m\u001b[0m\n\u001b[0m\u001b[0;32m   2551\u001b[0m \u001b[1;33m\u001b[0m\u001b[0m\n\u001b[0;32m   2552\u001b[0m         \u001b[0mTODO\u001b[0m\u001b[1;33m:\u001b[0m \u001b[0mthis\u001b[0m \u001b[0mwon\u001b[0m\u001b[0;31m'\u001b[0m\u001b[0mt\u001b[0m \u001b[0mwork\u001b[0m \u001b[1;32mfor\u001b[0m \u001b[0mmixins\u001b[0m\u001b[1;33m\u001b[0m\u001b[1;33m\u001b[0m\u001b[0m\n",
      "\u001b[1;32mD:\\Programs\\Anaconda3\\lib\\site-packages\\astropy\\io\\registry.py\u001b[0m in \u001b[0;36mread\u001b[1;34m(cls, format, *args, **kwargs)\u001b[0m\n\u001b[0;32m    515\u001b[0m \u001b[1;33m\u001b[0m\u001b[0m\n\u001b[0;32m    516\u001b[0m             format = _get_valid_format(\n\u001b[1;32m--> 517\u001b[1;33m                 'read', cls, path, fileobj, args, kwargs)\n\u001b[0m\u001b[0;32m    518\u001b[0m \u001b[1;33m\u001b[0m\u001b[0m\n\u001b[0;32m    519\u001b[0m         \u001b[0mreader\u001b[0m \u001b[1;33m=\u001b[0m \u001b[0mget_reader\u001b[0m\u001b[1;33m(\u001b[0m\u001b[0mformat\u001b[0m\u001b[1;33m,\u001b[0m \u001b[0mcls\u001b[0m\u001b[1;33m)\u001b[0m\u001b[1;33m\u001b[0m\u001b[1;33m\u001b[0m\u001b[0m\n",
      "\u001b[1;32mD:\\Programs\\Anaconda3\\lib\\site-packages\\astropy\\io\\ascii\\connect.py\u001b[0m in \u001b[0;36mio_read\u001b[1;34m(format, filename, **kwargs)\u001b[0m\n\u001b[0;32m     35\u001b[0m \u001b[1;33m\u001b[0m\u001b[0m\n\u001b[0;32m     36\u001b[0m     \u001b[0mrows\u001b[0m \u001b[1;33m=\u001b[0m \u001b[1;33m[\u001b[0m\u001b[1;33m]\u001b[0m\u001b[1;33m\u001b[0m\u001b[1;33m\u001b[0m\u001b[0m\n\u001b[1;32m---> 37\u001b[1;33m     \u001b[0mrows\u001b[0m\u001b[1;33m.\u001b[0m\u001b[0mappend\u001b[0m\u001b[1;33m(\u001b[0m\u001b[1;33m(\u001b[0m\u001b[1;34m'ascii'\u001b[0m\u001b[1;33m,\u001b[0m \u001b[1;34m''\u001b[0m\u001b[1;33m,\u001b[0m \u001b[1;34m'Yes'\u001b[0m\u001b[1;33m,\u001b[0m \u001b[1;34m'ASCII table in any supported format (uses guessing)'\u001b[0m\u001b[1;33m)\u001b[0m\u001b[1;33m)\u001b[0m\u001b[1;33m\u001b[0m\u001b[1;33m\u001b[0m\u001b[0m\n\u001b[0m\u001b[0;32m     38\u001b[0m     \u001b[1;32mfor\u001b[0m \u001b[0mformat\u001b[0m \u001b[1;32min\u001b[0m \u001b[0msorted\u001b[0m\u001b[1;33m(\u001b[0m\u001b[0mFORMAT_CLASSES\u001b[0m\u001b[1;33m)\u001b[0m\u001b[1;33m:\u001b[0m\u001b[1;33m\u001b[0m\u001b[1;33m\u001b[0m\u001b[0m\n\u001b[0;32m     39\u001b[0m         \u001b[0mcls\u001b[0m \u001b[1;33m=\u001b[0m \u001b[0mFORMAT_CLASSES\u001b[0m\u001b[1;33m[\u001b[0m\u001b[0mformat\u001b[0m\u001b[1;33m]\u001b[0m\u001b[1;33m\u001b[0m\u001b[1;33m\u001b[0m\u001b[0m\n",
      "\u001b[1;32mD:\\Programs\\Anaconda3\\lib\\site-packages\\astropy\\io\\ascii\\ui.py\u001b[0m in \u001b[0;36mread\u001b[1;34m(table, guess, **kwargs)\u001b[0m\n\u001b[0;32m    407\u001b[0m     \u001b[0mReturns\u001b[0m\u001b[1;33m\u001b[0m\u001b[1;33m\u001b[0m\u001b[0m\n\u001b[0;32m    408\u001b[0m     \u001b[1;33m-\u001b[0m\u001b[1;33m-\u001b[0m\u001b[1;33m-\u001b[0m\u001b[1;33m-\u001b[0m\u001b[1;33m-\u001b[0m\u001b[1;33m-\u001b[0m\u001b[1;33m-\u001b[0m\u001b[1;33m\u001b[0m\u001b[1;33m\u001b[0m\u001b[0m\n\u001b[1;32m--> 409\u001b[1;33m     \u001b[0mdat\u001b[0m \u001b[1;33m:\u001b[0m\u001b[0;31m \u001b[0m\u001b[0;31m`\u001b[0m\u001b[1;33m~\u001b[0m\u001b[0mastropy\u001b[0m\u001b[1;33m.\u001b[0m\u001b[0mtable\u001b[0m\u001b[1;33m.\u001b[0m\u001b[0mTable\u001b[0m\u001b[0;31m`\u001b[0m \u001b[1;32mor\u001b[0m \u001b[1;32mNone\u001b[0m\u001b[1;33m\u001b[0m\u001b[1;33m\u001b[0m\u001b[0m\n\u001b[0m\u001b[0;32m    410\u001b[0m         \u001b[0mOutput\u001b[0m \u001b[0mtable\u001b[0m \u001b[1;32mor\u001b[0m \u001b[1;32mNone\u001b[0m \u001b[1;32mif\u001b[0m \u001b[0monly\u001b[0m \u001b[0mone\u001b[0m \u001b[0mguess\u001b[0m \u001b[0mformat\u001b[0m \u001b[0mwas\u001b[0m \u001b[0mavailable\u001b[0m\u001b[1;33m\u001b[0m\u001b[1;33m\u001b[0m\u001b[0m\n\u001b[0;32m    411\u001b[0m     \"\"\"\n",
      "\u001b[1;32mD:\\Programs\\Anaconda3\\lib\\site-packages\\astropy\\io\\ascii\\cds.py\u001b[0m in \u001b[0;36mread\u001b[1;34m(self, table)\u001b[0m\n\u001b[0;32m    321\u001b[0m             \u001b[1;32mfor\u001b[0m \u001b[0mdata_start\u001b[0m \u001b[1;32min\u001b[0m \u001b[0mrange\u001b[0m\u001b[1;33m(\u001b[0m\u001b[0mlen\u001b[0m\u001b[1;33m(\u001b[0m\u001b[0mlines\u001b[0m\u001b[1;33m)\u001b[0m\u001b[1;33m)\u001b[0m\u001b[1;33m:\u001b[0m\u001b[1;33m\u001b[0m\u001b[1;33m\u001b[0m\u001b[0m\n\u001b[0;32m    322\u001b[0m                 \u001b[0mself\u001b[0m\u001b[1;33m.\u001b[0m\u001b[0mdata\u001b[0m\u001b[1;33m.\u001b[0m\u001b[0mstart_line\u001b[0m \u001b[1;33m=\u001b[0m \u001b[0mdata_start\u001b[0m\u001b[1;33m\u001b[0m\u001b[1;33m\u001b[0m\u001b[0m\n\u001b[1;32m--> 323\u001b[1;33m                 \u001b[1;32mwith\u001b[0m \u001b[0msuppress\u001b[0m\u001b[1;33m(\u001b[0m\u001b[0mException\u001b[0m\u001b[1;33m)\u001b[0m\u001b[1;33m:\u001b[0m\u001b[1;33m\u001b[0m\u001b[1;33m\u001b[0m\u001b[0m\n\u001b[0m\u001b[0;32m    324\u001b[0m                     \u001b[0mtable\u001b[0m \u001b[1;33m=\u001b[0m \u001b[0msuper\u001b[0m\u001b[1;33m(\u001b[0m\u001b[1;33m)\u001b[0m\u001b[1;33m.\u001b[0m\u001b[0mread\u001b[0m\u001b[1;33m(\u001b[0m\u001b[0mlines\u001b[0m\u001b[1;33m)\u001b[0m\u001b[1;33m\u001b[0m\u001b[1;33m\u001b[0m\u001b[0m\n\u001b[0;32m    325\u001b[0m                     \u001b[1;32mreturn\u001b[0m \u001b[0mtable\u001b[0m\u001b[1;33m\u001b[0m\u001b[1;33m\u001b[0m\u001b[0m\n",
      "\u001b[1;32mD:\\Programs\\Anaconda3\\lib\\site-packages\\astropy\\io\\ascii\\core.py\u001b[0m in \u001b[0;36mread\u001b[1;34m(self, table)\u001b[0m\n\u001b[0;32m   1195\u001b[0m     \u001b[0minclude_names\u001b[0m \u001b[1;33m=\u001b[0m \u001b[1;32mNone\u001b[0m\u001b[1;33m\u001b[0m\u001b[1;33m\u001b[0m\u001b[0m\n\u001b[0;32m   1196\u001b[0m     \u001b[0mexclude_names\u001b[0m \u001b[1;33m=\u001b[0m \u001b[1;32mNone\u001b[0m\u001b[1;33m\u001b[0m\u001b[1;33m\u001b[0m\u001b[0m\n\u001b[1;32m-> 1197\u001b[1;33m     \u001b[0mstrict_names\u001b[0m \u001b[1;33m=\u001b[0m \u001b[1;32mFalse\u001b[0m\u001b[1;33m\u001b[0m\u001b[1;33m\u001b[0m\u001b[0m\n\u001b[0m\u001b[0;32m   1198\u001b[0m     \u001b[0mguessing\u001b[0m \u001b[1;33m=\u001b[0m \u001b[1;32mFalse\u001b[0m\u001b[1;33m\u001b[0m\u001b[1;33m\u001b[0m\u001b[0m\n\u001b[0;32m   1199\u001b[0m     \u001b[0mencoding\u001b[0m \u001b[1;33m=\u001b[0m \u001b[1;32mNone\u001b[0m\u001b[1;33m\u001b[0m\u001b[1;33m\u001b[0m\u001b[0m\n",
      "\u001b[1;32mD:\\Programs\\Anaconda3\\lib\\site-packages\\astropy\\io\\ascii\\core.py\u001b[0m in \u001b[0;36m__call__\u001b[1;34m(self, cols, meta)\u001b[0m\n\u001b[0;32m    982\u001b[0m         \u001b[0mconverters_out\u001b[0m \u001b[1;33m=\u001b[0m \u001b[1;33m[\u001b[0m\u001b[1;33m]\u001b[0m\u001b[1;33m\u001b[0m\u001b[1;33m\u001b[0m\u001b[0m\n\u001b[0;32m    983\u001b[0m         \u001b[1;32mtry\u001b[0m\u001b[1;33m:\u001b[0m\u001b[1;33m\u001b[0m\u001b[1;33m\u001b[0m\u001b[0m\n\u001b[1;32m--> 984\u001b[1;33m             \u001b[1;32mfor\u001b[0m \u001b[0mconverter\u001b[0m \u001b[1;32min\u001b[0m \u001b[0mconverters\u001b[0m\u001b[1;33m:\u001b[0m\u001b[1;33m\u001b[0m\u001b[1;33m\u001b[0m\u001b[0m\n\u001b[0m\u001b[0;32m    985\u001b[0m                 \u001b[0mconverter_func\u001b[0m\u001b[1;33m,\u001b[0m \u001b[0mconverter_type\u001b[0m \u001b[1;33m=\u001b[0m \u001b[0mconverter\u001b[0m\u001b[1;33m\u001b[0m\u001b[1;33m\u001b[0m\u001b[0m\n\u001b[0;32m    986\u001b[0m                 \u001b[1;32mif\u001b[0m \u001b[1;32mnot\u001b[0m \u001b[0missubclass\u001b[0m\u001b[1;33m(\u001b[0m\u001b[0mconverter_type\u001b[0m\u001b[1;33m,\u001b[0m \u001b[0mNoType\u001b[0m\u001b[1;33m)\u001b[0m\u001b[1;33m:\u001b[0m\u001b[1;33m\u001b[0m\u001b[1;33m\u001b[0m\u001b[0m\n",
      "\u001b[1;32mD:\\Programs\\Anaconda3\\lib\\site-packages\\astropy\\io\\ascii\\core.py\u001b[0m in \u001b[0;36m_convert_vals\u001b[1;34m(self, cols)\u001b[0m\n\u001b[0;32m    967\u001b[0m     \u001b[1;32mreturn\u001b[0m \u001b[0mconverter\u001b[0m\u001b[1;33m,\u001b[0m \u001b[0mconverter_type\u001b[0m\u001b[1;33m\u001b[0m\u001b[1;33m\u001b[0m\u001b[0m\n\u001b[0;32m    968\u001b[0m \u001b[1;33m\u001b[0m\u001b[0m\n\u001b[1;32m--> 969\u001b[1;33m \u001b[1;33m\u001b[0m\u001b[0m\n\u001b[0m\u001b[0;32m    970\u001b[0m \u001b[1;32mclass\u001b[0m \u001b[0mBaseOutputter\u001b[0m\u001b[1;33m:\u001b[0m\u001b[1;33m\u001b[0m\u001b[1;33m\u001b[0m\u001b[0m\n\u001b[0;32m    971\u001b[0m     \"\"\"Output table as a dict of column objects keyed on column name.  The\n",
      "\u001b[1;31mValueError\u001b[0m: Column year failed to convert: invalid literal for int() with base 10: '<!'"
     ]
    }
   ],
   "source": [
    "with solar_system_ephemeris.set('builtin'):\n",
    "    get_body('jupiter', t, loc)"
   ]
  },
  {
   "cell_type": "code",
   "execution_count": 101,
   "metadata": {},
   "outputs": [
    {
     "ename": "ValueError",
     "evalue": "Column year failed to convert: invalid literal for int() with base 10: '<!'",
     "output_type": "error",
     "traceback": [
      "\u001b[1;31m---------------------------------------------------------------------------\u001b[0m",
      "\u001b[1;31mIndexError\u001b[0m                                Traceback (most recent call last)",
      "\u001b[1;32mD:\\Programs\\Anaconda3\\lib\\site-packages\\astropy\\io\\ascii\\core.py\u001b[0m in \u001b[0;36m_convert_vals\u001b[1;34m(self, cols)\u001b[0m\n\u001b[0;32m    952\u001b[0m                 \u001b[1;32mraise\u001b[0m \u001b[0mValueError\u001b[0m\u001b[1;33m(\u001b[0m\u001b[1;34m'bool input strings must be False, True, 0, 1, or \"\"'\u001b[0m\u001b[1;33m)\u001b[0m\u001b[1;33m\u001b[0m\u001b[1;33m\u001b[0m\u001b[0m\n\u001b[1;32m--> 953\u001b[1;33m         \u001b[0mvals\u001b[0m \u001b[1;33m=\u001b[0m \u001b[0mnumpy\u001b[0m\u001b[1;33m.\u001b[0m\u001b[0masarray\u001b[0m\u001b[1;33m(\u001b[0m\u001b[0mvals\u001b[0m\u001b[1;33m)\u001b[0m\u001b[1;33m\u001b[0m\u001b[1;33m\u001b[0m\u001b[0m\n\u001b[0m\u001b[0;32m    954\u001b[0m \u001b[1;33m\u001b[0m\u001b[0m\n",
      "\u001b[1;31mIndexError\u001b[0m: list index out of range",
      "\nDuring handling of the above exception, another exception occurred:\n",
      "\u001b[1;31mValueError\u001b[0m                                Traceback (most recent call last)",
      "\u001b[1;32m<ipython-input-101-572ac48cae0d>\u001b[0m in \u001b[0;36m<module>\u001b[1;34m\u001b[0m\n\u001b[0;32m      3\u001b[0m \u001b[0mloc\u001b[0m \u001b[1;33m=\u001b[0m \u001b[0mEarthLocation\u001b[0m\u001b[1;33m.\u001b[0m\u001b[0mof_site\u001b[0m\u001b[1;33m(\u001b[0m\u001b[1;34m'greenwich'\u001b[0m\u001b[1;33m)\u001b[0m\u001b[1;33m\u001b[0m\u001b[1;33m\u001b[0m\u001b[0m\n\u001b[0;32m      4\u001b[0m \u001b[1;32mwith\u001b[0m \u001b[0msolar_system_ephemeris\u001b[0m\u001b[1;33m.\u001b[0m\u001b[0mset\u001b[0m\u001b[1;33m(\u001b[0m\u001b[1;34m'builtin'\u001b[0m\u001b[1;33m)\u001b[0m\u001b[1;33m:\u001b[0m\u001b[1;33m\u001b[0m\u001b[1;33m\u001b[0m\u001b[0m\n\u001b[1;32m----> 5\u001b[1;33m     \u001b[0mjup\u001b[0m \u001b[1;33m=\u001b[0m \u001b[0mget_body\u001b[0m\u001b[1;33m(\u001b[0m\u001b[1;34m'jupiter'\u001b[0m\u001b[1;33m,\u001b[0m \u001b[0mt\u001b[0m\u001b[1;33m,\u001b[0m \u001b[0mloc\u001b[0m\u001b[1;33m)\u001b[0m\u001b[1;33m\u001b[0m\u001b[1;33m\u001b[0m\u001b[0m\n\u001b[0m",
      "\u001b[1;32mD:\\Programs\\Anaconda3\\lib\\site-packages\\astropy\\coordinates\\solar_system.py\u001b[0m in \u001b[0;36mget_body\u001b[1;34m(body, time, location, ephemeris)\u001b[0m\n\u001b[0;32m    453\u001b[0m     \u001b[0mskycoord\u001b[0m \u001b[1;33m:\u001b[0m\u001b[0;31m \u001b[0m\u001b[0;31m`\u001b[0m\u001b[1;33m~\u001b[0m\u001b[0mastropy\u001b[0m\u001b[1;33m.\u001b[0m\u001b[0mcoordinates\u001b[0m\u001b[1;33m.\u001b[0m\u001b[0mSkyCoord\u001b[0m\u001b[0;31m`\u001b[0m\u001b[1;33m\u001b[0m\u001b[1;33m\u001b[0m\u001b[0m\n\u001b[0;32m    454\u001b[0m         \u001b[0mGCRS\u001b[0m \u001b[0mCoordinate\u001b[0m \u001b[1;32mfor\u001b[0m \u001b[0mthe\u001b[0m \u001b[0mbody\u001b[0m\u001b[1;33m\u001b[0m\u001b[1;33m\u001b[0m\u001b[0m\n\u001b[1;32m--> 455\u001b[1;33m \u001b[1;33m\u001b[0m\u001b[0m\n\u001b[0m\u001b[0;32m    456\u001b[0m     \u001b[0mNotes\u001b[0m\u001b[1;33m\u001b[0m\u001b[1;33m\u001b[0m\u001b[0m\n\u001b[0;32m    457\u001b[0m     \u001b[1;33m-\u001b[0m\u001b[1;33m-\u001b[0m\u001b[1;33m-\u001b[0m\u001b[1;33m-\u001b[0m\u001b[1;33m-\u001b[0m\u001b[1;33m\u001b[0m\u001b[1;33m\u001b[0m\u001b[0m\n",
      "\u001b[1;32mD:\\Programs\\Anaconda3\\lib\\site-packages\\astropy\\coordinates\\earth.py\u001b[0m in \u001b[0;36mget_gcrs_posvel\u001b[1;34m(self, obstime)\u001b[0m\n\u001b[0;32m    703\u001b[0m         \u001b[0mgcrs_data\u001b[0m \u001b[1;33m=\u001b[0m \u001b[0mself\u001b[0m\u001b[1;33m.\u001b[0m\u001b[0mget_gcrs\u001b[0m\u001b[1;33m(\u001b[0m\u001b[0mobstime\u001b[0m\u001b[1;33m)\u001b[0m\u001b[1;33m.\u001b[0m\u001b[0mdata\u001b[0m\u001b[1;33m\u001b[0m\u001b[1;33m\u001b[0m\u001b[0m\n\u001b[0;32m    704\u001b[0m         \u001b[0mobsgeopos\u001b[0m \u001b[1;33m=\u001b[0m \u001b[0mgcrs_data\u001b[0m\u001b[1;33m.\u001b[0m\u001b[0mwithout_differentials\u001b[0m\u001b[1;33m(\u001b[0m\u001b[1;33m)\u001b[0m\u001b[1;33m\u001b[0m\u001b[1;33m\u001b[0m\u001b[0m\n\u001b[1;32m--> 705\u001b[1;33m         \u001b[0mobsgeovel\u001b[0m \u001b[1;33m=\u001b[0m \u001b[0mgcrs_data\u001b[0m\u001b[1;33m.\u001b[0m\u001b[0mdifferentials\u001b[0m\u001b[1;33m[\u001b[0m\u001b[1;34m's'\u001b[0m\u001b[1;33m]\u001b[0m\u001b[1;33m.\u001b[0m\u001b[0mto_cartesian\u001b[0m\u001b[1;33m(\u001b[0m\u001b[1;33m)\u001b[0m\u001b[1;33m\u001b[0m\u001b[1;33m\u001b[0m\u001b[0m\n\u001b[0m\u001b[0;32m    706\u001b[0m         \u001b[1;32mreturn\u001b[0m \u001b[0mobsgeopos\u001b[0m\u001b[1;33m,\u001b[0m \u001b[0mobsgeovel\u001b[0m\u001b[1;33m\u001b[0m\u001b[1;33m\u001b[0m\u001b[0m\n\u001b[0;32m    707\u001b[0m \u001b[1;33m\u001b[0m\u001b[0m\n",
      "\u001b[1;32mD:\\Programs\\Anaconda3\\lib\\site-packages\\astropy\\coordinates\\earth.py\u001b[0m in \u001b[0;36mget_gcrs\u001b[1;34m(self, obstime)\u001b[0m\n\u001b[0;32m    683\u001b[0m         \u001b[1;32mreturn\u001b[0m \u001b[0mitrs\u001b[0m\u001b[1;33m.\u001b[0m\u001b[0mtransform_to\u001b[0m\u001b[1;33m(\u001b[0m\u001b[0mGCRS\u001b[0m\u001b[1;33m(\u001b[0m\u001b[0mobstime\u001b[0m\u001b[1;33m=\u001b[0m\u001b[0mobstime\u001b[0m\u001b[1;33m)\u001b[0m\u001b[1;33m)\u001b[0m\u001b[1;33m\u001b[0m\u001b[1;33m\u001b[0m\u001b[0m\n\u001b[0;32m    684\u001b[0m \u001b[1;33m\u001b[0m\u001b[0m\n\u001b[1;32m--> 685\u001b[1;33m     \u001b[1;32mdef\u001b[0m \u001b[0mget_gcrs_posvel\u001b[0m\u001b[1;33m(\u001b[0m\u001b[0mself\u001b[0m\u001b[1;33m,\u001b[0m \u001b[0mobstime\u001b[0m\u001b[1;33m)\u001b[0m\u001b[1;33m:\u001b[0m\u001b[1;33m\u001b[0m\u001b[1;33m\u001b[0m\u001b[0m\n\u001b[0m\u001b[0;32m    686\u001b[0m         \"\"\"\n\u001b[0;32m    687\u001b[0m         \u001b[0mCalculate\u001b[0m \u001b[0mthe\u001b[0m \u001b[0mGCRS\u001b[0m \u001b[0mposition\u001b[0m \u001b[1;32mand\u001b[0m \u001b[0mvelocity\u001b[0m \u001b[0mof\u001b[0m \u001b[0mthis\u001b[0m \u001b[0mobject\u001b[0m \u001b[0mat\u001b[0m \u001b[0mthe\u001b[0m\u001b[1;33m\u001b[0m\u001b[1;33m\u001b[0m\u001b[0m\n",
      "\u001b[1;32mD:\\Programs\\Anaconda3\\lib\\site-packages\\astropy\\coordinates\\baseframe.py\u001b[0m in \u001b[0;36mtransform_to\u001b[1;34m(self, new_frame)\u001b[0m\n\u001b[0;32m   1184\u001b[0m             \u001b[0mA\u001b[0m \u001b[0mnew\u001b[0m \u001b[0mobject\u001b[0m \u001b[1;32mwith\u001b[0m \u001b[0mthe\u001b[0m \u001b[0mcoordinate\u001b[0m \u001b[0mdata\u001b[0m \u001b[0mrepresented\u001b[0m \u001b[1;32min\u001b[0m \u001b[0mthe\u001b[0m\u001b[1;33m\u001b[0m\u001b[1;33m\u001b[0m\u001b[0m\n\u001b[0;32m   1185\u001b[0m             \u001b[0;31m`\u001b[0m\u001b[0;31m`\u001b[0m\u001b[0mnewframe\u001b[0m\u001b[0;31m`\u001b[0m\u001b[0;31m`\u001b[0m \u001b[0msystem\u001b[0m\u001b[1;33m.\u001b[0m\u001b[1;33m\u001b[0m\u001b[1;33m\u001b[0m\u001b[0m\n\u001b[1;32m-> 1186\u001b[1;33m \u001b[1;33m\u001b[0m\u001b[0m\n\u001b[0m\u001b[0;32m   1187\u001b[0m         \u001b[0mRaises\u001b[0m\u001b[1;33m\u001b[0m\u001b[1;33m\u001b[0m\u001b[0m\n\u001b[0;32m   1188\u001b[0m         \u001b[1;33m-\u001b[0m\u001b[1;33m-\u001b[0m\u001b[1;33m-\u001b[0m\u001b[1;33m-\u001b[0m\u001b[1;33m-\u001b[0m\u001b[1;33m-\u001b[0m\u001b[1;33m\u001b[0m\u001b[1;33m\u001b[0m\u001b[0m\n",
      "\u001b[1;32mD:\\Programs\\Anaconda3\\lib\\site-packages\\astropy\\coordinates\\transformations.py\u001b[0m in \u001b[0;36m__call__\u001b[1;34m(self, fromcoord, toframe)\u001b[0m\n\u001b[0;32m   1375\u001b[0m \u001b[1;33m\u001b[0m\u001b[0m\n\u001b[0;32m   1376\u001b[0m     def __init__(self, transforms, fromsys, tosys, priority=1,\n\u001b[1;32m-> 1377\u001b[1;33m                  register_graph=None, collapse_static_mats=True):\n\u001b[0m\u001b[0;32m   1378\u001b[0m         super().__init__(fromsys, tosys, priority=priority,\n\u001b[0;32m   1379\u001b[0m                          register_graph=register_graph)\n",
      "\u001b[1;32mD:\\Programs\\Anaconda3\\lib\\site-packages\\astropy\\coordinates\\transformations.py\u001b[0m in \u001b[0;36m__call__\u001b[1;34m(self, fromcoord, toframe)\u001b[0m\n\u001b[0;32m    911\u001b[0m \u001b[1;33m\u001b[0m\u001b[0m\n\u001b[0;32m    912\u001b[0m     \"\"\"\n\u001b[1;32m--> 913\u001b[1;33m \u001b[1;33m\u001b[0m\u001b[0m\n\u001b[0m\u001b[0;32m    914\u001b[0m     def __init__(self, func, fromsys, tosys, priority=1, register_graph=None,\n\u001b[0;32m    915\u001b[0m                  \u001b[0mfinite_difference_frameattr_name\u001b[0m\u001b[1;33m=\u001b[0m\u001b[1;34m'obstime'\u001b[0m\u001b[1;33m,\u001b[0m\u001b[1;33m\u001b[0m\u001b[1;33m\u001b[0m\u001b[0m\n",
      "\u001b[1;32mD:\\Programs\\Anaconda3\\lib\\site-packages\\astropy\\coordinates\\builtin_frames\\intermediate_rotation_transforms.py\u001b[0m in \u001b[0;36mitrs_to_cirs\u001b[1;34m(itrs_coo, cirs_frame)\u001b[0m\n\u001b[0;32m     85\u001b[0m     \u001b[1;32mreturn\u001b[0m \u001b[0merfa\u001b[0m\u001b[1;33m.\u001b[0m\u001b[0mfw2m\u001b[0m\u001b[1;33m(\u001b[0m\u001b[0mgamb\u001b[0m\u001b[1;33m,\u001b[0m \u001b[0mphib\u001b[0m\u001b[1;33m,\u001b[0m \u001b[0mpsib\u001b[0m\u001b[1;33m,\u001b[0m \u001b[0mepsa\u001b[0m\u001b[1;33m)\u001b[0m\u001b[1;33m\u001b[0m\u001b[1;33m\u001b[0m\u001b[0m\n\u001b[0;32m     86\u001b[0m \u001b[1;33m\u001b[0m\u001b[0m\n\u001b[1;32m---> 87\u001b[1;33m \u001b[1;33m\u001b[0m\u001b[0m\n\u001b[0m\u001b[0;32m     88\u001b[0m \u001b[1;32mdef\u001b[0m \u001b[0mget_location_gcrs\u001b[0m\u001b[1;33m(\u001b[0m\u001b[0mreference\u001b[0m\u001b[1;33m,\u001b[0m \u001b[0mgcrs_to_reference_matrix\u001b[0m\u001b[1;33m)\u001b[0m\u001b[1;33m:\u001b[0m\u001b[1;33m\u001b[0m\u001b[1;33m\u001b[0m\u001b[0m\n\u001b[0;32m     89\u001b[0m     \"\"\"Create a GCRS frame at the location and obstime of a given reference.\n",
      "\u001b[1;32mD:\\Programs\\Anaconda3\\lib\\site-packages\\astropy\\coordinates\\builtin_frames\\intermediate_rotation_transforms.py\u001b[0m in \u001b[0;36mcirs_to_itrs_mat\u001b[1;34m(time)\u001b[0m\n\u001b[0;32m     29\u001b[0m     \u001b[1;31m# Use 1982 model for consistency with Vallado et al (2006)\u001b[0m\u001b[1;33m\u001b[0m\u001b[1;33m\u001b[0m\u001b[1;33m\u001b[0m\u001b[0m\n\u001b[0;32m     30\u001b[0m     \u001b[1;31m# http://www.celestrak.com/publications/aiaa/2006-6753/AIAA-2006-6753.pdf\u001b[0m\u001b[1;33m\u001b[0m\u001b[1;33m\u001b[0m\u001b[1;33m\u001b[0m\u001b[0m\n\u001b[1;32m---> 31\u001b[1;33m     \u001b[0mgst\u001b[0m \u001b[1;33m=\u001b[0m \u001b[0merfa\u001b[0m\u001b[1;33m.\u001b[0m\u001b[0mgmst82\u001b[0m\u001b[1;33m(\u001b[0m\u001b[1;33m*\u001b[0m\u001b[0mget_jd12\u001b[0m\u001b[1;33m(\u001b[0m\u001b[0mtime\u001b[0m\u001b[1;33m,\u001b[0m \u001b[1;34m'ut1'\u001b[0m\u001b[1;33m)\u001b[0m\u001b[1;33m)\u001b[0m\u001b[1;33m\u001b[0m\u001b[1;33m\u001b[0m\u001b[0m\n\u001b[0m\u001b[0;32m     32\u001b[0m \u001b[1;33m\u001b[0m\u001b[0m\n\u001b[0;32m     33\u001b[0m     \u001b[1;31m# Polar Motion\u001b[0m\u001b[1;33m\u001b[0m\u001b[1;33m\u001b[0m\u001b[1;33m\u001b[0m\u001b[0m\n",
      "\u001b[1;32mD:\\Programs\\Anaconda3\\lib\\site-packages\\astropy\\coordinates\\builtin_frames\\utils.py\u001b[0m in \u001b[0;36mget_polar_motion\u001b[1;34m(time)\u001b[0m\n\u001b[0;32m     38\u001b[0m \u001b[1;31m# comes from the mean of the 1962-2014 IERS B data\u001b[0m\u001b[1;33m\u001b[0m\u001b[1;33m\u001b[0m\u001b[1;33m\u001b[0m\u001b[0m\n\u001b[0;32m     39\u001b[0m \u001b[0m_DEFAULT_PM\u001b[0m \u001b[1;33m=\u001b[0m \u001b[1;33m(\u001b[0m\u001b[1;36m0.035\u001b[0m\u001b[1;33m,\u001b[0m \u001b[1;36m0.29\u001b[0m\u001b[1;33m)\u001b[0m\u001b[1;33m*\u001b[0m\u001b[0mu\u001b[0m\u001b[1;33m.\u001b[0m\u001b[0marcsec\u001b[0m\u001b[1;33m\u001b[0m\u001b[1;33m\u001b[0m\u001b[0m\n\u001b[1;32m---> 40\u001b[1;33m \u001b[1;33m\u001b[0m\u001b[0m\n\u001b[0m\u001b[0;32m     41\u001b[0m \u001b[1;33m\u001b[0m\u001b[0m\n\u001b[0;32m     42\u001b[0m \u001b[1;32mdef\u001b[0m \u001b[0mget_polar_motion\u001b[0m\u001b[1;33m(\u001b[0m\u001b[0mtime\u001b[0m\u001b[1;33m)\u001b[0m\u001b[1;33m:\u001b[0m\u001b[1;33m\u001b[0m\u001b[1;33m\u001b[0m\u001b[0m\n",
      "\u001b[1;32mD:\\Programs\\Anaconda3\\lib\\site-packages\\astropy\\utils\\iers\\iers.py\u001b[0m in \u001b[0;36mopen\u001b[1;34m(cls)\u001b[0m\n\u001b[0;32m    658\u001b[0m             \u001b[1;32mreturn\u001b[0m \u001b[0mcls\u001b[0m\u001b[1;33m.\u001b[0m\u001b[0miers_table\u001b[0m\u001b[1;33m\u001b[0m\u001b[1;33m\u001b[0m\u001b[0m\n\u001b[0;32m    659\u001b[0m \u001b[1;33m\u001b[0m\u001b[0m\n\u001b[1;32m--> 660\u001b[1;33m         \u001b[0mall_urls\u001b[0m \u001b[1;33m=\u001b[0m \u001b[1;33m(\u001b[0m\u001b[0mconf\u001b[0m\u001b[1;33m.\u001b[0m\u001b[0miers_auto_url\u001b[0m\u001b[1;33m,\u001b[0m \u001b[0mconf\u001b[0m\u001b[1;33m.\u001b[0m\u001b[0miers_auto_url_mirror\u001b[0m\u001b[1;33m)\u001b[0m\u001b[1;33m\u001b[0m\u001b[1;33m\u001b[0m\u001b[0m\n\u001b[0m\u001b[0;32m    661\u001b[0m \u001b[1;33m\u001b[0m\u001b[0m\n\u001b[0;32m    662\u001b[0m         \u001b[1;32mif\u001b[0m \u001b[0mcls\u001b[0m\u001b[1;33m.\u001b[0m\u001b[0miers_table\u001b[0m \u001b[1;32mis\u001b[0m \u001b[1;32mnot\u001b[0m \u001b[1;32mNone\u001b[0m\u001b[1;33m:\u001b[0m\u001b[1;33m\u001b[0m\u001b[1;33m\u001b[0m\u001b[0m\n",
      "\u001b[1;32mD:\\Programs\\Anaconda3\\lib\\site-packages\\astropy\\utils\\iers\\iers.py\u001b[0m in \u001b[0;36mread\u001b[1;34m(cls, file, readme)\u001b[0m\n\u001b[0;32m    502\u001b[0m         p_index = min(np.searchsorted(table['UT1Flag_A'], 'P'),\n\u001b[0;32m    503\u001b[0m                       np.searchsorted(table['PolPMFlag_A'], 'P'))\n\u001b[1;32m--> 504\u001b[1;33m         \u001b[0mtable\u001b[0m\u001b[1;33m.\u001b[0m\u001b[0mmeta\u001b[0m\u001b[1;33m[\u001b[0m\u001b[1;34m'predictive_index'\u001b[0m\u001b[1;33m]\u001b[0m \u001b[1;33m=\u001b[0m \u001b[0mp_index\u001b[0m\u001b[1;33m\u001b[0m\u001b[1;33m\u001b[0m\u001b[0m\n\u001b[0m\u001b[0;32m    505\u001b[0m         \u001b[0mtable\u001b[0m\u001b[1;33m.\u001b[0m\u001b[0mmeta\u001b[0m\u001b[1;33m[\u001b[0m\u001b[1;34m'predictive_mjd'\u001b[0m\u001b[1;33m]\u001b[0m \u001b[1;33m=\u001b[0m \u001b[0mtable\u001b[0m\u001b[1;33m[\u001b[0m\u001b[1;34m'MJD'\u001b[0m\u001b[1;33m]\u001b[0m\u001b[1;33m[\u001b[0m\u001b[0mp_index\u001b[0m\u001b[1;33m]\u001b[0m\u001b[1;33m.\u001b[0m\u001b[0mvalue\u001b[0m\u001b[1;33m\u001b[0m\u001b[1;33m\u001b[0m\u001b[0m\n\u001b[0;32m    506\u001b[0m \u001b[1;33m\u001b[0m\u001b[0m\n",
      "\u001b[1;32mD:\\Programs\\Anaconda3\\lib\\site-packages\\astropy\\table\\table.py\u001b[0m in \u001b[0;36mread\u001b[1;34m(cls, *args, **kwargs)\u001b[0m\n\u001b[0;32m   2548\u001b[0m         \u001b[1;32mfor\u001b[0m \u001b[0ma\u001b[0m \u001b[0mcolumn\u001b[0m\u001b[1;33m:\u001b[0m\u001b[1;33m:\u001b[0m\u001b[1;33m\u001b[0m\u001b[1;33m\u001b[0m\u001b[0m\n\u001b[0;32m   2549\u001b[0m \u001b[1;33m\u001b[0m\u001b[0m\n\u001b[1;32m-> 2550\u001b[1;33m           \u001b[0mtable\u001b[0m\u001b[1;33m[\u001b[0m\u001b[0mname\u001b[0m\u001b[1;33m]\u001b[0m\u001b[1;33m.\u001b[0m\u001b[0mname\u001b[0m \u001b[1;33m=\u001b[0m \u001b[0mnew_name\u001b[0m\u001b[1;33m\u001b[0m\u001b[1;33m\u001b[0m\u001b[0m\n\u001b[0m\u001b[0;32m   2551\u001b[0m \u001b[1;33m\u001b[0m\u001b[0m\n\u001b[0;32m   2552\u001b[0m         \u001b[0mTODO\u001b[0m\u001b[1;33m:\u001b[0m \u001b[0mthis\u001b[0m \u001b[0mwon\u001b[0m\u001b[0;31m'\u001b[0m\u001b[0mt\u001b[0m \u001b[0mwork\u001b[0m \u001b[1;32mfor\u001b[0m \u001b[0mmixins\u001b[0m\u001b[1;33m\u001b[0m\u001b[1;33m\u001b[0m\u001b[0m\n",
      "\u001b[1;32mD:\\Programs\\Anaconda3\\lib\\site-packages\\astropy\\io\\registry.py\u001b[0m in \u001b[0;36mread\u001b[1;34m(cls, format, *args, **kwargs)\u001b[0m\n\u001b[0;32m    515\u001b[0m \u001b[1;33m\u001b[0m\u001b[0m\n\u001b[0;32m    516\u001b[0m             format = _get_valid_format(\n\u001b[1;32m--> 517\u001b[1;33m                 'read', cls, path, fileobj, args, kwargs)\n\u001b[0m\u001b[0;32m    518\u001b[0m \u001b[1;33m\u001b[0m\u001b[0m\n\u001b[0;32m    519\u001b[0m         \u001b[0mreader\u001b[0m \u001b[1;33m=\u001b[0m \u001b[0mget_reader\u001b[0m\u001b[1;33m(\u001b[0m\u001b[0mformat\u001b[0m\u001b[1;33m,\u001b[0m \u001b[0mcls\u001b[0m\u001b[1;33m)\u001b[0m\u001b[1;33m\u001b[0m\u001b[1;33m\u001b[0m\u001b[0m\n",
      "\u001b[1;32mD:\\Programs\\Anaconda3\\lib\\site-packages\\astropy\\io\\ascii\\connect.py\u001b[0m in \u001b[0;36mio_read\u001b[1;34m(format, filename, **kwargs)\u001b[0m\n\u001b[0;32m     35\u001b[0m \u001b[1;33m\u001b[0m\u001b[0m\n\u001b[0;32m     36\u001b[0m     \u001b[0mrows\u001b[0m \u001b[1;33m=\u001b[0m \u001b[1;33m[\u001b[0m\u001b[1;33m]\u001b[0m\u001b[1;33m\u001b[0m\u001b[1;33m\u001b[0m\u001b[0m\n\u001b[1;32m---> 37\u001b[1;33m     \u001b[0mrows\u001b[0m\u001b[1;33m.\u001b[0m\u001b[0mappend\u001b[0m\u001b[1;33m(\u001b[0m\u001b[1;33m(\u001b[0m\u001b[1;34m'ascii'\u001b[0m\u001b[1;33m,\u001b[0m \u001b[1;34m''\u001b[0m\u001b[1;33m,\u001b[0m \u001b[1;34m'Yes'\u001b[0m\u001b[1;33m,\u001b[0m \u001b[1;34m'ASCII table in any supported format (uses guessing)'\u001b[0m\u001b[1;33m)\u001b[0m\u001b[1;33m)\u001b[0m\u001b[1;33m\u001b[0m\u001b[1;33m\u001b[0m\u001b[0m\n\u001b[0m\u001b[0;32m     38\u001b[0m     \u001b[1;32mfor\u001b[0m \u001b[0mformat\u001b[0m \u001b[1;32min\u001b[0m \u001b[0msorted\u001b[0m\u001b[1;33m(\u001b[0m\u001b[0mFORMAT_CLASSES\u001b[0m\u001b[1;33m)\u001b[0m\u001b[1;33m:\u001b[0m\u001b[1;33m\u001b[0m\u001b[1;33m\u001b[0m\u001b[0m\n\u001b[0;32m     39\u001b[0m         \u001b[0mcls\u001b[0m \u001b[1;33m=\u001b[0m \u001b[0mFORMAT_CLASSES\u001b[0m\u001b[1;33m[\u001b[0m\u001b[0mformat\u001b[0m\u001b[1;33m]\u001b[0m\u001b[1;33m\u001b[0m\u001b[1;33m\u001b[0m\u001b[0m\n",
      "\u001b[1;32mD:\\Programs\\Anaconda3\\lib\\site-packages\\astropy\\io\\ascii\\ui.py\u001b[0m in \u001b[0;36mread\u001b[1;34m(table, guess, **kwargs)\u001b[0m\n\u001b[0;32m    407\u001b[0m     \u001b[0mReturns\u001b[0m\u001b[1;33m\u001b[0m\u001b[1;33m\u001b[0m\u001b[0m\n\u001b[0;32m    408\u001b[0m     \u001b[1;33m-\u001b[0m\u001b[1;33m-\u001b[0m\u001b[1;33m-\u001b[0m\u001b[1;33m-\u001b[0m\u001b[1;33m-\u001b[0m\u001b[1;33m-\u001b[0m\u001b[1;33m-\u001b[0m\u001b[1;33m\u001b[0m\u001b[1;33m\u001b[0m\u001b[0m\n\u001b[1;32m--> 409\u001b[1;33m     \u001b[0mdat\u001b[0m \u001b[1;33m:\u001b[0m\u001b[0;31m \u001b[0m\u001b[0;31m`\u001b[0m\u001b[1;33m~\u001b[0m\u001b[0mastropy\u001b[0m\u001b[1;33m.\u001b[0m\u001b[0mtable\u001b[0m\u001b[1;33m.\u001b[0m\u001b[0mTable\u001b[0m\u001b[0;31m`\u001b[0m \u001b[1;32mor\u001b[0m \u001b[1;32mNone\u001b[0m\u001b[1;33m\u001b[0m\u001b[1;33m\u001b[0m\u001b[0m\n\u001b[0m\u001b[0;32m    410\u001b[0m         \u001b[0mOutput\u001b[0m \u001b[0mtable\u001b[0m \u001b[1;32mor\u001b[0m \u001b[1;32mNone\u001b[0m \u001b[1;32mif\u001b[0m \u001b[0monly\u001b[0m \u001b[0mone\u001b[0m \u001b[0mguess\u001b[0m \u001b[0mformat\u001b[0m \u001b[0mwas\u001b[0m \u001b[0mavailable\u001b[0m\u001b[1;33m\u001b[0m\u001b[1;33m\u001b[0m\u001b[0m\n\u001b[0;32m    411\u001b[0m     \"\"\"\n",
      "\u001b[1;32mD:\\Programs\\Anaconda3\\lib\\site-packages\\astropy\\io\\ascii\\cds.py\u001b[0m in \u001b[0;36mread\u001b[1;34m(self, table)\u001b[0m\n\u001b[0;32m    321\u001b[0m             \u001b[1;32mfor\u001b[0m \u001b[0mdata_start\u001b[0m \u001b[1;32min\u001b[0m \u001b[0mrange\u001b[0m\u001b[1;33m(\u001b[0m\u001b[0mlen\u001b[0m\u001b[1;33m(\u001b[0m\u001b[0mlines\u001b[0m\u001b[1;33m)\u001b[0m\u001b[1;33m)\u001b[0m\u001b[1;33m:\u001b[0m\u001b[1;33m\u001b[0m\u001b[1;33m\u001b[0m\u001b[0m\n\u001b[0;32m    322\u001b[0m                 \u001b[0mself\u001b[0m\u001b[1;33m.\u001b[0m\u001b[0mdata\u001b[0m\u001b[1;33m.\u001b[0m\u001b[0mstart_line\u001b[0m \u001b[1;33m=\u001b[0m \u001b[0mdata_start\u001b[0m\u001b[1;33m\u001b[0m\u001b[1;33m\u001b[0m\u001b[0m\n\u001b[1;32m--> 323\u001b[1;33m                 \u001b[1;32mwith\u001b[0m \u001b[0msuppress\u001b[0m\u001b[1;33m(\u001b[0m\u001b[0mException\u001b[0m\u001b[1;33m)\u001b[0m\u001b[1;33m:\u001b[0m\u001b[1;33m\u001b[0m\u001b[1;33m\u001b[0m\u001b[0m\n\u001b[0m\u001b[0;32m    324\u001b[0m                     \u001b[0mtable\u001b[0m \u001b[1;33m=\u001b[0m \u001b[0msuper\u001b[0m\u001b[1;33m(\u001b[0m\u001b[1;33m)\u001b[0m\u001b[1;33m.\u001b[0m\u001b[0mread\u001b[0m\u001b[1;33m(\u001b[0m\u001b[0mlines\u001b[0m\u001b[1;33m)\u001b[0m\u001b[1;33m\u001b[0m\u001b[1;33m\u001b[0m\u001b[0m\n\u001b[0;32m    325\u001b[0m                     \u001b[1;32mreturn\u001b[0m \u001b[0mtable\u001b[0m\u001b[1;33m\u001b[0m\u001b[1;33m\u001b[0m\u001b[0m\n",
      "\u001b[1;32mD:\\Programs\\Anaconda3\\lib\\site-packages\\astropy\\io\\ascii\\core.py\u001b[0m in \u001b[0;36mread\u001b[1;34m(self, table)\u001b[0m\n\u001b[0;32m   1195\u001b[0m     \u001b[0minclude_names\u001b[0m \u001b[1;33m=\u001b[0m \u001b[1;32mNone\u001b[0m\u001b[1;33m\u001b[0m\u001b[1;33m\u001b[0m\u001b[0m\n\u001b[0;32m   1196\u001b[0m     \u001b[0mexclude_names\u001b[0m \u001b[1;33m=\u001b[0m \u001b[1;32mNone\u001b[0m\u001b[1;33m\u001b[0m\u001b[1;33m\u001b[0m\u001b[0m\n\u001b[1;32m-> 1197\u001b[1;33m     \u001b[0mstrict_names\u001b[0m \u001b[1;33m=\u001b[0m \u001b[1;32mFalse\u001b[0m\u001b[1;33m\u001b[0m\u001b[1;33m\u001b[0m\u001b[0m\n\u001b[0m\u001b[0;32m   1198\u001b[0m     \u001b[0mguessing\u001b[0m \u001b[1;33m=\u001b[0m \u001b[1;32mFalse\u001b[0m\u001b[1;33m\u001b[0m\u001b[1;33m\u001b[0m\u001b[0m\n\u001b[0;32m   1199\u001b[0m     \u001b[0mencoding\u001b[0m \u001b[1;33m=\u001b[0m \u001b[1;32mNone\u001b[0m\u001b[1;33m\u001b[0m\u001b[1;33m\u001b[0m\u001b[0m\n",
      "\u001b[1;32mD:\\Programs\\Anaconda3\\lib\\site-packages\\astropy\\io\\ascii\\core.py\u001b[0m in \u001b[0;36m__call__\u001b[1;34m(self, cols, meta)\u001b[0m\n\u001b[0;32m    982\u001b[0m         \u001b[0mconverters_out\u001b[0m \u001b[1;33m=\u001b[0m \u001b[1;33m[\u001b[0m\u001b[1;33m]\u001b[0m\u001b[1;33m\u001b[0m\u001b[1;33m\u001b[0m\u001b[0m\n\u001b[0;32m    983\u001b[0m         \u001b[1;32mtry\u001b[0m\u001b[1;33m:\u001b[0m\u001b[1;33m\u001b[0m\u001b[1;33m\u001b[0m\u001b[0m\n\u001b[1;32m--> 984\u001b[1;33m             \u001b[1;32mfor\u001b[0m \u001b[0mconverter\u001b[0m \u001b[1;32min\u001b[0m \u001b[0mconverters\u001b[0m\u001b[1;33m:\u001b[0m\u001b[1;33m\u001b[0m\u001b[1;33m\u001b[0m\u001b[0m\n\u001b[0m\u001b[0;32m    985\u001b[0m                 \u001b[0mconverter_func\u001b[0m\u001b[1;33m,\u001b[0m \u001b[0mconverter_type\u001b[0m \u001b[1;33m=\u001b[0m \u001b[0mconverter\u001b[0m\u001b[1;33m\u001b[0m\u001b[1;33m\u001b[0m\u001b[0m\n\u001b[0;32m    986\u001b[0m                 \u001b[1;32mif\u001b[0m \u001b[1;32mnot\u001b[0m \u001b[0missubclass\u001b[0m\u001b[1;33m(\u001b[0m\u001b[0mconverter_type\u001b[0m\u001b[1;33m,\u001b[0m \u001b[0mNoType\u001b[0m\u001b[1;33m)\u001b[0m\u001b[1;33m:\u001b[0m\u001b[1;33m\u001b[0m\u001b[1;33m\u001b[0m\u001b[0m\n",
      "\u001b[1;32mD:\\Programs\\Anaconda3\\lib\\site-packages\\astropy\\io\\ascii\\core.py\u001b[0m in \u001b[0;36m_convert_vals\u001b[1;34m(self, cols)\u001b[0m\n\u001b[0;32m    967\u001b[0m     \u001b[1;32mreturn\u001b[0m \u001b[0mconverter\u001b[0m\u001b[1;33m,\u001b[0m \u001b[0mconverter_type\u001b[0m\u001b[1;33m\u001b[0m\u001b[1;33m\u001b[0m\u001b[0m\n\u001b[0;32m    968\u001b[0m \u001b[1;33m\u001b[0m\u001b[0m\n\u001b[1;32m--> 969\u001b[1;33m \u001b[1;33m\u001b[0m\u001b[0m\n\u001b[0m\u001b[0;32m    970\u001b[0m \u001b[1;32mclass\u001b[0m \u001b[0mBaseOutputter\u001b[0m\u001b[1;33m:\u001b[0m\u001b[1;33m\u001b[0m\u001b[1;33m\u001b[0m\u001b[0m\n\u001b[0;32m    971\u001b[0m     \"\"\"Output table as a dict of column objects keyed on column name.  The\n",
      "\u001b[1;31mValueError\u001b[0m: Column year failed to convert: invalid literal for int() with base 10: '<!'"
     ]
    }
   ],
   "source": [
    "\\\n",
    ">>> t = Time(\"2014-09-22 23:22\")\n",
    ">>> loc = EarthLocation.of_site('greenwich') \n",
    ">>> with solar_system_ephemeris.set('builtin'):\n",
    "...     jup = get_body('jupiter', t, loc) "
   ]
  },
  {
   "cell_type": "code",
   "execution_count": 199,
   "metadata": {},
   "outputs": [
    {
     "name": "stdout",
     "output_type": "stream",
     "text": [
      "(<CartesianRepresentation (x, y, z) in km\n",
      "    [(-649856.1740107 , -400034.68942696, -152138.1357687 ),\n",
      "     (-649052.11993613, -400674.43919103, -152426.37284748),\n",
      "     (-648247.09261236, -401312.71625437, -152714.00141202),\n",
      "     (-647441.1003382 , -401949.52044615, -153001.02145459),\n",
      "     (-646634.15086782, -402584.85153357, -153287.4329884 ),\n",
      "     (-645826.25148931, -403218.70916457, -153573.23600846),\n",
      "     (-645017.40910417, -403851.09282937, -153858.43046225),\n",
      "     (-644207.63030375, -404482.00183792, -154143.01622923),\n",
      "     (-643396.92144028, -405111.43531029, -154426.99310785),\n",
      "     (-642585.28869083, -405739.3921773 , -154710.36080869),\n",
      "     (-641772.73811364, -406365.87118867, -154993.11895252),\n",
      "     (-640959.27569655, -406990.8709266 , -155275.26707202),\n",
      "     (-640144.90739796, -407614.38982301, -155556.80461621),\n",
      "     (-639329.63918082, -408236.42617896, -155837.73095682),\n",
      "     (-638513.47704031, -408856.97818527, -156118.04539601),\n",
      "     (-637696.42702594, -409476.0439435 , -156397.74717473),\n",
      "     (-636878.49525879, -410093.62148655, -156676.83548154),\n",
      "     (-636059.6879445 , -410709.70879866, -156955.30946148),\n",
      "     (-635240.0113828 , -411324.30383458, -157233.16822485),\n",
      "     (-634419.47197388, -411937.40453744, -157510.41085568),\n",
      "     (-633598.07622232, -412549.00885556, -157787.03641988),\n",
      "     (-632775.83073881, -413159.11475801, -158063.04397293),\n",
      "     (-631952.74224013, -413767.72024895, -158338.43256713),\n",
      "     (-631128.81754768, -414374.82338075, -158613.20125837),\n",
      "     (-630304.0635847 , -414980.42226605, -158887.34911244),\n",
      "     (-629478.48737257, -415584.51508865, -159160.87521083),\n",
      "     (-628652.09602616, -416187.10011344, -159433.77865618),\n",
      "     (-627824.89674856, -416788.17569537, -159706.05857715),\n",
      "     (-626996.89682517, -417387.74028747, -159977.71413302),\n",
      "     (-626168.1036173 , -417985.79244805, -160248.74451784),\n",
      "     (-625338.52455533, -418582.33084716, -160519.14896413),\n",
      "     (-624508.16713152, -419177.3542722 , -160788.92674641),\n",
      "     (-623677.03889253, -419770.86163285, -161058.07718418),\n",
      "     (-622845.1474316 , -420362.85196539, -161326.59964473),\n",
      "     (-622012.50038052, -420953.32443624, -161594.49354553),\n",
      "     (-621179.10540136, -421542.27834493, -161861.7583564 ),\n",
      "     (-620344.970178  , -422129.71312646, -162128.3936013 ),\n",
      "     (-619510.10240747, -422715.62835296, -162394.39885982),\n",
      "     (-618674.50979104, -423300.02373475, -162659.77376843),\n",
      "     (-617838.20002525, -423882.89912084, -162924.51802136),\n",
      "     (-617001.18079268, -424464.25449861, -163188.63137114),\n",
      "     (-616163.45975264, -425044.08999296, -163452.11362886),\n",
      "     (-615325.04453164, -425622.40586468, -163714.96466403),\n",
      "     (-614485.94271385, -426199.20250801, -163977.18440406),\n",
      "     (-613646.16183137, -426774.48044747, -164238.77283334),\n",
      "     (-612805.7093545 , -427348.24033377, -164499.72999187),\n",
      "     (-611964.59268198, -427920.48293879, -164760.05597338),\n",
      "     (-611122.81913124, -428491.2091495 , -165019.75092295),\n",
      "     (-610280.3959288 , -429060.41996076, -165278.81503396),\n",
      "     (-609437.33020088, -429628.11646698, -165537.24854445),\n",
      "     (-608593.62896429, -430194.29985228, -165795.05173269),\n",
      "     (-607749.29911789, -430758.97137935, -166052.224912  ),\n",
      "     (-606904.34743473, -431322.13237661, -166308.76842454),\n",
      "     (-606058.78055508, -431883.78422374, -166564.68263427),\n",
      "     (-605212.60498081, -432443.92833529, -166819.96791863),\n",
      "     (-604365.82707142, -433002.56614243, -167074.6246592 ),\n",
      "     (-603518.45304217, -433559.69907264, -167328.65323089),\n",
      "     (-602670.48896501, -434115.32852731, -167582.05398993),\n",
      "     (-601821.94077293, -434669.4558574 , -167834.82726031),\n",
      "     (-600972.81426847, -435222.08233723, -168086.97331888),\n",
      "     (-600123.11513757, -435773.20913661, -168338.49237906),\n",
      "     (-599272.84896963, -436322.83729204, -168589.3845733 ),\n",
      "     (-598422.02128497, -436870.96767748, -168839.64993462),\n",
      "     (-597570.637571  , -437417.60097597, -169089.28837777),\n",
      "     (-596718.70332816, -437962.73765359, -169338.29968046),\n",
      "     (-595866.22412701, -438506.37793738, -169586.68346569),\n",
      "     (-595013.20567647, -439048.52180059, -169834.43918678),\n",
      "     (-594159.65390372, -439589.16895757, -170081.56611634),\n",
      "     (-593305.5750458 , -440128.31887149, -170328.06334085),\n",
      "     (-592450.97574929, -440665.97078012, -170573.92976406),\n",
      "     (-591595.86317557, -441202.12374246, -170819.16412097),\n",
      "     (-590740.24510636, -441736.77670943, -171063.76500455),\n",
      "     (-589884.13004215, -442269.92862133, -171307.73090755),\n",
      "     (-589027.52728411, -442801.57853241, -171551.06028056),\n",
      "     (-588170.44698937, -443331.72576028, -171793.75160603),\n",
      "     (-587312.90018968, -443860.37005412, -172035.80348625),\n",
      "     (-586454.89876459, -444387.51177295, -172277.2147415 ),\n",
      "     (-585596.45536334, -444913.15206176, -172517.98451235),\n",
      "     (-584737.5832736 , -445437.29301195, -172758.11235934),\n",
      "     (-583878.2962415 , -445959.93779149, -172997.59835148),\n",
      "     (-583018.60825479, -446481.09073174, -173236.44313568),\n",
      "     (-582158.53330252, -447000.75736431, -173474.64798179),\n",
      "     (-581298.08512879, -447518.94440312, -173712.21479933),\n",
      "     (-580437.27700034, -448035.65967511, -173949.1461251 ),\n",
      "     (-579576.12150267, -448550.91200811, -174185.44508516),\n",
      "     (-578714.63037566, -449064.71108596, -174421.11533512),\n",
      "     (-577852.81439578, -449577.06728497, -174656.16098561),\n",
      "     (-576990.68330563, -450087.9915049 , -174890.58651984),\n",
      "     (-576128.24578714, -450597.49500523, -175124.39670951),\n",
      "     (-575265.5094719 , -451105.58925515, -175357.596534  ),\n",
      "     (-574402.48098073, -451612.28580271, -175590.19110682),\n",
      "     (-573539.16598396, -452117.59616615, -175822.18561174),\n",
      "     (-572675.56927475, -452621.53174776, -176053.58524951),\n",
      "     (-571811.6948486 , -453124.10376887, -176284.39519524),\n",
      "     (-570947.54598379, -453625.32322329, -176514.62056556),\n",
      "     (-570083.12531907, -454125.20084648, -176744.26639441),\n",
      "     (-569218.43492629, -454623.74709837, -176973.33761669),\n",
      "     (-568353.47637598, -455120.97215572, -177201.83905776),\n",
      "     (-567488.25079549, -455616.88591192, -177429.77542765),\n",
      "     (-566622.75891979, -456111.49798263, -177657.1513192 )]>, <CartesianRepresentation (x, y, z) in km / d\n",
      "    [(803.56453243, -640.48605784, -288.54131835),\n",
      "     (804.5421312 , -639.01344035, -287.93282692),\n",
      "     (805.51113388, -637.54065873, -287.32430152),\n",
      "     (806.47212286, -636.06768655, -286.71578627),\n",
      "     (807.42560402, -634.59442982, -286.10728081),\n",
      "     (808.37200349, -633.12074716, -285.49875071),\n",
      "     (809.31166889, -631.64646717, -284.89013681),\n",
      "     (810.24487378, -630.17140284, -284.28136348),\n",
      "     (811.17182406, -628.69536315, -283.67234536),\n",
      "     (812.09266541, -627.21816185, -283.0629929 ),\n",
      "     (813.00749115, -625.73962389, -282.45321662),\n",
      "     (813.91635   , -624.25958989, -281.84293026),\n",
      "     (814.81925329, -622.77791902, -281.23205309),\n",
      "     (815.71618164, -621.2944906 , -280.62051151),\n",
      "     (816.6070909 , -619.80920488, -280.00824003),\n",
      "     (817.49191736, -618.32198301, -279.39518185),\n",
      "     (818.37058232, -616.83276642, -278.78128896),\n",
      "     (819.2429959 , -615.34151625, -278.16652232),\n",
      "     (820.10906036, -613.84821211, -277.55085145),\n",
      "     (820.96867289, -612.35285101, -276.93425423),\n",
      "     (821.82172793, -610.85544612, -276.31671646),\n",
      "     (822.6681191 , -609.35602555, -275.69823141),\n",
      "     (823.50774081, -607.85463115, -275.07879937),\n",
      "     (824.34048966, -606.35131734, -274.45842715),\n",
      "     (825.1662655 , -604.84615002, -273.83712764),\n",
      "     (825.98497238, -603.33920548, -273.21491934),\n",
      "     (826.79651934, -601.83056944, -272.59182589),\n",
      "     (827.60082103, -600.32033612, -271.9678757 ),\n",
      "     (828.39779826, -598.80860734, -271.3431015 ),\n",
      "     (829.18737849, -597.29549173, -270.71754   ),\n",
      "     (829.96949616, -595.78110397, -270.09123147),\n",
      "     (830.74409309, -594.26556398, -269.46421947),\n",
      "     (831.51111876, -592.74899632, -268.83655043),\n",
      "     (832.27053055, -591.23152946, -268.20827339),\n",
      "     (833.02229402, -589.71329514, -267.57943968),\n",
      "     (833.76638307, -588.19442775, -266.95010256),\n",
      "     (834.50278022, -586.67506368, -266.320317  ),\n",
      "     (835.23147673, -585.15534072, -265.6901393 ),\n",
      "     (835.95247281, -583.63539741, -265.05962682),\n",
      "     (836.66577778, -582.11537239, -264.42883766),\n",
      "     (837.37141024, -580.59540372, -263.79783029),\n",
      "     (838.0693982 , -579.07562822, -263.16666328),\n",
      "     (838.75977922, -577.55618071, -262.53539485),\n",
      "     (839.44260047, -576.03719318, -261.90408251),\n",
      "     (840.1179189 , -574.51879402, -261.27278263),\n",
      "     (840.78580118, -573.00110708, -260.64154998),\n",
      "     (841.44632376, -571.48425066, -260.01043717),\n",
      "     (842.09957278, -569.96833646, -259.37949415),\n",
      "     (842.74564389, -568.4534684 , -258.74876751),\n",
      "     (843.384642  , -566.93974134, -258.11829983),\n",
      "     (844.0166809 , -565.42723969, -257.48812888),\n",
      "     (844.6418826 , -563.91603587, -256.85828678),\n",
      "     (845.26037659, -562.40618866, -256.22879901),\n",
      "     (845.87229868, -560.89774145, -255.59968341),\n",
      "     (846.47778959, -559.39072032, -254.970949  ),\n",
      "     (847.07699303, -557.88513206, -254.34259473),\n",
      "     (847.67005326, -556.38096213, -253.71460816),\n",
      "     (848.25711207, -554.87817261, -253.08696407),\n",
      "     (848.83830496, -553.37670024, -252.45962302),\n",
      "     (849.41375637, -551.87645468, -251.83252991),\n",
      "     (849.98357405, -550.37731715, -251.20561275),\n",
      "     (850.54784213, -548.87913968, -250.57878146),\n",
      "     (851.10661315, -547.38174532, -249.95192723),\n",
      "     (851.65989876, -545.88492955, -249.32492225),\n",
      "     (852.20765946, -544.38846368, -248.69762051),\n",
      "     (852.74979251, -542.89209944, -248.06985899),\n",
      "     (853.28612203, -541.39557912, -247.441462  ),\n",
      "     (853.81638543, -539.89864482, -246.81224476),\n",
      "     (854.34022423, -538.40105509, -246.18202127),\n",
      "     (854.85717683, -536.90260407, -245.55061384),\n",
      "     (855.36667517, -535.40314405, -244.91786474),\n",
      "     (855.86804775, -533.9026111 , -244.2836502 ),\n",
      "     (856.36053128, -532.40105248, -243.64789629),\n",
      "     (856.84329215, -530.89865306, -243.01059529),\n",
      "     (857.31545815, -529.3957578 , -242.37182101),\n",
      "     (857.7761599 , -527.89288668, -241.73174107),\n",
      "     (858.22457977, -526.39073903, -241.09062447),\n",
      "     (858.66000499, -524.8901849 , -240.44884247),\n",
      "     (859.08187972, -523.39224196, -239.80686181),\n",
      "     (859.48984912, -521.89803837, -239.16522954),\n",
      "     (859.88378866, -520.40876433, -238.52455021),\n",
      "     (860.26382123, -518.92562088, -237.88546045),\n",
      "     (860.63031163, -517.4497631 , -237.24859806),\n",
      "     (860.98384488, -515.9822546 , -236.61457548),\n",
      "     (861.32519181, -514.52402811, -235.98395516),\n",
      "     (861.65526494, -513.0758598 , -235.35723125),\n",
      "     (861.97507061, -511.63835758, -234.73481834),\n",
      "     (862.28566289, -510.21196137, -234.11704677),\n",
      "     (862.58810285, -508.79695303, -233.5041637 ),\n",
      "     (862.8834252 , -507.39347331, -232.89633859),\n",
      "     (863.17261336, -506.00154296, -232.2936719 ),\n",
      "     (863.4565827 , -504.62108539, -231.69620544),\n",
      "     (863.73617119, -503.25194884, -231.10393317),\n",
      "     (864.01213608, -501.89392622, -230.51681148),\n",
      "     (864.28515503, -500.54677219, -229.93476844),\n",
      "     (864.55583028, -499.21021764, -229.35771191),\n",
      "     (864.82469459, -497.88398227, -228.78553697),\n",
      "     (865.09221908, -496.5677813 , -228.21813024),\n",
      "     (865.35882023, -495.26133361, -227.65537503),\n",
      "     (865.62486759, -493.96436553, -227.09715413)]>)\n"
     ]
    },
    {
     "name": "stderr",
     "output_type": "stream",
     "text": [
      "WARNING: ErfaWarning: ERFA function \"utctai\" yielded 100 of \"dubious year (Note 3)\" [astropy._erfa.core]\n",
      "WARNING: ErfaWarning: ERFA function \"taiutc\" yielded 100 of \"dubious year (Note 4)\" [astropy._erfa.core]\n"
     ]
    }
   ],
   "source": [
    "from astropy.coordinates import solar_system_ephemeris, EarthLocation\n",
    "from astropy.coordinates import get_body_barycentric_posvel, get_body, get_moon\n",
    "\n",
    "base = 2287185\n",
    "\n",
    "t = Time([i+base for i in range(100)], format = 'jd')\n",
    "\n",
    "with solar_system_ephemeris.set('jpl'):\n",
    "    mars = get_body_barycentric_posvel('sun', t)\n",
    "\n",
    "print(mars)"
   ]
  },
  {
   "cell_type": "code",
   "execution_count": 200,
   "metadata": {},
   "outputs": [
    {
     "data": {
      "text/plain": [
       "<CartesianRepresentation (x, y, z) in km\n",
       "    [( 3.49245965e-10, -4.65661287e-10,  0.00000000e+00),\n",
       "     (-3.49245965e-10,  5.82076609e-10,  0.00000000e+00),\n",
       "     ( 2.32830644e-10, -3.49245965e-10,  0.00000000e+00),\n",
       "     ( 0.00000000e+00,  1.74622983e-10,  0.00000000e+00),\n",
       "     (-2.32830644e-10,  5.23868948e-10,  2.91038305e-11),\n",
       "     (-3.49245965e-10,  4.65661287e-10,  0.00000000e+00),\n",
       "     ( 2.32830644e-10, -4.65661287e-10, -2.91038305e-11),\n",
       "     (-4.65661287e-10,  5.23868948e-10,  0.00000000e+00),\n",
       "     ( 1.16415322e-10, -1.16415322e-10,  0.00000000e+00),\n",
       "     (-1.16415322e-10,  5.82076609e-11,  0.00000000e+00),\n",
       "     ( 2.32830644e-10, -2.91038305e-10,  0.00000000e+00),\n",
       "     (-4.65661287e-10,  5.82076609e-10, -2.91038305e-11),\n",
       "     (-3.49245965e-10,  5.82076609e-10,  0.00000000e+00),\n",
       "     (-1.16415322e-10,  0.00000000e+00,  0.00000000e+00),\n",
       "     ( 1.16415322e-10, -1.16415322e-10,  2.91038305e-11),\n",
       "     ( 1.16415322e-10,  0.00000000e+00,  0.00000000e+00),\n",
       "     (-1.16415322e-10,  1.16415322e-10,  0.00000000e+00),\n",
       "     (-4.65661287e-10,  6.40284270e-10, -2.91038305e-11),\n",
       "     (-2.32830644e-10,  4.07453626e-10,  0.00000000e+00),\n",
       "     (-3.49245965e-10,  3.49245965e-10,  0.00000000e+00),\n",
       "     (-2.32830644e-10,  2.32830644e-10,  0.00000000e+00),\n",
       "     ( 1.16415322e-10,  5.82076609e-11, -2.91038305e-11),\n",
       "     (-3.49245965e-10,  2.91038305e-10,  0.00000000e+00),\n",
       "     (-4.65661287e-10,  5.23868948e-10, -2.91038305e-11),\n",
       "     ( 0.00000000e+00,  1.16415322e-10,  0.00000000e+00),\n",
       "     (-4.65661287e-10,  7.56699592e-10,  2.91038305e-11),\n",
       "     ( 0.00000000e+00,  0.00000000e+00,  0.00000000e+00),\n",
       "     (-3.49245965e-10,  4.65661287e-10,  2.91038305e-11),\n",
       "     (-3.49245965e-10,  5.23868948e-10,  0.00000000e+00),\n",
       "     ( 2.32830644e-10, -3.49245965e-10,  0.00000000e+00),\n",
       "     (-4.65661287e-10,  5.82076609e-10,  0.00000000e+00),\n",
       "     (-1.16415322e-10,  2.91038305e-10,  0.00000000e+00),\n",
       "     (-5.82076609e-10,  8.14907253e-10,  0.00000000e+00),\n",
       "     (-5.82076609e-10,  6.98491931e-10,  0.00000000e+00),\n",
       "     ( 2.32830644e-10, -2.32830644e-10,  0.00000000e+00),\n",
       "     (-1.16415322e-10,  0.00000000e+00,  2.91038305e-11),\n",
       "     (-2.32830644e-10,  2.32830644e-10,  2.91038305e-11),\n",
       "     (-2.32830644e-10,  2.91038305e-10, -2.91038305e-11),\n",
       "     (-3.49245965e-10,  5.23868948e-10,  0.00000000e+00),\n",
       "     ( 1.16415322e-10, -2.32830644e-10,  0.00000000e+00),\n",
       "     ( 0.00000000e+00,  1.16415322e-10, -2.91038305e-11),\n",
       "     ( 0.00000000e+00, -2.32830644e-10,  0.00000000e+00),\n",
       "     ( 1.16415322e-10,  0.00000000e+00,  0.00000000e+00),\n",
       "     ( 0.00000000e+00,  1.16415322e-10,  0.00000000e+00),\n",
       "     (-4.65661287e-10,  6.40284270e-10,  0.00000000e+00),\n",
       "     (-1.16415322e-10,  1.74622983e-10,  0.00000000e+00),\n",
       "     (-1.16415322e-10,  2.32830644e-10,  2.91038305e-11),\n",
       "     (-4.65661287e-10,  5.23868948e-10,  0.00000000e+00),\n",
       "     (-3.49245965e-10,  3.49245965e-10,  0.00000000e+00),\n",
       "     (-2.32830644e-10,  4.65661287e-10,  0.00000000e+00),\n",
       "     (-2.32830644e-10,  4.07453626e-10,  0.00000000e+00),\n",
       "     (-5.82076609e-10,  8.14907253e-10,  0.00000000e+00),\n",
       "     ( 0.00000000e+00,  1.74622983e-10,  0.00000000e+00),\n",
       "     ( 1.16415322e-10, -1.74622983e-10,  0.00000000e+00),\n",
       "     (-3.49245965e-10,  5.23868948e-10,  2.91038305e-11),\n",
       "     (-3.49245965e-10,  5.82076609e-10,  2.91038305e-11),\n",
       "     (-1.16415322e-10,  5.82076609e-11,  0.00000000e+00),\n",
       "     (-4.65661287e-10,  5.23868948e-10,  0.00000000e+00),\n",
       "     ( 1.16415322e-10,  0.00000000e+00,  0.00000000e+00),\n",
       "     (-4.65661287e-10,  6.40284270e-10,  0.00000000e+00),\n",
       "     (-1.16415322e-10,  2.32830644e-10,  0.00000000e+00),\n",
       "     (-2.32830644e-10,  1.74622983e-10,  0.00000000e+00),\n",
       "     ( 1.16415322e-10, -2.91038305e-10,  0.00000000e+00),\n",
       "     (-4.65661287e-10,  4.65661287e-10,  0.00000000e+00),\n",
       "     (-1.16415322e-10,  2.32830644e-10,  2.91038305e-11),\n",
       "     ( 3.49245965e-10, -2.91038305e-10,  2.91038305e-11),\n",
       "     ( 1.16415322e-10, -1.74622983e-10,  0.00000000e+00),\n",
       "     (-4.65661287e-10,  7.56699592e-10,  0.00000000e+00),\n",
       "     (-2.32830644e-10,  3.49245965e-10,  0.00000000e+00),\n",
       "     ( 1.16415322e-10, -2.91038305e-10,  0.00000000e+00),\n",
       "     (-3.49245965e-10,  3.49245965e-10,  0.00000000e+00),\n",
       "     (-1.16415322e-10,  0.00000000e+00,  0.00000000e+00),\n",
       "     (-4.65661287e-10,  5.23868948e-10,  2.91038305e-11),\n",
       "     (-2.32830644e-10,  4.65661287e-10,  0.00000000e+00),\n",
       "     (-3.49245965e-10,  5.82076609e-10,  0.00000000e+00),\n",
       "     ( 1.16415322e-10, -5.82076609e-11,  0.00000000e+00),\n",
       "     ( 3.49245965e-10, -4.65661287e-10,  2.91038305e-11),\n",
       "     ( 3.49245965e-10, -2.91038305e-10,  0.00000000e+00),\n",
       "     ( 0.00000000e+00,  0.00000000e+00,  0.00000000e+00),\n",
       "     (-2.32830644e-10,  4.65661287e-10,  0.00000000e+00),\n",
       "     ( 1.16415322e-10,  5.82076609e-11,  0.00000000e+00),\n",
       "     (-2.32830644e-10,  3.49245965e-10,  0.00000000e+00),\n",
       "     ( 0.00000000e+00,  0.00000000e+00,  0.00000000e+00),\n",
       "     ( 1.16415322e-10, -1.16415322e-10,  0.00000000e+00),\n",
       "     (-2.32830644e-10,  2.32830644e-10,  0.00000000e+00),\n",
       "     (-1.16415322e-10,  1.74622983e-10, -2.91038305e-11),\n",
       "     (-4.65661287e-10,  4.65661287e-10,  0.00000000e+00),\n",
       "     ( 0.00000000e+00,  1.16415322e-10,  0.00000000e+00),\n",
       "     ( 1.16415322e-10, -1.16415322e-10,  0.00000000e+00),\n",
       "     (-2.32830644e-10,  3.49245965e-10,  0.00000000e+00),\n",
       "     (-2.32830644e-10,  1.74622983e-10,  0.00000000e+00),\n",
       "     (-2.32830644e-10,  3.49245965e-10,  0.00000000e+00),\n",
       "     (-1.16415322e-10,  1.16415322e-10, -2.91038305e-11),\n",
       "     (-2.32830644e-10,  2.32830644e-10, -2.91038305e-11),\n",
       "     (-1.16415322e-10,  3.49245965e-10,  0.00000000e+00),\n",
       "     ( 1.16415322e-10, -1.74622983e-10,  0.00000000e+00),\n",
       "     ( 0.00000000e+00, -1.74622983e-10, -5.82076609e-11),\n",
       "     ( 0.00000000e+00, -5.82076609e-11, -2.91038305e-11),\n",
       "     (-1.16415322e-10,  5.82076609e-11,  0.00000000e+00),\n",
       "     (-2.32830644e-10,  1.16415322e-10,  0.00000000e+00)]>"
      ]
     },
     "execution_count": 200,
     "metadata": {},
     "output_type": "execute_result"
    }
   ],
   "source": [
    "SkyCoord(mars[0]).cartesian - mars[0]"
   ]
  },
  {
   "cell_type": "markdown",
   "metadata": {},
   "source": [
    "mars[0]"
   ]
  },
  {
   "cell_type": "code",
   "execution_count": 197,
   "metadata": {},
   "outputs": [
    {
     "data": {
      "text/plain": [
       "<CartesianRepresentation (x, y, z) in km\n",
       "    [(-649856.1740107 , -400034.68942696, -152138.1357687 ),\n",
       "     (-649052.11993613, -400674.43919103, -152426.37284748),\n",
       "     (-648247.09261236, -401312.71625437, -152714.00141202),\n",
       "     (-647441.1003382 , -401949.52044615, -153001.02145459),\n",
       "     (-646634.15086782, -402584.85153357, -153287.4329884 ),\n",
       "     (-645826.25148931, -403218.70916457, -153573.23600846),\n",
       "     (-645017.40910417, -403851.09282937, -153858.43046225),\n",
       "     (-644207.63030375, -404482.00183792, -154143.01622923),\n",
       "     (-643396.92144028, -405111.43531029, -154426.99310785),\n",
       "     (-642585.28869083, -405739.3921773 , -154710.36080869),\n",
       "     (-641772.73811364, -406365.87118867, -154993.11895252),\n",
       "     (-640959.27569655, -406990.8709266 , -155275.26707202),\n",
       "     (-640144.90739796, -407614.38982301, -155556.80461621),\n",
       "     (-639329.63918082, -408236.42617896, -155837.73095682),\n",
       "     (-638513.47704031, -408856.97818527, -156118.04539601),\n",
       "     (-637696.42702594, -409476.0439435 , -156397.74717473),\n",
       "     (-636878.49525879, -410093.62148655, -156676.83548154),\n",
       "     (-636059.6879445 , -410709.70879866, -156955.30946148),\n",
       "     (-635240.0113828 , -411324.30383458, -157233.16822485),\n",
       "     (-634419.47197388, -411937.40453744, -157510.41085568),\n",
       "     (-633598.07622232, -412549.00885556, -157787.03641988),\n",
       "     (-632775.83073881, -413159.11475801, -158063.04397293),\n",
       "     (-631952.74224013, -413767.72024895, -158338.43256713),\n",
       "     (-631128.81754768, -414374.82338075, -158613.20125837),\n",
       "     (-630304.0635847 , -414980.42226605, -158887.34911244),\n",
       "     (-629478.48737257, -415584.51508865, -159160.87521083),\n",
       "     (-628652.09602616, -416187.10011344, -159433.77865618),\n",
       "     (-627824.89674856, -416788.17569537, -159706.05857715),\n",
       "     (-626996.89682517, -417387.74028747, -159977.71413302),\n",
       "     (-626168.1036173 , -417985.79244805, -160248.74451784),\n",
       "     (-625338.52455533, -418582.33084716, -160519.14896413),\n",
       "     (-624508.16713152, -419177.3542722 , -160788.92674641),\n",
       "     (-623677.03889253, -419770.86163285, -161058.07718418),\n",
       "     (-622845.1474316 , -420362.85196539, -161326.59964473),\n",
       "     (-622012.50038052, -420953.32443624, -161594.49354553),\n",
       "     (-621179.10540136, -421542.27834493, -161861.7583564 ),\n",
       "     (-620344.970178  , -422129.71312646, -162128.3936013 ),\n",
       "     (-619510.10240747, -422715.62835296, -162394.39885982),\n",
       "     (-618674.50979104, -423300.02373475, -162659.77376843),\n",
       "     (-617838.20002525, -423882.89912084, -162924.51802136),\n",
       "     (-617001.18079268, -424464.25449861, -163188.63137114),\n",
       "     (-616163.45975264, -425044.08999296, -163452.11362886),\n",
       "     (-615325.04453164, -425622.40586468, -163714.96466403),\n",
       "     (-614485.94271385, -426199.20250801, -163977.18440406),\n",
       "     (-613646.16183137, -426774.48044747, -164238.77283334),\n",
       "     (-612805.7093545 , -427348.24033377, -164499.72999187),\n",
       "     (-611964.59268198, -427920.48293879, -164760.05597338),\n",
       "     (-611122.81913124, -428491.2091495 , -165019.75092295),\n",
       "     (-610280.3959288 , -429060.41996076, -165278.81503396),\n",
       "     (-609437.33020088, -429628.11646698, -165537.24854445),\n",
       "     (-608593.62896429, -430194.29985228, -165795.05173269),\n",
       "     (-607749.29911789, -430758.97137935, -166052.224912  ),\n",
       "     (-606904.34743473, -431322.13237661, -166308.76842454),\n",
       "     (-606058.78055508, -431883.78422374, -166564.68263427),\n",
       "     (-605212.60498081, -432443.92833529, -166819.96791863),\n",
       "     (-604365.82707142, -433002.56614243, -167074.6246592 ),\n",
       "     (-603518.45304217, -433559.69907264, -167328.65323089),\n",
       "     (-602670.48896501, -434115.32852731, -167582.05398993),\n",
       "     (-601821.94077293, -434669.4558574 , -167834.82726031),\n",
       "     (-600972.81426847, -435222.08233723, -168086.97331888),\n",
       "     (-600123.11513757, -435773.20913661, -168338.49237906),\n",
       "     (-599272.84896963, -436322.83729204, -168589.3845733 ),\n",
       "     (-598422.02128497, -436870.96767748, -168839.64993462),\n",
       "     (-597570.637571  , -437417.60097597, -169089.28837777),\n",
       "     (-596718.70332816, -437962.73765359, -169338.29968046),\n",
       "     (-595866.22412701, -438506.37793738, -169586.68346569),\n",
       "     (-595013.20567647, -439048.52180059, -169834.43918678),\n",
       "     (-594159.65390372, -439589.16895757, -170081.56611634),\n",
       "     (-593305.5750458 , -440128.31887149, -170328.06334085),\n",
       "     (-592450.97574929, -440665.97078012, -170573.92976406),\n",
       "     (-591595.86317557, -441202.12374246, -170819.16412097),\n",
       "     (-590740.24510636, -441736.77670943, -171063.76500455),\n",
       "     (-589884.13004215, -442269.92862133, -171307.73090755),\n",
       "     (-589027.52728411, -442801.57853241, -171551.06028056),\n",
       "     (-588170.44698937, -443331.72576028, -171793.75160603),\n",
       "     (-587312.90018968, -443860.37005412, -172035.80348625),\n",
       "     (-586454.89876459, -444387.51177295, -172277.2147415 ),\n",
       "     (-585596.45536334, -444913.15206176, -172517.98451235),\n",
       "     (-584737.5832736 , -445437.29301195, -172758.11235934),\n",
       "     (-583878.2962415 , -445959.93779149, -172997.59835148),\n",
       "     (-583018.60825479, -446481.09073174, -173236.44313568),\n",
       "     (-582158.53330252, -447000.75736431, -173474.64798179),\n",
       "     (-581298.08512879, -447518.94440312, -173712.21479933),\n",
       "     (-580437.27700034, -448035.65967511, -173949.1461251 ),\n",
       "     (-579576.12150267, -448550.91200811, -174185.44508516),\n",
       "     (-578714.63037566, -449064.71108596, -174421.11533512),\n",
       "     (-577852.81439578, -449577.06728497, -174656.16098561),\n",
       "     (-576990.68330563, -450087.9915049 , -174890.58651984),\n",
       "     (-576128.24578714, -450597.49500523, -175124.39670951),\n",
       "     (-575265.5094719 , -451105.58925515, -175357.596534  ),\n",
       "     (-574402.48098073, -451612.28580271, -175590.19110682),\n",
       "     (-573539.16598396, -452117.59616615, -175822.18561174),\n",
       "     (-572675.56927475, -452621.53174776, -176053.58524951),\n",
       "     (-571811.6948486 , -453124.10376887, -176284.39519524),\n",
       "     (-570947.54598379, -453625.32322329, -176514.62056556),\n",
       "     (-570083.12531907, -454125.20084648, -176744.26639441),\n",
       "     (-569218.43492629, -454623.74709837, -176973.33761669),\n",
       "     (-568353.47637598, -455120.97215572, -177201.83905776),\n",
       "     (-567488.25079549, -455616.88591192, -177429.77542765),\n",
       "     (-566622.75891979, -456111.49798263, -177657.1513192 )]>"
      ]
     },
     "execution_count": 197,
     "metadata": {},
     "output_type": "execute_result"
    }
   ],
   "source": [
    "mars[0]"
   ]
  },
  {
   "cell_type": "code",
   "execution_count": 135,
   "metadata": {},
   "outputs": [
    {
     "data": {
      "text/plain": [
       "<CartesianRepresentation (x, y, z) in km\n",
       "    (-7.24293248e-13, -1.88515973e-13, 7.45058056e-09)>"
      ]
     },
     "execution_count": 135,
     "metadata": {},
     "output_type": "execute_result"
    }
   ],
   "source": [
    "mars.cartesian[0]"
   ]
  },
  {
   "cell_type": "code",
   "execution_count": 138,
   "metadata": {},
   "outputs": [
    {
     "ename": "TypeError",
     "evalue": "unsupported operand type(s) for -: 'SkyCoord' and 'SkyCoord'",
     "output_type": "error",
     "traceback": [
      "\u001b[1;31m---------------------------------------------------------------------------\u001b[0m",
      "\u001b[1;31mTypeError\u001b[0m                                 Traceback (most recent call last)",
      "\u001b[1;32m<ipython-input-138-a4139861bd29>\u001b[0m in \u001b[0;36m<module>\u001b[1;34m\u001b[0m\n\u001b[1;32m----> 1\u001b[1;33m \u001b[0mmars\u001b[0m \u001b[1;33m-\u001b[0m \u001b[0mmars\u001b[0m\u001b[1;33m\u001b[0m\u001b[1;33m\u001b[0m\u001b[0m\n\u001b[0m",
      "\u001b[1;31mTypeError\u001b[0m: unsupported operand type(s) for -: 'SkyCoord' and 'SkyCoord'"
     ]
    }
   ],
   "source": [
    "mars - mars"
   ]
  },
  {
   "cell_type": "code",
   "execution_count": 139,
   "metadata": {},
   "outputs": [
    {
     "data": {
      "text/plain": [
       "<CartesianRepresentation (x, y, z) in km\n",
       "    [(0., 0., 0.), (0., 0., 0.), (0., 0., 0.), (0., 0., 0.), (0., 0., 0.),\n",
       "     (0., 0., 0.), (0., 0., 0.), (0., 0., 0.), (0., 0., 0.), (0., 0., 0.),\n",
       "     (0., 0., 0.), (0., 0., 0.), (0., 0., 0.), (0., 0., 0.), (0., 0., 0.),\n",
       "     (0., 0., 0.), (0., 0., 0.), (0., 0., 0.), (0., 0., 0.), (0., 0., 0.),\n",
       "     (0., 0., 0.), (0., 0., 0.), (0., 0., 0.), (0., 0., 0.), (0., 0., 0.),\n",
       "     (0., 0., 0.), (0., 0., 0.), (0., 0., 0.), (0., 0., 0.), (0., 0., 0.),\n",
       "     (0., 0., 0.), (0., 0., 0.), (0., 0., 0.), (0., 0., 0.), (0., 0., 0.),\n",
       "     (0., 0., 0.), (0., 0., 0.), (0., 0., 0.), (0., 0., 0.), (0., 0., 0.),\n",
       "     (0., 0., 0.), (0., 0., 0.), (0., 0., 0.), (0., 0., 0.), (0., 0., 0.),\n",
       "     (0., 0., 0.), (0., 0., 0.), (0., 0., 0.), (0., 0., 0.), (0., 0., 0.),\n",
       "     (0., 0., 0.), (0., 0., 0.), (0., 0., 0.), (0., 0., 0.), (0., 0., 0.),\n",
       "     (0., 0., 0.), (0., 0., 0.), (0., 0., 0.), (0., 0., 0.), (0., 0., 0.),\n",
       "     (0., 0., 0.), (0., 0., 0.), (0., 0., 0.), (0., 0., 0.), (0., 0., 0.),\n",
       "     (0., 0., 0.), (0., 0., 0.), (0., 0., 0.), (0., 0., 0.), (0., 0., 0.),\n",
       "     (0., 0., 0.), (0., 0., 0.), (0., 0., 0.), (0., 0., 0.), (0., 0., 0.),\n",
       "     (0., 0., 0.), (0., 0., 0.), (0., 0., 0.), (0., 0., 0.), (0., 0., 0.),\n",
       "     (0., 0., 0.), (0., 0., 0.), (0., 0., 0.), (0., 0., 0.), (0., 0., 0.),\n",
       "     (0., 0., 0.), (0., 0., 0.), (0., 0., 0.), (0., 0., 0.), (0., 0., 0.),\n",
       "     (0., 0., 0.), (0., 0., 0.), (0., 0., 0.), (0., 0., 0.), (0., 0., 0.),\n",
       "     (0., 0., 0.), (0., 0., 0.), (0., 0., 0.), (0., 0., 0.), (0., 0., 0.)]>"
      ]
     },
     "execution_count": 139,
     "metadata": {},
     "output_type": "execute_result"
    }
   ],
   "source": [
    "mars.cartesian - mars.cartesian"
   ]
  },
  {
   "cell_type": "code",
   "execution_count": 140,
   "metadata": {},
   "outputs": [
    {
     "data": {
      "text/plain": [
       "100"
      ]
     },
     "execution_count": 140,
     "metadata": {},
     "output_type": "execute_result"
    }
   ],
   "source": [
    "len(mars)"
   ]
  },
  {
   "cell_type": "code",
   "execution_count": 143,
   "metadata": {},
   "outputs": [
    {
     "data": {
      "text/plain": [
       "array([287.24840317, 288.34389979, 289.43727037, 290.52839533,\n",
       "       291.61716072, 292.70345848, 293.78718681, 294.86825064,\n",
       "       295.94656229, 297.02204224, 298.09461996, 299.1642346 ,\n",
       "       300.23083512, 301.2943795 , 302.35483309, 303.412166  ,\n",
       "       304.4663506 , 305.51735942, 306.56516412, 307.60973542,\n",
       "       308.65104369, 309.68905978, 310.72375592, 311.75510642,\n",
       "       312.78308822, 313.80768134, 314.82886918, 315.8466388 ,\n",
       "       316.86098115, 317.87189135, 318.87936883, 319.88341754,\n",
       "       320.8840461 , 321.88126789, 322.87510124, 323.86556965,\n",
       "       324.85270205, 325.8365334 , 326.81710521, 327.79446635,\n",
       "       328.76867357, 329.73979152, 330.70789202, 331.67305219,\n",
       "       332.63535197, 333.59487145, 334.55168884, 335.50587935,\n",
       "       336.45751503, 337.40666527, 338.35339748, 339.2977778 ,\n",
       "       340.23987166, 341.17974413, 342.11746024, 343.05308503,\n",
       "       343.98668376, 344.91832193, 345.84806553, 346.77598117,\n",
       "       347.70213632, 348.62659962, 349.54944115, 350.47073279,\n",
       "       351.39054864, 352.30896548, 353.22606343, 354.14192663,\n",
       "       355.05664401, 355.97030976, 356.88302341, 357.79488904,\n",
       "       358.70601368, 359.6165051 ,   0.5264695 ,   1.43600973,\n",
       "         2.34522426,   3.25420698,   4.16304755,   5.07183193,\n",
       "         5.98064292,   6.88956068,   7.79866295,   8.70802527,\n",
       "         9.617721  ,  10.52782133,  11.43839537,  12.34951017,\n",
       "        13.26123095,  14.17362141,  15.08674415,  16.00066117,\n",
       "        16.91543449,  17.83112681,  18.74780217,  19.66552672,\n",
       "        20.58436943,  21.50440262,  22.42570235,  23.34834814])"
      ]
     },
     "execution_count": 143,
     "metadata": {},
     "output_type": "execute_result"
    }
   ],
   "source": [
    "np.array(mars.ra)"
   ]
  },
  {
   "cell_type": "code",
   "execution_count": 180,
   "metadata": {},
   "outputs": [
    {
     "data": {
      "text/plain": [
       "[<matplotlib.lines.Line2D at 0x13f81c259b0>]"
      ]
     },
     "execution_count": 180,
     "metadata": {},
     "output_type": "execute_result"
    },
    {
     "data": {
      "image/png": "[encoded data removed]",
      "text/plain": [
       "<Figure size 432x288 with 1 Axes>"
      ]
     },
     "metadata": {
      "needs_background": "light"
     },
     "output_type": "display_data"
    }
   ],
   "source": [
    "X_dist_sun = load(open(\"Xdep.bin\", \"rb\"))\n",
    "y_sv = load(open(\"ydep.bin\", \"rb\"))\n",
    "plt.plot(X_dist_sun[\"jupiter\"]**(-2), y_sv[\"jupiter\"], \"o\")"
   ]
  },
  {
   "cell_type": "code",
   "execution_count": 169,
   "metadata": {},
   "outputs": [
    {
     "data": {
      "text/plain": [
       "array([5.        , 5.11111111, 5.22222222, 5.33333333, 5.44444444,\n",
       "       5.55555556, 5.66666667, 5.77777778, 5.88888889, 6.        ])"
      ]
     },
     "execution_count": 169,
     "metadata": {},
     "output_type": "execute_result"
    }
   ],
   "source": [
    "5 + np.linspace(0,1,10)"
   ]
  },
  {
   "cell_type": "code",
   "execution_count": 201,
   "metadata": {},
   "outputs": [
    {
     "ename": "NameError",
     "evalue": "name 'astropy' is not defined",
     "output_type": "error",
     "traceback": [
      "\u001b[1;31m---------------------------------------------------------------------------\u001b[0m",
      "\u001b[1;31mNameError\u001b[0m                                 Traceback (most recent call last)",
      "\u001b[1;32m<ipython-input-201-a13919961efe>\u001b[0m in \u001b[0;36m<module>\u001b[1;34m\u001b[0m\n\u001b[1;32m----> 1\u001b[1;33m \u001b[0mastropy\u001b[0m\u001b[1;33m.\u001b[0m\u001b[0m__citation__\u001b[0m\u001b[1;33m\u001b[0m\u001b[1;33m\u001b[0m\u001b[0m\n\u001b[0m",
      "\u001b[1;31mNameError\u001b[0m: name 'astropy' is not defined"
     ]
    }
   ],
   "source": [
    "astropy.__citation__"
   ]
  },
  {
   "cell_type": "code",
   "execution_count": 202,
   "metadata": {},
   "outputs": [
    {
     "data": {
      "text/plain": [
       "'@ARTICLE{2018AJ....156..123T,\\n   author = {{The Astropy Collaboration} and {Price-Whelan}, A.~M. and {Sip{\\\\H o}cz}, B.~M. and \\n\\t{G{\\\\\"u}nther}, H.~M. and {Lim}, P.~L. and {Crawford}, S.~M. and \\n\\t{Conseil}, S. and {Shupe}, D.~L. and {Craig}, M.~W. and {Dencheva}, N. and \\n\\t{Ginsburg}, A. and {VanderPlas}, J.~T. and {Bradley}, L.~D. and \\n\\t{P{\\\\\\'e}rez-Su{\\\\\\'a}rez}, D. and {de Val-Borro}, M. and {Paper Contributors}, (. and \\n\\t{Aldcroft}, T.~L. and {Cruz}, K.~L. and {Robitaille}, T.~P. and \\n\\t{Tollerud}, E.~J. and {Coordination Committee}, (. and {Ardelean}, C. and \\n\\t{Babej}, T. and {Bach}, Y.~P. and {Bachetti}, M. and {Bakanov}, A.~V. and \\n\\t{Bamford}, S.~P. and {Barentsen}, G. and {Barmby}, P. and {Baumbach}, A. and \\n\\t{Berry}, K.~L. and {Biscani}, F. and {Boquien}, M. and {Bostroem}, K.~A. and \\n\\t{Bouma}, L.~G. and {Brammer}, G.~B. and {Bray}, E.~M. and {Breytenbach}, H. and \\n\\t{Buddelmeijer}, H. and {Burke}, D.~J. and {Calderone}, G. and \\n\\t{Cano Rodr{\\\\\\'{\\\\i}}guez}, J.~L. and {Cara}, M. and {Cardoso}, J.~V.~M. and \\n\\t{Cheedella}, S. and {Copin}, Y. and {Corrales}, L. and {Crichton}, D. and \\n\\t{D{\\\\rsquo}Avella}, D. and {Deil}, C. and {Depagne}, {\\\\\\'E}. and \\n\\t{Dietrich}, J.~P. and {Donath}, A. and {Droettboom}, M. and \\n\\t{Earl}, N. and {Erben}, T. and {Fabbro}, S. and {Ferreira}, L.~A. and \\n\\t{Finethy}, T. and {Fox}, R.~T. and {Garrison}, L.~H. and {Gibbons}, S.~L.~J. and \\n\\t{Goldstein}, D.~A. and {Gommers}, R. and {Greco}, J.~P. and \\n\\t{Greenfield}, P. and {Groener}, A.~M. and {Grollier}, F. and \\n\\t{Hagen}, A. and {Hirst}, P. and {Homeier}, D. and {Horton}, A.~J. and \\n\\t{Hosseinzadeh}, G. and {Hu}, L. and {Hunkeler}, J.~S. and {Ivezi{\\\\\\'c}}, {\\\\v Z}. and \\n\\t{Jain}, A. and {Jenness}, T. and {Kanarek}, G. and {Kendrew}, S. and \\n\\t{Kern}, N.~S. and {Kerzendorf}, W.~E. and {Khvalko}, A. and \\n\\t{King}, J. and {Kirkby}, D. and {Kulkarni}, A.~M. and {Kumar}, A. and \\n\\t{Lee}, A. and {Lenz}, D. and {Littlefair}, S.~P. and {Ma}, Z. and \\n\\t{Macleod}, D.~M. and {Mastropietro}, M. and {McCully}, C. and \\n\\t{Montagnac}, S. and {Morris}, B.~M. and {Mueller}, M. and {Mumford}, S.~J. and \\n\\t{Muna}, D. and {Murphy}, N.~A. and {Nelson}, S. and {Nguyen}, G.~H. and \\n\\t{Ninan}, J.~P. and {N{\\\\\"o}the}, M. and {Ogaz}, S. and {Oh}, S. and \\n\\t{Parejko}, J.~K. and {Parley}, N. and {Pascual}, S. and {Patil}, R. and \\n\\t{Patil}, A.~A. and {Plunkett}, A.~L. and {Prochaska}, J.~X. and \\n\\t{Rastogi}, T. and {Reddy Janga}, V. and {Sabater}, J. and {Sakurikar}, P. and \\n\\t{Seifert}, M. and {Sherbert}, L.~E. and {Sherwood-Taylor}, H. and \\n\\t{Shih}, A.~Y. and {Sick}, J. and {Silbiger}, M.~T. and {Singanamalla}, S. and \\n\\t{Singer}, L.~P. and {Sladen}, P.~H. and {Sooley}, K.~A. and \\n\\t{Sornarajah}, S. and {Streicher}, O. and {Teuben}, P. and {Thomas}, S.~W. and \\n\\t{Tremblay}, G.~R. and {Turner}, J.~E.~H. and {Terr{\\\\\\'o}n}, V. and \\n\\t{van Kerkwijk}, M.~H. and {de la Vega}, A. and {Watkins}, L.~L. and \\n\\t{Weaver}, B.~A. and {Whitmore}, J.~B. and {Woillez}, J. and \\n\\t{Zabalza}, V. and {Contributors}, (.},\\n    title = \"{The Astropy Project: Building an Open-science Project and Status of the v2.0 Core Package}\",\\n  journal = {\\\\aj},\\narchivePrefix = \"arXiv\",\\n   eprint = {1801.02634},\\n primaryClass = \"astro-ph.IM\",\\n keywords = {methods: data analysis, methods: miscellaneous, methods: statistical, reference systems },\\n     year = 2018,\\n    month = sep,\\n   volume = 156,\\n      eid = {123},\\n    pages = {123},\\n      doi = {10.3847/1538-3881/aabc4f},\\n   adsurl = {http://adsabs.harvard.edu/abs/2018AJ....156..123T},\\n  adsnote = {Provided by the SAO/NASA Astrophysics Data System}\\n}\\n\\n'"
      ]
     },
     "execution_count": 202,
     "metadata": {},
     "output_type": "execute_result"
    }
   ],
   "source": [
    "import astropy\n",
    "astropy.__citation__"
   ]
  },
  {
   "cell_type": "code",
   "execution_count": null,
   "metadata": {},
   "outputs": [],
   "source": []
  }
 ],
 "metadata": {
  "kernelspec": {
   "display_name": "Python 3",
   "language": "python",
   "name": "python3"
  },
  "language_info": {
   "codemirror_mode": {
    "name": "ipython",
    "version": 3
   },
   "file_extension": ".py",
   "mimetype": "text/x-python",
   "name": "python",
   "nbconvert_exporter": "python",
   "pygments_lexer": "ipython3",
   "version": "3.7.3"
  }
 },
 "nbformat": 4,
 "nbformat_minor": 2
}
